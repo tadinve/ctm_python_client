{
  "nbformat": 4,
  "nbformat_minor": 2,
  "metadata": {
    "colab": {
      "name": "Demo Naga0.2 01 - HelloWorld.ipynb",
      "provenance": [],
      "collapsed_sections": [
        "9PBDYvbtwWfL"
      ]
    },
    "kernelspec": {
      "name": "python3",
      "display_name": "Python 3.8.2 64-bit ('venv': venv)"
    },
    "language_info": {
      "name": "python",
      "version": "3.8.2",
      "mimetype": "text/x-python",
      "codemirror_mode": {
        "name": "ipython",
        "version": 3
      },
      "pygments_lexer": "ipython3",
      "nbconvert_exporter": "python",
      "file_extension": ".py"
    },
    "interpreter": {
      "hash": "0acf5e98f0d0e19783fbfe4e74c866635b65b3ca578adc3721d8cbd623aa3da4"
    }
  },
  "cells": [
    {
      "cell_type": "markdown",
      "source": [
        "# Demo: Defining Control_M Workflows using Python"
      ],
      "metadata": {
        "id": "iCm2sd89tOdP"
      }
    },
    {
      "cell_type": "markdown",
      "source": [
        "# Step 1 - Setup"
      ],
      "metadata": {
        "id": "dornvvu0tYxj"
      }
    },
    {
      "cell_type": "markdown",
      "source": [
        "## Step 1A - Install the library"
      ],
      "metadata": {
        "id": "GKkmksYi1-Kn"
      }
    },
    {
      "cell_type": "code",
      "execution_count": 8,
      "source": [
        "# This command needs to be done only once. This installs the library\n",
        "#!pip  install git+https://github.com/tadinve/naga.git"
      ],
      "outputs": [],
      "metadata": {
        "id": "tGkmx1hcumAU",
        "colab": {
          "base_uri": "https://localhost:8080/"
        },
        "outputId": "8554d511-29ac-4d14-d7f2-1e11e89c46ff"
      }
    },
    {
      "cell_type": "code",
      "execution_count": 9,
      "source": [
        "import os, sys\n",
        "cwd = os.getcwd()\n",
        "module_path = cwd.split(\"/\")\n",
        "mp = []\n",
        "for d in module_path:\n",
        "    mp.append(d)\n",
        "    if d == \"ctm_python_client\":\n",
        "        break\n",
        "module_path = \"/\".join(mp)\n",
        "module_path\n"
      ],
      "outputs": [
        {
          "output_type": "execute_result",
          "data": {
            "text/plain": [
              "'/Users/vtadinad/Documents/PythonProjects/ctm_python_client'"
            ]
          },
          "metadata": {},
          "execution_count": 9
        }
      ],
      "metadata": {}
    },
    {
      "cell_type": "code",
      "execution_count": 10,
      "source": [
        "sys.path.append(module_path)\n",
        "sys.path"
      ],
      "outputs": [
        {
          "output_type": "execute_result",
          "data": {
            "text/plain": [
              "['/Users/vtadinad/Documents/PythonProjects/ctm_python_client/examples/notebooks',\n",
              " '/Users/vtadinad/.vscode/extensions/ms-toolsai.jupyter-2021.8.1236758218/pythonFiles',\n",
              " '/Users/vtadinad/.vscode/extensions/ms-toolsai.jupyter-2021.8.1236758218/pythonFiles/lib/python',\n",
              " '/Library/Developer/CommandLineTools/Library/Frameworks/Python3.framework/Versions/3.8/lib/python38.zip',\n",
              " '/Library/Developer/CommandLineTools/Library/Frameworks/Python3.framework/Versions/3.8/lib/python3.8',\n",
              " '/Library/Developer/CommandLineTools/Library/Frameworks/Python3.framework/Versions/3.8/lib/python3.8/lib-dynload',\n",
              " '',\n",
              " '/Users/vtadinad/Documents/PythonProjects/ctm_python_client/venv/lib/python3.8/site-packages',\n",
              " '/Users/vtadinad/Documents/PythonProjects/ctm_python_client/venv/lib/python3.8/site-packages/IPython/extensions',\n",
              " '/Users/vtadinad/.ipython',\n",
              " '/Users/vtadinad/Documents/PythonProjects/ctm_python_client',\n",
              " '/Users/vtadinad/Documents/PythonProjects/ctm_python_client',\n",
              " '/Users/vtadinad/Documents/PythonProjects/ctm_python_client']"
            ]
          },
          "metadata": {},
          "execution_count": 10
        }
      ],
      "metadata": {}
    },
    {
      "cell_type": "markdown",
      "source": [
        "## Step 1B- Import the library"
      ],
      "metadata": {
        "id": "dIc3LSK62Cos"
      }
    },
    {
      "cell_type": "code",
      "execution_count": 11,
      "source": [
        "from ctm_python_client.core.bmc_control_m import CmJobFlow\n",
        "from ctm_python_client.jobs.dummy import DummyJob"
      ],
      "outputs": [],
      "metadata": {
        "id": "6iwRhegFtcXJ"
      }
    },
    {
      "cell_type": "markdown",
      "source": [
        "# Step 2 - Instantiate, Authenticate and Schedule\n"
      ],
      "metadata": {
        "id": "TfK9UygIu3Qg"
      }
    },
    {
      "cell_type": "markdown",
      "source": [
        "## Step 2A - Create the object"
      ],
      "metadata": {
        "id": "N6CwrQJ5Lxz1"
      }
    },
    {
      "cell_type": "code",
      "execution_count": 12,
      "source": [
        "# Please change the URfrI, and ctm_user and enter ctm_password to match your environment\n",
        "from ctm_python_client.session.session import Session\n",
        "\n",
        "import getpass\n",
        "ctm_uri =  \"https://acb-rhctmv20.centralus.cloudapp.azure.com:8443/automation-api\"\n",
        "ctm_user =  \"vtadinad\"\n",
        "ctm_pwd =                                                                                                                                               \"P4ssw0rd\"\n",
        "if \"ctm_pwd\" not in locals(): # has not been enterd once, will skip next time\n",
        "    ctm_pwd = getpass.getpass(\"Enter your Control M Password \")\n",
        "\n",
        "session = Session( endpoint=ctm_uri,username=ctm_user,password=ctm_pwd)\n",
        "session.get_token()"
      ],
      "outputs": [
        {
          "output_type": "execute_result",
          "data": {
            "text/plain": [
              "'3AFC1808F7AAA30278EF72D5329A0A3BD64532053FD615990FC005159E189DE719B0A3C6B542016383DF89628068749BBBE149801B03F697C78EC84AE95FC7A1'"
            ]
          },
          "metadata": {},
          "execution_count": 12
        }
      ],
      "metadata": {
        "id": "FDszp8dtRJi_",
        "colab": {
          "base_uri": "https://localhost:8080/",
          "height": 35
        },
        "outputId": "703ac9a8-eb2e-4840-bfc1-10d62fa4315f"
      }
    },
    {
      "cell_type": "code",
      "execution_count": 13,
      "source": [
        "t1_flow = CmJobFlow(application=\"Naga0.2_Demo\",sub_application=\"Demo-02\",session=session)"
      ],
      "outputs": [],
      "metadata": {
        "id": "vI4PTJddLxz1"
      }
    },
    {
      "cell_type": "markdown",
      "source": [
        "## Step 2B - Define the Schedule"
      ],
      "metadata": {
        "id": "k7HfewL42f18"
      }
    },
    {
      "cell_type": "code",
      "execution_count": 14,
      "source": [
        "t1_flow.set_run_as(username=\"ctmuser\",host=\"acb-rhctmv20\")"
      ],
      "outputs": [],
      "metadata": {
        "id": "PW4yoM6b-2v2"
      }
    },
    {
      "cell_type": "code",
      "execution_count": 15,
      "source": [
        "# Define the schedule\n",
        "months = [\"JAN\", \"OCT\", \"DEC\"]\n",
        "monthDays = [\"ALL\"]\n",
        "weekDays = [\"MON\",\"TUE\", \"WED\", \"THU\", \"FRI\"]\n",
        "fromTime = \"0300\"\n",
        "toTime = \"2100\"\n",
        "t1_flow.set_schedule(months, monthDays, weekDays,fromTime, toTime)\n"
      ],
      "outputs": [],
      "metadata": {
        "id": "qMVzFXekvSTy"
      }
    },
    {
      "cell_type": "markdown",
      "source": [
        "# Step 3  - Create Folder"
      ],
      "metadata": {
        "id": "9PBDYvbtwWfL"
      }
    },
    {
      "cell_type": "code",
      "execution_count": 16,
      "source": [
        "# Create Fodler\n",
        "f1 = t1_flow.create_folder(name=\"HelloWorld\")"
      ],
      "outputs": [],
      "metadata": {
        "id": "7MQ5so2gwWK1"
      }
    },
    {
      "cell_type": "markdown",
      "source": [
        "# Step 4 - Create Tasks"
      ],
      "metadata": {
        "id": "dLGmvMkuwdMW"
      }
    },
    {
      "cell_type": "code",
      "execution_count": 17,
      "source": [
        "start = t1_flow.add_job( f1, DummyJob(f1,\"Start-Flow\") )\n",
        "end = t1_flow.add_job(f1, DummyJob(f1,\"End-Flow\") )\n",
        "\n",
        "hello_world_id = t1_flow.add_job(f1,  DummyJob(f1, \"Hello-World\" ) )\n"
      ],
      "outputs": [],
      "metadata": {
        "id": "shpuP7_fwiNP"
      }
    },
    {
      "cell_type": "markdown",
      "source": [
        "# Step 5 - Chain Tasks"
      ],
      "metadata": {
        "id": "8uRR5vGWx-9Q"
      }
    },
    {
      "cell_type": "code",
      "execution_count": 18,
      "source": [
        "# start >>  hello_world_id >> end\n",
        "t1_flow.chain_jobs(f1,[start, hello_world_id, end])"
      ],
      "outputs": [
        {
          "output_type": "stream",
          "name": "stdout",
          "text": [
            "['Start-Flow', 'End-Flow', 'Hello-World']\n",
            "['0', '2', '1']\n"
          ]
        }
      ],
      "metadata": {
        "id": "oiaQR99LPIVm",
        "colab": {
          "base_uri": "https://localhost:8080/"
        },
        "outputId": "11c0cf22-ad56-401e-82d5-14fe7121b2bc"
      }
    },
    {
      "cell_type": "markdown",
      "source": [
        "# Step 6 - Display Workflow"
      ],
      "metadata": {
        "id": "QrQo_1Q4yG-7"
      }
    },
    {
      "cell_type": "markdown",
      "source": [
        "## Step 6A - Display DAG"
      ],
      "metadata": {
        "id": "Mn5OvXGuydlJ"
      }
    },
    {
      "cell_type": "code",
      "execution_count": 19,
      "source": [
        "# View the t1_flow Details\n",
        "nodes, edges = t1_flow.get_nodes_and_edges()\n",
        "nodes, edges"
      ],
      "outputs": [
        {
          "output_type": "execute_result",
          "data": {
            "text/plain": [
              "(['Start-Flow', 'End-Flow', 'Hello-World'],\n",
              " [('Start-Flow', 'Hello-World'), ('Hello-World', 'End-Flow')])"
            ]
          },
          "metadata": {},
          "execution_count": 19
        }
      ],
      "metadata": {
        "id": "m8vAW424yWXb",
        "colab": {
          "base_uri": "https://localhost:8080/"
        },
        "outputId": "b46ecabb-7ae5-4b52-d7bb-8362d80b3dd5"
      }
    },
    {
      "cell_type": "code",
      "execution_count": 24,
      "source": [
        "#display using graphviz\n",
        "from ctm_python_client.utils.displayDAG import DisplayDAG\n",
        "\n",
        "DisplayDAG(t1_flow).display_graphviz()"
      ],
      "outputs": [
        {
          "output_type": "error",
          "ename": "ModuleNotFoundError",
          "evalue": "No module named 'graphviz'",
          "traceback": [
            "\u001b[0;31m---------------------------------------------------------------------------\u001b[0m",
            "\u001b[0;31mModuleNotFoundError\u001b[0m                       Traceback (most recent call last)",
            "\u001b[0;32m/var/folders/jf/ly2qhjns6yn6j46t3rdms2qw0000gp/T/ipykernel_8455/1735983526.py\u001b[0m in \u001b[0;36m<module>\u001b[0;34m\u001b[0m\n\u001b[1;32m      1\u001b[0m \u001b[0;31m#display using graphviz\u001b[0m\u001b[0;34m\u001b[0m\u001b[0;34m\u001b[0m\u001b[0;34m\u001b[0m\u001b[0m\n\u001b[0;32m----> 2\u001b[0;31m \u001b[0;32mfrom\u001b[0m \u001b[0mctm_python_client\u001b[0m\u001b[0;34m.\u001b[0m\u001b[0mutils\u001b[0m\u001b[0;34m.\u001b[0m\u001b[0mdisplayDAG\u001b[0m \u001b[0;32mimport\u001b[0m \u001b[0mDisplayDAG\u001b[0m\u001b[0;34m\u001b[0m\u001b[0;34m\u001b[0m\u001b[0m\n\u001b[0m\u001b[1;32m      3\u001b[0m \u001b[0;34m\u001b[0m\u001b[0m\n\u001b[1;32m      4\u001b[0m \u001b[0mDisplayDAG\u001b[0m\u001b[0;34m(\u001b[0m\u001b[0mt1_flow\u001b[0m\u001b[0;34m)\u001b[0m\u001b[0;34m.\u001b[0m\u001b[0mdisplay_graphviz\u001b[0m\u001b[0;34m(\u001b[0m\u001b[0;34m)\u001b[0m\u001b[0;34m\u001b[0m\u001b[0;34m\u001b[0m\u001b[0m\n",
            "\u001b[0;32m~/Documents/PythonProjects/ctm_python_client/ctm_python_client/utils/displayDAG.py\u001b[0m in \u001b[0;36m<module>\u001b[0;34m\u001b[0m\n\u001b[1;32m      1\u001b[0m \u001b[0;32mfrom\u001b[0m \u001b[0mctm_python_client\u001b[0m\u001b[0;34m.\u001b[0m\u001b[0mcore\u001b[0m\u001b[0;34m.\u001b[0m\u001b[0mbmc_control_m\u001b[0m \u001b[0;32mimport\u001b[0m \u001b[0mCmJobFlow\u001b[0m\u001b[0;34m\u001b[0m\u001b[0;34m\u001b[0m\u001b[0m\n\u001b[0;32m----> 2\u001b[0;31m \u001b[0;32mfrom\u001b[0m \u001b[0mgraphviz\u001b[0m \u001b[0;32mimport\u001b[0m \u001b[0mDigraph\u001b[0m\u001b[0;34m\u001b[0m\u001b[0;34m\u001b[0m\u001b[0m\n\u001b[0m\u001b[1;32m      3\u001b[0m \u001b[0;34m\u001b[0m\u001b[0m\n\u001b[1;32m      4\u001b[0m \u001b[0;32mclass\u001b[0m \u001b[0mDisplayDAG\u001b[0m\u001b[0;34m:\u001b[0m\u001b[0;34m\u001b[0m\u001b[0;34m\u001b[0m\u001b[0m\n\u001b[1;32m      5\u001b[0m \u001b[0;34m\u001b[0m\u001b[0m\n",
            "\u001b[0;31mModuleNotFoundError\u001b[0m: No module named 'graphviz'"
          ]
        }
      ],
      "metadata": {
        "id": "PZ32Fm6GHLqd"
      }
    },
    {
      "cell_type": "markdown",
      "source": [
        "## Step 6B - Display JSON"
      ],
      "metadata": {
        "id": "X3gtVE7sykA2"
      }
    },
    {
      "cell_type": "code",
      "execution_count": 21,
      "source": [
        "t1_flow.display_json()"
      ],
      "outputs": [
        {
          "output_type": "stream",
          "name": "stdout",
          "text": [
            "{\n",
            "    \"Defaults\": {\n",
            "        \"Application\": \"Naga0.2_Demo\",\n",
            "        \"SubApplication\": \"Demo-02\",\n",
            "        \"RunAs\": \"ctmuser\",\n",
            "        \"Host\": \"acb-rhctmv20\",\n",
            "        \"When\": {\n",
            "            \"Months\": [\n",
            "                \"JAN\",\n",
            "                \"OCT\",\n",
            "                \"DEC\"\n",
            "            ],\n",
            "            \"MonthDays\": [\n",
            "                \"ALL\"\n",
            "            ],\n",
            "            \"WeekDays\": [\n",
            "                \"MON\",\n",
            "                \"TUE\",\n",
            "                \"WED\",\n",
            "                \"THU\",\n",
            "                \"FRI\"\n",
            "            ],\n",
            "            \"FromTime\": \"0300\",\n",
            "            \"ToTime\": \"2100\"\n",
            "        }\n",
            "    },\n",
            "    \"HelloWorld\": {\n",
            "        \"Type\": \"Folder\",\n",
            "        \"Start-Flow\": {\n",
            "            \"Type\": \"Job:Dummy\"\n",
            "        },\n",
            "        \"End-Flow\": {\n",
            "            \"Type\": \"Job:Dummy\"\n",
            "        },\n",
            "        \"Hello-World\": {\n",
            "            \"Type\": \"Job:Dummy\"\n",
            "        },\n",
            "        \"Flow1\": {\n",
            "            \"Type\": \"Flow\",\n",
            "            \"Sequence\": [\n",
            "                \"Start-Flow\",\n",
            "                \"Hello-World\",\n",
            "                \"End-Flow\"\n",
            "            ]\n",
            "        }\n",
            "    }\n",
            "}\n"
          ]
        }
      ],
      "metadata": {
        "id": "5XojggPS34rE",
        "colab": {
          "base_uri": "https://localhost:8080/"
        },
        "outputId": "7e044bbf-d412-4d89-f6b9-f923fb32bd8f"
      }
    },
    {
      "cell_type": "markdown",
      "source": [
        "# Step 7 - Submit Workflow to Control-M"
      ],
      "metadata": {
        "id": "hBqW_iV2yKcW"
      }
    },
    {
      "cell_type": "code",
      "execution_count": 22,
      "source": [
        "t1_flow.deploy()"
      ],
      "outputs": [
        {
          "output_type": "stream",
          "name": "stdout",
          "text": [
            "[{'deployed_calendars': None,\n",
            " 'deployed_connection_profiles': None,\n",
            " 'deployed_drivers': None,\n",
            " 'deployed_folders': ['HelloWorld'],\n",
            " 'deployed_jobs': None,\n",
            " 'deployment_file': 'jobs.json',\n",
            " 'errors': None,\n",
            " 'is_deploy_descriptor_valid': False,\n",
            " 'successful_calendars_count': None,\n",
            " 'successful_connection_profiles_count': 0,\n",
            " 'successful_drivers_count': 0,\n",
            " 'successful_folders_count': 0,\n",
            " 'successful_jobs_count': 3,\n",
            " 'successful_smart_folders_count': 1,\n",
            " 'successful_sub_folders_count': 0,\n",
            " 'warnings': None}]\n",
            "Successfully submitted to Control-M\n",
            "Login to None/ControlM/ and use your workflow\n"
          ]
        },
        {
          "output_type": "execute_result",
          "data": {
            "text/plain": [
              "True"
            ]
          },
          "metadata": {},
          "execution_count": 22
        }
      ],
      "metadata": {
        "id": "LNFCqGbpt-J1",
        "colab": {
          "base_uri": "https://localhost:8080/"
        },
        "outputId": "146f4413-71f6-48cf-cad6-9a8cd7a2e723"
      }
    },
    {
      "cell_type": "code",
      "execution_count": 23,
      "source": [
        "t1_flow.run()"
      ],
      "outputs": [
        {
          "output_type": "stream",
          "name": "stdout",
          "text": [
            "{'monitor_page_uri': None,\n",
            " 'run_id': '26bd15df-8866-4aed-abc5-afaa2957035e',\n",
            " 'status_uri': 'https://acb-rhctmv20.centralus.cloudapp.azure.com:8443/automation-api/run/status/26bd15df-8866-4aed-abc5-afaa2957035e'}\n",
            "Successfully Run job on Control-M\n",
            "Login to None/ControlM/ and use your workflow\n"
          ]
        },
        {
          "output_type": "execute_result",
          "data": {
            "text/plain": [
              "True"
            ]
          },
          "metadata": {},
          "execution_count": 23
        }
      ],
      "metadata": {
        "id": "fP-WxlpJgtPW",
        "colab": {
          "base_uri": "https://localhost:8080/"
        },
        "outputId": "dd7e02b3-6e94-43b2-b0a6-ab115eb857c4"
      }
    },
    {
      "cell_type": "code",
      "execution_count": null,
      "source": [],
      "outputs": [],
      "metadata": {
        "id": "3NzmdbQovSVH"
      }
    }
  ]
}