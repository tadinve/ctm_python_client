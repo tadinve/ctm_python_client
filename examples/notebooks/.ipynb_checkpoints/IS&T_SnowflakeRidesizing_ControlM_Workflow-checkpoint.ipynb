{
 "cells": [
  {
   "cell_type": "markdown",
   "metadata": {
    "id": "iCm2sd89tOdP"
   },
   "source": [
    "# SnowFlake Right Sizing-  Workflows in Control-M using Python"
   ]
  },
  {
   "cell_type": "markdown",
   "metadata": {
    "id": "DoPcuCZbLxzx"
   },
   "source": [
    "# Step 1 - Setup"
   ]
  },
  {
   "cell_type": "markdown",
   "metadata": {
    "id": "ut9yozs5Lxzx"
   },
   "source": [
    "## Step 1A - Install the library"
   ]
  },
  {
   "cell_type": "code",
   "execution_count": 1,
   "metadata": {},
   "outputs": [],
   "source": [
    "import ctm_python_client as ctm"
   ]
  },
  {
   "cell_type": "markdown",
   "metadata": {
    "id": "yGHx4IYxLxzy"
   },
   "source": [
    "## Step 1B- Import the library"
   ]
  },
  {
   "cell_type": "code",
   "execution_count": 2,
   "metadata": {
    "id": "CyQ0acsVLxz0"
   },
   "outputs": [],
   "source": [
    "from ctm_python_client.core.bmc_control_m import CmJobFlow\n",
    "from ctm_python_client.jobs.dummy import DummyJob\n",
    "from ctm_python_client.jobs.command import CommandJob \n",
    "from ctm_python_client.jobs.informatica import InformaticaJob"
   ]
  },
  {
   "cell_type": "markdown",
   "metadata": {
    "id": "dAeCcTuqLxz1"
   },
   "source": [
    "# Step 2 - Instantiate, Authenticate and Schedule\n"
   ]
  },
  {
   "cell_type": "markdown",
   "metadata": {
    "id": "N6CwrQJ5Lxz1"
   },
   "source": [
    "## Step 2A - Create the object"
   ]
  },
  {
   "cell_type": "code",
   "execution_count": 3,
   "metadata": {
    "id": "vI4PTJddLxz1"
   },
   "outputs": [],
   "source": [
    "t1_flow = CmJobFlow(application=\"ctm_python_client-Demo\",sub_application=\"IS&T\")"
   ]
  },
  {
   "cell_type": "markdown",
   "metadata": {
    "id": "m5KkJoKOLxz2"
   },
   "source": [
    "## Step 2B - Authenticate to Control-M"
   ]
  },
  {
   "cell_type": "code",
   "execution_count": 4,
   "metadata": {
    "colab": {
     "base_uri": "https://localhost:8080/",
     "height": 52
    },
    "id": "FDszp8dtRJi_",
    "outputId": "065439fe-666d-4648-e766-79d864884d59"
   },
   "outputs": [
    {
     "name": "stdout",
     "output_type": "stream",
     "text": [
      "Enter your Control M Password ········\n"
     ]
    },
    {
     "data": {
      "text/plain": [
       "'486D4F56DBFECF1EF79A8EED27033BEF5CA5177FD6A43F524EE5612F10B5AE11EEE6F04F2A862C901749907A784A33A13FDE24B104000E04772BED02E73F435E'"
      ]
     },
     "execution_count": 4,
     "metadata": {},
     "output_type": "execute_result"
    }
   ],
   "source": [
    "from ctm_python_client.session.session import Session\n",
    "\n",
    "import getpass\n",
    "ctm_uri =  \"https://acb-rhctmv20.centralus.cloudapp.azure.com:8443/automation-api\"\n",
    "ctm_user =  \"vtadinad\"\n",
    "\n",
    "if \"ctm_pwd\" not in locals(): # has not been enterd once, will skip next time\n",
    "    ctm_pwd = getpass.getpass(\"Enter your Control M Password \")\n",
    "ctm_pwd = \"P4ssw0rd\"\n",
    "session = Session( endpoint=ctm_uri,username=ctm_user,password=ctm_pwd)\n",
    "session.get_token()                                                                                                           "
   ]
  },
  {
   "cell_type": "code",
   "execution_count": 5,
   "metadata": {
    "id": "tC8SyHsELxz2"
   },
   "outputs": [],
   "source": [
    "t1_flow = CmJobFlow(application=\"Naga0.3\",sub_application=\"Customer-Zero\",session=session)"
   ]
  },
  {
   "cell_type": "markdown",
   "metadata": {
    "id": "V0W2AyTfLxz3"
   },
   "source": [
    "## Step 2C - Define the Flow Level Defaults"
   ]
  },
  {
   "cell_type": "markdown",
   "metadata": {
    "id": "_utT9DJoMQhp"
   },
   "source": [
    "### Default run_ass and host"
   ]
  },
  {
   "cell_type": "code",
   "execution_count": 6,
   "metadata": {
    "id": "fG-91vpSLxz3"
   },
   "outputs": [],
   "source": [
    "t1_flow.set_run_as(username=\"ctmuser\",host=\"acb-rhctmv20\")"
   ]
  },
  {
   "cell_type": "markdown",
   "metadata": {
    "id": "N6KCyDbdMf3U"
   },
   "source": [
    "### Define Default Schedule"
   ]
  },
  {
   "cell_type": "code",
   "execution_count": 7,
   "metadata": {
    "id": "95fNVji_Lxz3"
   },
   "outputs": [],
   "source": [
    "# Define the schedule\n",
    "monthDays = [\"ALL\"]\n",
    "fromTime = \"0001\"\n",
    "t1_flow.set_schedule( month_days=monthDays, from_time=fromTime)\n"
   ]
  },
  {
   "cell_type": "markdown",
   "metadata": {
    "id": "64lRLOhPLxz3"
   },
   "source": [
    "# Step 3  - Folder"
   ]
  },
  {
   "cell_type": "markdown",
   "metadata": {
    "id": "woDsVvKSjPUG"
   },
   "source": [
    "## Step 3A - Create Folder"
   ]
  },
  {
   "cell_type": "code",
   "execution_count": 8,
   "metadata": {
    "id": "WTQEwKJ_Lxz4"
   },
   "outputs": [],
   "source": [
    "# Create Folder\n",
    "f1 = t1_flow.create_folder(name=\"SnowFlakeRightSizing\")"
   ]
  },
  {
   "cell_type": "markdown",
   "metadata": {
    "id": "n0S1Jf5GMjbS"
   },
   "source": [
    "### Step 3B - Define Variables"
   ]
  },
  {
   "cell_type": "code",
   "execution_count": 9,
   "metadata": {
    "id": "Q_srMa3WMoGF"
   },
   "outputs": [],
   "source": [
    "#appid is the weather api token, you obtained during setup\n",
    "# variables = [ { \"appid\" : \"481be8b9210a09cc3a3bcdcf190a3aa8\"}, \n",
    "#               { \"zipcode\" : \"68116\"}, \n",
    "#               { \"email\" : \"abaldwin@bmc.com\"} ]\n",
    "#t1_flow.add_variables(folder=f1, list_of_variables=variables)"
   ]
  },
  {
   "cell_type": "markdown",
   "metadata": {
    "id": "dLGmvMkuwdMW"
   },
   "source": [
    "# Step 4 - Create Tasks"
   ]
  },
  {
   "cell_type": "code",
   "execution_count": 10,
   "metadata": {
    "id": "shpuP7_fwiNP"
   },
   "outputs": [],
   "source": [
    "start = t1_flow.add_job(f1, DummyJob(folder= f1, job_name=\"StartFlow\"))\n",
    "end = t1_flow.add_job(f1, DummyJob(folder= f1, job_name=\"EndFlow\"))\n",
    "\n",
    "job_params = [{\"job_name\":\"Load_Size_Up\",\"workflow\":\"wfl_warehouse_resize_up\",\"from_time\":\"0001\"},\n",
    "              {\"job_name\":\"Rpt_Size_Up\",\"workflow\":\"wfl_rpt_warehouse_resize_up\",\"from_time\":\"0300\"},\n",
    "              {\"job_name\":\"UMDB_Size_Up\",\"workflow\":\"wfl_umdb_warehouse_resize_up\",\"from_time\":\"0500\"},\n",
    "              {\"job_name\":\"Load_Size_Down\",\"workflow\":\"wfl_warehouse_resize_down\",\"from_time\":\"0800\"},\n",
    "              {\"job_name\":\"Rpt_Size_Down\",\"workflow\":\"wfl_rpt_warehouse_resize_down\",\"from_time\":\"0900\"},\n",
    "              {\"job_name\":\"UMDB_Size_Down\",\"workflow\":\"wfl_umdb_warehouse_resize_down\",\"from_time\":\"1000\"},\n",
    "             ]\n",
    "\n",
    "#create jobs\n",
    "jobs = {}\n",
    "for j in job_params:\n",
    "    job = InformaticaJob(folder=f1, job_name=j[\"job_name\"], \n",
    "                                connection_profile = 'AWSINFAPRD',\n",
    "                                repository_folder = 'Repository_Admin',\n",
    "                                workflow = j[\"workflow\"],\n",
    "                                workflow_execution_mode = 'RunWholeWorkflow',\n",
    "                                workflow_restart_mode = 'Recover',\n",
    "                                enable_output = False,\n",
    "                                enable_error_details = False,\n",
    "                                priority = 'Very Low',\n",
    "                                host=\"AWSINFAPRD\", run_as=\"AWSINFAPRD\")\n",
    "    job.set_job_schedule(month_days = [\"ALL\"],from_time=j[\"from_time\"] )\n",
    "    jobs[j[\"job_name\"]] = t1_flow.add_job(f1,job)"
   ]
  },
  {
   "cell_type": "markdown",
   "metadata": {
    "id": "8uRR5vGWx-9Q"
   },
   "source": [
    "# Step 5 - Chain Tasks"
   ]
  },
  {
   "cell_type": "code",
   "execution_count": 11,
   "metadata": {
    "colab": {
     "base_uri": "https://localhost:8080/"
    },
    "id": "oiaQR99LPIVm",
    "outputId": "9c4aa95f-7fb3-4734-cbc6-2a9460ffb7a2"
   },
   "outputs": [
    {
     "name": "stdout",
     "output_type": "stream",
     "text": [
      "['StartFlow', 'EndFlow', 'Load_Size_Up', 'Rpt_Size_Up', 'UMDB_Size_Up', 'Load_Size_Down', 'Rpt_Size_Down', 'UMDB_Size_Down']\n",
      "['0', '2', '5', '1']\n",
      "['StartFlow', 'EndFlow', 'Load_Size_Up', 'Rpt_Size_Up', 'UMDB_Size_Up', 'Load_Size_Down', 'Rpt_Size_Down', 'UMDB_Size_Down']\n",
      "['0', '3', '6', '1']\n",
      "['StartFlow', 'EndFlow', 'Load_Size_Up', 'Rpt_Size_Up', 'UMDB_Size_Up', 'Load_Size_Down', 'Rpt_Size_Down', 'UMDB_Size_Down']\n",
      "['0', '4', '7', '1']\n"
     ]
    }
   ],
   "source": [
    "t1_flow.chain_jobs(f1,[start, jobs[\"Load_Size_Up\"], jobs[\"Load_Size_Down\"], end])\n",
    "t1_flow.chain_jobs(f1,[start, jobs[\"Rpt_Size_Up\"], jobs[\"Rpt_Size_Down\"], end])\n",
    "t1_flow.chain_jobs(f1,[start, jobs[\"UMDB_Size_Up\"], jobs[\"UMDB_Size_Down\"], end])\n",
    "\n",
    "\n"
   ]
  },
  {
   "cell_type": "markdown",
   "metadata": {
    "id": "QrQo_1Q4yG-7"
   },
   "source": [
    "# Step 6 - Display Workflow"
   ]
  },
  {
   "cell_type": "markdown",
   "metadata": {
    "id": "Mn5OvXGuydlJ"
   },
   "source": [
    "## Step 6A - Display DAG"
   ]
  },
  {
   "cell_type": "code",
   "execution_count": 12,
   "metadata": {},
   "outputs": [
    {
     "name": "stdout",
     "output_type": "stream",
     "text": [
      "=========== Jobflow Details ===================\n",
      "Application:  Naga0.3\n",
      "Sub Application:  Customer-Zero\n",
      "Folder Name: SnowFlakeRightSizing \n",
      "\n",
      "\n",
      "\n"
     ]
    }
   ],
   "source": [
    "from ctm_python_client.utils.displayDAG import DisplayDAG\n",
    "try:\n",
    "    d = DisplayDAG(t1_flow)\n",
    "    d.display_graphviz()\n",
    "except: #implies grpahviz not installed properly\n",
    "    t1_flow.display()"
   ]
  },
  {
   "cell_type": "code",
   "execution_count": 15,
   "metadata": {},
   "outputs": [
    {
     "name": "stdout",
     "output_type": "stream",
     "text": [
      "=========== Jobflow Details ===================\n",
      "Application:  Naga0.3\n",
      "Sub Application:  Customer-Zero\n",
      "Folder Name: SnowFlakeRightSizing \n",
      "\n",
      "\n",
      "\n"
     ]
    },
    {
     "ename": "ExecutableNotFound",
     "evalue": "failed to execute 'dot', make sure the Graphviz executables are on your systems' PATH",
     "output_type": "error",
     "traceback": [
      "\u001b[0;31m---------------------------------------------------------------------------\u001b[0m",
      "\u001b[0;31mFileNotFoundError\u001b[0m                         Traceback (most recent call last)",
      "\u001b[0;32m/opt/conda/lib/python3.8/site-packages/graphviz/backend.py\u001b[0m in \u001b[0;36mrun\u001b[0;34m(cmd, input, capture_output, check, encoding, quiet, **kwargs)\u001b[0m\n\u001b[1;32m    169\u001b[0m     \u001b[0;32mtry\u001b[0m\u001b[0;34m:\u001b[0m\u001b[0;34m\u001b[0m\u001b[0;34m\u001b[0m\u001b[0m\n\u001b[0;32m--> 170\u001b[0;31m         \u001b[0mproc\u001b[0m \u001b[0;34m=\u001b[0m \u001b[0msubprocess\u001b[0m\u001b[0;34m.\u001b[0m\u001b[0mPopen\u001b[0m\u001b[0;34m(\u001b[0m\u001b[0mcmd\u001b[0m\u001b[0;34m,\u001b[0m \u001b[0mstartupinfo\u001b[0m\u001b[0;34m=\u001b[0m\u001b[0mget_startupinfo\u001b[0m\u001b[0;34m(\u001b[0m\u001b[0;34m)\u001b[0m\u001b[0;34m,\u001b[0m \u001b[0;34m**\u001b[0m\u001b[0mkwargs\u001b[0m\u001b[0;34m)\u001b[0m\u001b[0;34m\u001b[0m\u001b[0;34m\u001b[0m\u001b[0m\n\u001b[0m\u001b[1;32m    171\u001b[0m     \u001b[0;32mexcept\u001b[0m \u001b[0mOSError\u001b[0m \u001b[0;32mas\u001b[0m \u001b[0me\u001b[0m\u001b[0;34m:\u001b[0m\u001b[0;34m\u001b[0m\u001b[0;34m\u001b[0m\u001b[0m\n",
      "\u001b[0;32m/opt/conda/lib/python3.8/subprocess.py\u001b[0m in \u001b[0;36m__init__\u001b[0;34m(self, args, bufsize, executable, stdin, stdout, stderr, preexec_fn, close_fds, shell, cwd, env, universal_newlines, startupinfo, creationflags, restore_signals, start_new_session, pass_fds, encoding, errors, text)\u001b[0m\n\u001b[1;32m    853\u001b[0m \u001b[0;34m\u001b[0m\u001b[0m\n\u001b[0;32m--> 854\u001b[0;31m             self._execute_child(args, executable, preexec_fn, close_fds,\n\u001b[0m\u001b[1;32m    855\u001b[0m                                 \u001b[0mpass_fds\u001b[0m\u001b[0;34m,\u001b[0m \u001b[0mcwd\u001b[0m\u001b[0;34m,\u001b[0m \u001b[0menv\u001b[0m\u001b[0;34m,\u001b[0m\u001b[0;34m\u001b[0m\u001b[0;34m\u001b[0m\u001b[0m\n",
      "\u001b[0;32m/opt/conda/lib/python3.8/subprocess.py\u001b[0m in \u001b[0;36m_execute_child\u001b[0;34m(self, args, executable, preexec_fn, close_fds, pass_fds, cwd, env, startupinfo, creationflags, shell, p2cread, p2cwrite, c2pread, c2pwrite, errread, errwrite, restore_signals, start_new_session)\u001b[0m\n\u001b[1;32m   1701\u001b[0m                         \u001b[0merr_msg\u001b[0m \u001b[0;34m=\u001b[0m \u001b[0mos\u001b[0m\u001b[0;34m.\u001b[0m\u001b[0mstrerror\u001b[0m\u001b[0;34m(\u001b[0m\u001b[0merrno_num\u001b[0m\u001b[0;34m)\u001b[0m\u001b[0;34m\u001b[0m\u001b[0;34m\u001b[0m\u001b[0m\n\u001b[0;32m-> 1702\u001b[0;31m                     \u001b[0;32mraise\u001b[0m \u001b[0mchild_exception_type\u001b[0m\u001b[0;34m(\u001b[0m\u001b[0merrno_num\u001b[0m\u001b[0;34m,\u001b[0m \u001b[0merr_msg\u001b[0m\u001b[0;34m,\u001b[0m \u001b[0merr_filename\u001b[0m\u001b[0;34m)\u001b[0m\u001b[0;34m\u001b[0m\u001b[0;34m\u001b[0m\u001b[0m\n\u001b[0m\u001b[1;32m   1703\u001b[0m                 \u001b[0;32mraise\u001b[0m \u001b[0mchild_exception_type\u001b[0m\u001b[0;34m(\u001b[0m\u001b[0merr_msg\u001b[0m\u001b[0;34m)\u001b[0m\u001b[0;34m\u001b[0m\u001b[0;34m\u001b[0m\u001b[0m\n",
      "\u001b[0;31mFileNotFoundError\u001b[0m: [Errno 2] No such file or directory: 'dot'",
      "\nThe above exception was the direct cause of the following exception:\n",
      "\u001b[0;31mExecutableNotFound\u001b[0m                        Traceback (most recent call last)",
      "\u001b[0;32m/opt/conda/lib/python3.8/site-packages/IPython/core/formatters.py\u001b[0m in \u001b[0;36m__call__\u001b[0;34m(self, obj)\u001b[0m\n\u001b[1;32m    343\u001b[0m             \u001b[0mmethod\u001b[0m \u001b[0;34m=\u001b[0m \u001b[0mget_real_method\u001b[0m\u001b[0;34m(\u001b[0m\u001b[0mobj\u001b[0m\u001b[0;34m,\u001b[0m \u001b[0mself\u001b[0m\u001b[0;34m.\u001b[0m\u001b[0mprint_method\u001b[0m\u001b[0;34m)\u001b[0m\u001b[0;34m\u001b[0m\u001b[0;34m\u001b[0m\u001b[0m\n\u001b[1;32m    344\u001b[0m             \u001b[0;32mif\u001b[0m \u001b[0mmethod\u001b[0m \u001b[0;32mis\u001b[0m \u001b[0;32mnot\u001b[0m \u001b[0;32mNone\u001b[0m\u001b[0;34m:\u001b[0m\u001b[0;34m\u001b[0m\u001b[0;34m\u001b[0m\u001b[0m\n\u001b[0;32m--> 345\u001b[0;31m                 \u001b[0;32mreturn\u001b[0m \u001b[0mmethod\u001b[0m\u001b[0;34m(\u001b[0m\u001b[0;34m)\u001b[0m\u001b[0;34m\u001b[0m\u001b[0;34m\u001b[0m\u001b[0m\n\u001b[0m\u001b[1;32m    346\u001b[0m             \u001b[0;32mreturn\u001b[0m \u001b[0;32mNone\u001b[0m\u001b[0;34m\u001b[0m\u001b[0;34m\u001b[0m\u001b[0m\n\u001b[1;32m    347\u001b[0m         \u001b[0;32melse\u001b[0m\u001b[0;34m:\u001b[0m\u001b[0;34m\u001b[0m\u001b[0;34m\u001b[0m\u001b[0m\n",
      "\u001b[0;32m/opt/conda/lib/python3.8/site-packages/graphviz/files.py\u001b[0m in \u001b[0;36m_repr_svg_\u001b[0;34m(self)\u001b[0m\n\u001b[1;32m    139\u001b[0m \u001b[0;34m\u001b[0m\u001b[0m\n\u001b[1;32m    140\u001b[0m     \u001b[0;32mdef\u001b[0m \u001b[0m_repr_svg_\u001b[0m\u001b[0;34m(\u001b[0m\u001b[0mself\u001b[0m\u001b[0;34m)\u001b[0m\u001b[0;34m:\u001b[0m\u001b[0;34m\u001b[0m\u001b[0;34m\u001b[0m\u001b[0m\n\u001b[0;32m--> 141\u001b[0;31m         \u001b[0;32mreturn\u001b[0m \u001b[0mself\u001b[0m\u001b[0;34m.\u001b[0m\u001b[0mpipe\u001b[0m\u001b[0;34m(\u001b[0m\u001b[0mformat\u001b[0m\u001b[0;34m=\u001b[0m\u001b[0;34m'svg'\u001b[0m\u001b[0;34m)\u001b[0m\u001b[0;34m.\u001b[0m\u001b[0mdecode\u001b[0m\u001b[0;34m(\u001b[0m\u001b[0mself\u001b[0m\u001b[0;34m.\u001b[0m\u001b[0m_encoding\u001b[0m\u001b[0;34m)\u001b[0m\u001b[0;34m\u001b[0m\u001b[0;34m\u001b[0m\u001b[0m\n\u001b[0m\u001b[1;32m    142\u001b[0m \u001b[0;34m\u001b[0m\u001b[0m\n\u001b[1;32m    143\u001b[0m     \u001b[0;32mdef\u001b[0m \u001b[0mpipe\u001b[0m\u001b[0;34m(\u001b[0m\u001b[0mself\u001b[0m\u001b[0;34m,\u001b[0m \u001b[0mformat\u001b[0m\u001b[0;34m=\u001b[0m\u001b[0;32mNone\u001b[0m\u001b[0;34m,\u001b[0m \u001b[0mrenderer\u001b[0m\u001b[0;34m=\u001b[0m\u001b[0;32mNone\u001b[0m\u001b[0;34m,\u001b[0m \u001b[0mformatter\u001b[0m\u001b[0;34m=\u001b[0m\u001b[0;32mNone\u001b[0m\u001b[0;34m,\u001b[0m \u001b[0mquiet\u001b[0m\u001b[0;34m=\u001b[0m\u001b[0;32mFalse\u001b[0m\u001b[0;34m)\u001b[0m\u001b[0;34m:\u001b[0m\u001b[0;34m\u001b[0m\u001b[0;34m\u001b[0m\u001b[0m\n",
      "\u001b[0;32m/opt/conda/lib/python3.8/site-packages/graphviz/files.py\u001b[0m in \u001b[0;36mpipe\u001b[0;34m(self, format, renderer, formatter, quiet)\u001b[0m\n\u001b[1;32m    164\u001b[0m         \u001b[0mdata\u001b[0m \u001b[0;34m=\u001b[0m \u001b[0mself\u001b[0m\u001b[0;34m.\u001b[0m\u001b[0msource\u001b[0m\u001b[0;34m.\u001b[0m\u001b[0mencode\u001b[0m\u001b[0;34m(\u001b[0m\u001b[0mself\u001b[0m\u001b[0;34m.\u001b[0m\u001b[0m_encoding\u001b[0m\u001b[0;34m)\u001b[0m\u001b[0;34m\u001b[0m\u001b[0;34m\u001b[0m\u001b[0m\n\u001b[1;32m    165\u001b[0m \u001b[0;34m\u001b[0m\u001b[0m\n\u001b[0;32m--> 166\u001b[0;31m         out = backend.pipe(self._engine, format, data,\n\u001b[0m\u001b[1;32m    167\u001b[0m                            \u001b[0mrenderer\u001b[0m\u001b[0;34m=\u001b[0m\u001b[0mrenderer\u001b[0m\u001b[0;34m,\u001b[0m \u001b[0mformatter\u001b[0m\u001b[0;34m=\u001b[0m\u001b[0mformatter\u001b[0m\u001b[0;34m,\u001b[0m\u001b[0;34m\u001b[0m\u001b[0;34m\u001b[0m\u001b[0m\n\u001b[1;32m    168\u001b[0m                            quiet=quiet)\n",
      "\u001b[0;32m/opt/conda/lib/python3.8/site-packages/graphviz/backend.py\u001b[0m in \u001b[0;36mpipe\u001b[0;34m(engine, format, data, renderer, formatter, quiet)\u001b[0m\n\u001b[1;32m    266\u001b[0m     \"\"\"\n\u001b[1;32m    267\u001b[0m     \u001b[0mcmd\u001b[0m\u001b[0;34m,\u001b[0m \u001b[0m_\u001b[0m \u001b[0;34m=\u001b[0m \u001b[0mcommand\u001b[0m\u001b[0;34m(\u001b[0m\u001b[0mengine\u001b[0m\u001b[0;34m,\u001b[0m \u001b[0mformat\u001b[0m\u001b[0;34m,\u001b[0m \u001b[0;32mNone\u001b[0m\u001b[0;34m,\u001b[0m \u001b[0mrenderer\u001b[0m\u001b[0;34m,\u001b[0m \u001b[0mformatter\u001b[0m\u001b[0;34m)\u001b[0m\u001b[0;34m\u001b[0m\u001b[0;34m\u001b[0m\u001b[0m\n\u001b[0;32m--> 268\u001b[0;31m     \u001b[0mout\u001b[0m\u001b[0;34m,\u001b[0m \u001b[0m_\u001b[0m \u001b[0;34m=\u001b[0m \u001b[0mrun\u001b[0m\u001b[0;34m(\u001b[0m\u001b[0mcmd\u001b[0m\u001b[0;34m,\u001b[0m \u001b[0minput\u001b[0m\u001b[0;34m=\u001b[0m\u001b[0mdata\u001b[0m\u001b[0;34m,\u001b[0m \u001b[0mcapture_output\u001b[0m\u001b[0;34m=\u001b[0m\u001b[0;32mTrue\u001b[0m\u001b[0;34m,\u001b[0m \u001b[0mcheck\u001b[0m\u001b[0;34m=\u001b[0m\u001b[0;32mTrue\u001b[0m\u001b[0;34m,\u001b[0m \u001b[0mquiet\u001b[0m\u001b[0;34m=\u001b[0m\u001b[0mquiet\u001b[0m\u001b[0;34m)\u001b[0m\u001b[0;34m\u001b[0m\u001b[0;34m\u001b[0m\u001b[0m\n\u001b[0m\u001b[1;32m    269\u001b[0m     \u001b[0;32mreturn\u001b[0m \u001b[0mout\u001b[0m\u001b[0;34m\u001b[0m\u001b[0;34m\u001b[0m\u001b[0m\n\u001b[1;32m    270\u001b[0m \u001b[0;34m\u001b[0m\u001b[0m\n",
      "\u001b[0;32m/opt/conda/lib/python3.8/site-packages/graphviz/backend.py\u001b[0m in \u001b[0;36mrun\u001b[0;34m(cmd, input, capture_output, check, encoding, quiet, **kwargs)\u001b[0m\n\u001b[1;32m    171\u001b[0m     \u001b[0;32mexcept\u001b[0m \u001b[0mOSError\u001b[0m \u001b[0;32mas\u001b[0m \u001b[0me\u001b[0m\u001b[0;34m:\u001b[0m\u001b[0;34m\u001b[0m\u001b[0;34m\u001b[0m\u001b[0m\n\u001b[1;32m    172\u001b[0m         \u001b[0;32mif\u001b[0m \u001b[0me\u001b[0m\u001b[0;34m.\u001b[0m\u001b[0merrno\u001b[0m \u001b[0;34m==\u001b[0m \u001b[0merrno\u001b[0m\u001b[0;34m.\u001b[0m\u001b[0mENOENT\u001b[0m\u001b[0;34m:\u001b[0m\u001b[0;34m\u001b[0m\u001b[0;34m\u001b[0m\u001b[0m\n\u001b[0;32m--> 173\u001b[0;31m             \u001b[0;32mraise\u001b[0m \u001b[0mExecutableNotFound\u001b[0m\u001b[0;34m(\u001b[0m\u001b[0mcmd\u001b[0m\u001b[0;34m)\u001b[0m \u001b[0;32mfrom\u001b[0m \u001b[0me\u001b[0m\u001b[0;34m\u001b[0m\u001b[0;34m\u001b[0m\u001b[0m\n\u001b[0m\u001b[1;32m    174\u001b[0m         \u001b[0;32melse\u001b[0m\u001b[0;34m:\u001b[0m\u001b[0;34m\u001b[0m\u001b[0;34m\u001b[0m\u001b[0m\n\u001b[1;32m    175\u001b[0m             \u001b[0;32mraise\u001b[0m\u001b[0;34m\u001b[0m\u001b[0;34m\u001b[0m\u001b[0m\n",
      "\u001b[0;31mExecutableNotFound\u001b[0m: failed to execute 'dot', make sure the Graphviz executables are on your systems' PATH"
     ]
    },
    {
     "data": {
      "text/plain": [
       "<graphviz.dot.Digraph at 0x7fc1827e1760>"
      ]
     },
     "execution_count": 15,
     "metadata": {},
     "output_type": "execute_result"
    }
   ],
   "source": [
    "d = DisplayDAG(t1_flow)\n",
    "d.display_graphviz()"
   ]
  },
  {
   "cell_type": "markdown",
   "metadata": {
    "id": "X3gtVE7sykA2"
   },
   "source": [
    "## Step 6B - Display JSON"
   ]
  },
  {
   "cell_type": "code",
   "execution_count": 13,
   "metadata": {
    "colab": {
     "base_uri": "https://localhost:8080/"
    },
    "id": "5XojggPS34rE",
    "outputId": "25be2a0f-af22-435c-9717-81b1f3c9f46f"
   },
   "outputs": [],
   "source": [
    "#t1_flow.display_json()"
   ]
  },
  {
   "cell_type": "markdown",
   "metadata": {
    "id": "hBqW_iV2yKcW"
   },
   "source": [
    "# Step 7 - Submit Workflow to Control-M"
   ]
  },
  {
   "cell_type": "code",
   "execution_count": 14,
   "metadata": {
    "colab": {
     "base_uri": "https://localhost:8080/"
    },
    "id": "LNFCqGbpt-J1",
    "outputId": "2350f1f9-5ac6-43ab-f7f3-3c90765c71b4"
   },
   "outputs": [
    {
     "name": "stdout",
     "output_type": "stream",
     "text": [
      "[{'deployed_calendars': None,\n",
      " 'deployed_connection_profiles': None,\n",
      " 'deployed_drivers': None,\n",
      " 'deployed_folders': ['SnowFlakeRightSizing'],\n",
      " 'deployed_jobs': None,\n",
      " 'deployment_file': 'jobs.json',\n",
      " 'errors': None,\n",
      " 'is_deploy_descriptor_valid': False,\n",
      " 'successful_calendars_count': None,\n",
      " 'successful_connection_profiles_count': 0,\n",
      " 'successful_drivers_count': 0,\n",
      " 'successful_folders_count': 0,\n",
      " 'successful_jobs_count': 8,\n",
      " 'successful_smart_folders_count': 1,\n",
      " 'successful_sub_folders_count': 0,\n",
      " 'warnings': None}]\n",
      "Successfully submitted to Control-M\n",
      "Login to None/ControlM/ and use your workflow\n"
     ]
    }
   ],
   "source": [
    "t = t1_flow.deploy()"
   ]
  },
  {
   "cell_type": "code",
   "execution_count": null,
   "metadata": {},
   "outputs": [],
   "source": []
  }
 ],
 "metadata": {
  "colab": {
   "name": "IS&T - SnowflakeRidesizing- ControlM Workflow.ipynb",
   "provenance": []
  },
  "kernelspec": {
   "display_name": "Python 3",
   "language": "python",
   "name": "python3"
  },
  "language_info": {
   "codemirror_mode": {
    "name": "ipython",
    "version": 3
   },
   "file_extension": ".py",
   "mimetype": "text/x-python",
   "name": "python",
   "nbconvert_exporter": "python",
   "pygments_lexer": "ipython3",
   "version": "3.8.3"
  }
 },
 "nbformat": 4,
 "nbformat_minor": 4
}
