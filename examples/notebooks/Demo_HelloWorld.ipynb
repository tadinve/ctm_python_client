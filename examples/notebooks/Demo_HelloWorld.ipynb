{
 "cells": [
  {
   "cell_type": "markdown",
   "metadata": {
    "id": "iCm2sd89tOdP"
   },
   "source": [
    "# Demo: Defining Control_M Workflows using Python"
   ]
  },
  {
   "cell_type": "markdown",
   "metadata": {
    "id": "dornvvu0tYxj"
   },
   "source": [
    "# Step 1 - Setup"
   ]
  },
  {
   "cell_type": "markdown",
   "metadata": {
    "id": "GKkmksYi1-Kn"
   },
   "source": [
    "## Step 1A - Install the library"
   ]
  },
  {
   "cell_type": "code",
   "execution_count": 1,
   "metadata": {
    "colab": {
     "base_uri": "https://localhost:8080/"
    },
    "id": "tGkmx1hcumAU",
    "outputId": "8554d511-29ac-4d14-d7f2-1e11e89c46ff"
   },
   "outputs": [
    {
     "name": "stdout",
     "output_type": "stream",
     "text": [
      "Collecting git+https://github.com/tadinve/naga.git\n",
      "  Cloning https://github.com/tadinve/naga.git to /private/var/folders/jf/ly2qhjns6yn6j46t3rdms2qw0000gp/T/pip-req-build-ijg9qgoo\n",
      "  Running command git clone -q https://github.com/tadinve/naga.git /private/var/folders/jf/ly2qhjns6yn6j46t3rdms2qw0000gp/T/pip-req-build-ijg9qgoo\n",
      "Requirement already satisfied: graphviz>=0.10 in /Users/vtadinad/opt/anaconda3/envs/bmc_naga/lib/python3.8/site-packages (from ctm-python-client==0.3.0) (0.17)\n",
      "Requirement already satisfied: requests>=2.23.0 in /Users/vtadinad/opt/anaconda3/envs/bmc_naga/lib/python3.8/site-packages (from ctm-python-client==0.3.0) (2.26.0)\n",
      "Requirement already satisfied: urllib3 in /Users/vtadinad/opt/anaconda3/envs/bmc_naga/lib/python3.8/site-packages (from ctm-python-client==0.3.0) (1.26.6)\n",
      "Requirement already satisfied: charset-normalizer~=2.0.0 in /Users/vtadinad/opt/anaconda3/envs/bmc_naga/lib/python3.8/site-packages (from requests>=2.23.0->ctm-python-client==0.3.0) (2.0.3)\n",
      "Requirement already satisfied: certifi>=2017.4.17 in /Users/vtadinad/opt/anaconda3/envs/bmc_naga/lib/python3.8/site-packages (from requests>=2.23.0->ctm-python-client==0.3.0) (2021.5.30)\n",
      "Requirement already satisfied: idna<4,>=2.5 in /Users/vtadinad/opt/anaconda3/envs/bmc_naga/lib/python3.8/site-packages (from requests>=2.23.0->ctm-python-client==0.3.0) (3.2)\n",
      "Building wheels for collected packages: ctm-python-client\n",
      "  Building wheel for ctm-python-client (setup.py) ... \u001b[?25ldone\n",
      "\u001b[?25h  Created wheel for ctm-python-client: filename=ctm_python_client-0.3.0-py3-none-any.whl size=614671 sha256=f2c7e561e6c40899dedd4ad42bbf22e3c5f335141d0f1e209f0024f71918f709\n",
      "  Stored in directory: /private/var/folders/jf/ly2qhjns6yn6j46t3rdms2qw0000gp/T/pip-ephem-wheel-cache-kak4krqp/wheels/de/35/cb/b70c2ffd6e40942c62635105854bc5fabd5125a0f0f9b17cb9\n",
      "Successfully built ctm-python-client\n",
      "Installing collected packages: ctm-python-client\n",
      "Successfully installed ctm-python-client-0.3.0\n"
     ]
    }
   ],
   "source": [
    "# This command needs to be done only once. This installs the library\n",
    "!pip  install git+https://github.com/tadinve/naga.git"
   ]
  },
  {
   "cell_type": "code",
   "execution_count": null,
   "metadata": {},
   "outputs": [],
   "source": [
    "import os, sys\n",
    "cwd = os.getcwd()\n",
    "module_path = cwd.split(\"/\")\n",
    "mp = []\n",
    "for d in module_path:\n",
    "    mp.append(d)\n",
    "    if d == \"ctm_python_client\":\n",
    "        break\n",
    "module_path = \"/\".join(mp)\n",
    "module_path\n"
   ]
  },
  {
   "cell_type": "code",
   "execution_count": null,
   "metadata": {},
   "outputs": [],
   "source": [
    "sys.path.append(module_path)\n",
    "sys.path"
   ]
  },
  {
   "cell_type": "markdown",
   "metadata": {
    "id": "dIc3LSK62Cos"
   },
   "source": [
    "## Step 1B- Import the library"
   ]
  },
  {
   "cell_type": "code",
   "execution_count": 2,
   "metadata": {
    "id": "6iwRhegFtcXJ"
   },
   "outputs": [],
   "source": [
    "from ctm_python_client.core.bmc_control_m import CmJobFlow\n",
    "from ctm_python_client.jobs.dummy import DummyJob"
   ]
  },
  {
   "cell_type": "markdown",
   "metadata": {
    "id": "TfK9UygIu3Qg"
   },
   "source": [
    "# Step 2 - Instantiate, Authenticate and Schedule\n"
   ]
  },
  {
   "cell_type": "markdown",
   "metadata": {
    "id": "N6CwrQJ5Lxz1"
   },
   "source": [
    "## Step 2A - Create the object"
   ]
  },
  {
   "cell_type": "code",
   "execution_count": 3,
   "metadata": {
    "colab": {
     "base_uri": "https://localhost:8080/",
     "height": 35
    },
    "id": "FDszp8dtRJi_",
    "outputId": "703ac9a8-eb2e-4840-bfc1-10d62fa4315f"
   },
   "outputs": [
    {
     "data": {
      "text/plain": [
       "'34F940FE87612DD1EDF26DCCD589C38479FE312A602F1D00A921544D08BF143928CBD975F24AE109DAD962C6F3701D5F65E56E86E23E6DF8E90A9A77315E39B5'"
      ]
     },
     "execution_count": 3,
     "metadata": {},
     "output_type": "execute_result"
    }
   ],
   "source": [
    "# Please change the URfrI, and ctm_user and enter ctm_password to match your environment\n",
    "from ctm_python_client.session.session import Session\n",
    "\n",
    "import getpass\n",
    "ctm_uri =  \"https://acb-rhctmv20.centralus.cloudapp.azure.com:8443/automation-api\"\n",
    "ctm_user =  \"vtadinad\"\n",
    "ctm_pwd =                                                                                                                                               \"P4ssw0rd\"\n",
    "if \"ctm_pwd\" not in locals(): # has not been enterd once, will skip next time\n",
    "    ctm_pwd = getpass.getpass(\"Enter your Control M Password \")\n",
    "\n",
    "session = Session( endpoint=ctm_uri,username=ctm_user,password=ctm_pwd)\n",
    "session.get_token()"
   ]
  },
  {
   "cell_type": "code",
   "execution_count": 4,
   "metadata": {},
   "outputs": [],
   "source": [
    "import graphviz"
   ]
  },
  {
   "cell_type": "code",
   "execution_count": null,
   "metadata": {
    "id": "vI4PTJddLxz1"
   },
   "outputs": [],
   "source": [
    "t1_flow = CmJobFlow(application=\"Naga0.2_Demo\",sub_application=\"Demo-02\",session=session)"
   ]
  },
  {
   "cell_type": "markdown",
   "metadata": {
    "id": "k7HfewL42f18"
   },
   "source": [
    "## Step 2B - Define the Schedule"
   ]
  },
  {
   "cell_type": "code",
   "execution_count": null,
   "metadata": {
    "id": "PW4yoM6b-2v2"
   },
   "outputs": [],
   "source": [
    "t1_flow.set_run_as(username=\"ctmuser\",host=\"acb-rhctmv20\")"
   ]
  },
  {
   "cell_type": "code",
   "execution_count": null,
   "metadata": {
    "id": "qMVzFXekvSTy"
   },
   "outputs": [],
   "source": [
    "# Define the schedule\n",
    "months = [\"JAN\", \"OCT\", \"DEC\"]\n",
    "monthDays = [\"ALL\"]\n",
    "weekDays = [\"MON\",\"TUE\", \"WED\", \"THU\", \"FRI\"]\n",
    "fromTime = \"0300\"\n",
    "toTime = \"2100\"\n",
    "t1_flow.set_schedule(months, monthDays, weekDays,fromTime, toTime)\n"
   ]
  },
  {
   "cell_type": "markdown",
   "metadata": {
    "id": "9PBDYvbtwWfL"
   },
   "source": [
    "# Step 3  - Create Folder"
   ]
  },
  {
   "cell_type": "code",
   "execution_count": null,
   "metadata": {
    "id": "7MQ5so2gwWK1"
   },
   "outputs": [],
   "source": [
    "# Create Fodler\n",
    "f1 = t1_flow.create_folder(name=\"HelloWorld\")"
   ]
  },
  {
   "cell_type": "markdown",
   "metadata": {
    "id": "dLGmvMkuwdMW"
   },
   "source": [
    "# Step 4 - Create Tasks"
   ]
  },
  {
   "cell_type": "code",
   "execution_count": null,
   "metadata": {
    "id": "shpuP7_fwiNP"
   },
   "outputs": [],
   "source": [
    "start = t1_flow.add_job( f1, DummyJob(f1,\"Start-Flow\") )\n",
    "end = t1_flow.add_job(f1, DummyJob(f1,\"End-Flow\") )\n",
    "\n",
    "hello_world_id = t1_flow.add_job(f1,  DummyJob(f1, \"Hello-World\" ) )\n"
   ]
  },
  {
   "cell_type": "markdown",
   "metadata": {
    "id": "8uRR5vGWx-9Q"
   },
   "source": [
    "# Step 5 - Chain Tasks"
   ]
  },
  {
   "cell_type": "code",
   "execution_count": null,
   "metadata": {
    "colab": {
     "base_uri": "https://localhost:8080/"
    },
    "id": "oiaQR99LPIVm",
    "outputId": "11c0cf22-ad56-401e-82d5-14fe7121b2bc"
   },
   "outputs": [],
   "source": [
    "# start >>  hello_world_id >> end\n",
    "t1_flow.chain_jobs(f1,[start, hello_world_id, end])"
   ]
  },
  {
   "cell_type": "markdown",
   "metadata": {
    "id": "QrQo_1Q4yG-7"
   },
   "source": [
    "# Step 6 - Display Workflow"
   ]
  },
  {
   "cell_type": "markdown",
   "metadata": {
    "id": "Mn5OvXGuydlJ"
   },
   "source": [
    "## Step 6A - Display DAG"
   ]
  },
  {
   "cell_type": "code",
   "execution_count": null,
   "metadata": {
    "colab": {
     "base_uri": "https://localhost:8080/"
    },
    "id": "m8vAW424yWXb",
    "outputId": "b46ecabb-7ae5-4b52-d7bb-8362d80b3dd5"
   },
   "outputs": [],
   "source": [
    "# View the t1_flow Details\n",
    "nodes, edges = t1_flow.get_nodes_and_edges()\n",
    "nodes, edges"
   ]
  },
  {
   "cell_type": "code",
   "execution_count": null,
   "metadata": {
    "id": "PZ32Fm6GHLqd"
   },
   "outputs": [],
   "source": [
    "#display using graphviz\n",
    "from ctm_python_client.utils.displayDAG import DisplayDAG\n",
    "\n",
    "DisplayDAG(t1_flow).display_graphviz()"
   ]
  },
  {
   "cell_type": "markdown",
   "metadata": {
    "id": "X3gtVE7sykA2"
   },
   "source": [
    "## Step 6B - Display JSON"
   ]
  },
  {
   "cell_type": "code",
   "execution_count": null,
   "metadata": {
    "colab": {
     "base_uri": "https://localhost:8080/"
    },
    "id": "5XojggPS34rE",
    "outputId": "7e044bbf-d412-4d89-f6b9-f923fb32bd8f"
   },
   "outputs": [],
   "source": [
    "t1_flow.display_json()"
   ]
  },
  {
   "cell_type": "markdown",
   "metadata": {
    "id": "hBqW_iV2yKcW"
   },
   "source": [
    "# Step 7 - Submit Workflow to Control-M"
   ]
  },
  {
   "cell_type": "code",
   "execution_count": null,
   "metadata": {
    "colab": {
     "base_uri": "https://localhost:8080/"
    },
    "id": "LNFCqGbpt-J1",
    "outputId": "146f4413-71f6-48cf-cad6-9a8cd7a2e723"
   },
   "outputs": [],
   "source": [
    "t1_flow.deploy()"
   ]
  },
  {
   "cell_type": "code",
   "execution_count": null,
   "metadata": {
    "colab": {
     "base_uri": "https://localhost:8080/"
    },
    "id": "fP-WxlpJgtPW",
    "outputId": "dd7e02b3-6e94-43b2-b0a6-ab115eb857c4"
   },
   "outputs": [],
   "source": [
    "t1_flow.run()"
   ]
  },
  {
   "cell_type": "code",
   "execution_count": null,
   "metadata": {
    "id": "3NzmdbQovSVH"
   },
   "outputs": [],
   "source": []
  }
 ],
 "metadata": {
  "colab": {
   "collapsed_sections": [
    "9PBDYvbtwWfL"
   ],
   "name": "Demo Naga0.2 01 - HelloWorld.ipynb",
   "provenance": []
  },
  "interpreter": {
   "hash": "0acf5e98f0d0e19783fbfe4e74c866635b65b3ca578adc3721d8cbd623aa3da4"
  },
  "kernelspec": {
   "display_name": "bmc_naga",
   "language": "python",
   "name": "bmc_naga"
  },
  "language_info": {
   "codemirror_mode": {
    "name": "ipython",
    "version": 3
   },
   "file_extension": ".py",
   "mimetype": "text/x-python",
   "name": "python",
   "nbconvert_exporter": "python",
   "pygments_lexer": "ipython3",
   "version": "3.8.10"
  }
 },
 "nbformat": 4,
 "nbformat_minor": 4
}
