{
 "cells": [
  {
   "cell_type": "markdown",
   "metadata": {},
   "source": [
    "# Demo: Defining Control_M Workflows using Python"
   ]
  },
  {
   "cell_type": "markdown",
   "metadata": {},
   "source": [
    "# Step 1 - Setup"
   ]
  },
  {
   "cell_type": "markdown",
   "metadata": {
    "id": "GKkmksYi1-Kn"
   },
   "source": [
    "## Step 1A - Install the library"
   ]
  },
  {
   "cell_type": "markdown",
   "metadata": {
    "id": "dIc3LSK62Cos"
   },
   "source": [
    "## Step 1B- Import the library"
   ]
  },
  {
   "cell_type": "code",
   "execution_count": 4,
   "metadata": {
    "id": "6iwRhegFtcXJ"
   },
   "outputs": [],
   "source": [
    "from ctm-python-client.core.bmc_control_m import CmJobFlow\n",
    "from ctm-python-client.jobs.dummy import DummyJob\n",
    "from ctm-python-client.jobs.command import CommandJob "
   ]
  },
  {
   "cell_type": "markdown",
   "metadata": {
    "id": "TfK9UygIu3Qg"
   },
   "source": [
    "# Step 2 - Instantiate, Authenticate and Schedule\n"
   ]
  },
  {
   "cell_type": "markdown",
   "metadata": {
    "id": "6HppNeTT2LJs"
   },
   "source": [
    "## Step 2A - Create the object"
   ]
  },
  {
   "cell_type": "code",
   "execution_count": 5,
   "metadata": {
    "id": "wmIKxRyT2Ihz"
   },
   "outputs": [],
   "source": [
    "t1_flow = CmJobFlow(\"PW4CM_Demo\",\"Demo-01\")"
   ]
  },
  {
   "cell_type": "markdown",
   "metadata": {
    "id": "Bftxk8I72aCA"
   },
   "source": [
    "## Step 2B - Authenticate to Control-M"
   ]
  },
  {
   "cell_type": "code",
   "execution_count": 6,
   "metadata": {
    "id": "TdyzqpfFRPMC"
   },
   "outputs": [
    {
     "name": "stdin",
     "output_type": "stream",
     "text": [
      "Enter your Control M Password  ········\n"
     ]
    }
   ],
   "source": [
    "# Please change the URI, and ctm_user and enter ctm_password to match your environment\n",
    "\n",
    "import getpass\n",
    "ctm_uri =  \"https://acb-rhctmv20.centralus.cloudapp.azure.com:8443\"\n",
    "ctm_user =  \"vtadinad\"\n",
    "if \"ctm_pwd\" not in locals(): # has not been enterd once, will skip next time\n",
    "    ctm_pwd = getpass.getpass(\"Enter your Control M Password \")"
   ]
  },
  {
   "cell_type": "code",
   "execution_count": 7,
   "metadata": {
    "id": "-C8Onkac26h0"
   },
   "outputs": [
    {
     "name": "stdout",
     "output_type": "stream",
     "text": [
      "Successfully logged into  https://acb-rhctmv20.centralus.cloudapp.azure.com:8443\n",
      "Token = 5C09BDF0A260028B58449636EC858695C29BD776DC10C1A1A2B54C0B06432AD2F12294DEC90B9FEA1FA27FBB6C45E880B4AE72376BA6FF305B47510D6C51ED7E\n"
     ]
    },
    {
     "name": "stderr",
     "output_type": "stream",
     "text": [
      "/Users/vtadinad/opt/anaconda3/envs/bmc_ctm-python-client/lib/python3.8/site-packages/urllib3/connectionpool.py:1013: InsecureRequestWarning: Unverified HTTPS request is being made to host 'acb-rhctmv20.centralus.cloudapp.azure.com'. Adding certificate verification is strongly advised. See: https://urllib3.readthedocs.io/en/1.26.x/advanced-usage.html#ssl-warnings\n",
      "  warnings.warn(\n"
     ]
    },
    {
     "data": {
      "text/plain": [
       "200"
      ]
     },
     "execution_count": 7,
     "metadata": {},
     "output_type": "execute_result"
    }
   ],
   "source": [
    "t1_flow.ctm_login(ctm_uri, ctm_user, ctm_pwd, https=False)"
   ]
  },
  {
   "cell_type": "markdown",
   "metadata": {
    "id": "k7HfewL42f18"
   },
   "source": [
    "## Step 2C - Define the Schedule"
   ]
  },
  {
   "cell_type": "code",
   "execution_count": 8,
   "metadata": {
    "id": "PW4yoM6b-2v2"
   },
   "outputs": [],
   "source": [
    "t1_flow.set_run_as(username=\"ctmuser\",host=\"acb-rhctmv20\")"
   ]
  },
  {
   "cell_type": "code",
   "execution_count": 9,
   "metadata": {
    "id": "qMVzFXekvSTy"
   },
   "outputs": [],
   "source": [
    "# Define the schedule\n",
    "months = [\"JAN\", \"OCT\", \"DEC\"]\n",
    "monthDays = [\"ALL\"]\n",
    "weekDays = [\"MON\",\"TUE\", \"WED\", \"THU\", \"FRI\"]\n",
    "fromTime = \"0300\"\n",
    "toTime = \"2100\"\n",
    "t1_flow.set_schedule(months, monthDays, weekDays,fromTime, toTime)\n"
   ]
  },
  {
   "cell_type": "markdown",
   "metadata": {
    "id": "9PBDYvbtwWfL"
   },
   "source": [
    "# Step 3  - Create Folder"
   ]
  },
  {
   "cell_type": "code",
   "execution_count": 10,
   "metadata": {
    "id": "7MQ5so2gwWK1"
   },
   "outputs": [],
   "source": [
    "# Create Fodler\n",
    "f1 = t1_flow.create_folder(name=\"HelloWorld\")"
   ]
  },
  {
   "cell_type": "markdown",
   "metadata": {
    "id": "dLGmvMkuwdMW"
   },
   "source": [
    "# Step 4 - Create Tasks"
   ]
  },
  {
   "cell_type": "code",
   "execution_count": 11,
   "metadata": {
    "id": "shpuP7_fwiNP"
   },
   "outputs": [],
   "source": [
    "start = t1_flow.add_job( f1, DummyJob(f1,\"Start-Flow\") )\n",
    "end = t1_flow.add_job(f1, DummyJob(f1,\"End-Flow\") )\n",
    "\n",
    "hello_world_id = t1_flow.add_job(f1,  DummyJob(f1, \"Hello-World\" ) )\n"
   ]
  },
  {
   "cell_type": "markdown",
   "metadata": {
    "id": "8uRR5vGWx-9Q"
   },
   "source": [
    "# Step 5 - Chain Tasks"
   ]
  },
  {
   "cell_type": "code",
   "execution_count": 12,
   "metadata": {
    "id": "oiaQR99LPIVm"
   },
   "outputs": [
    {
     "name": "stdout",
     "output_type": "stream",
     "text": [
      "['Start-Flow', 'End-Flow', 'Hello-World']\n",
      "['0', '2', '1']\n"
     ]
    }
   ],
   "source": [
    "t1_flow.chain_jobs(f1,[start, hello_world_id, end])"
   ]
  },
  {
   "cell_type": "markdown",
   "metadata": {
    "id": "QrQo_1Q4yG-7"
   },
   "source": [
    "# Step 6 - Display Workflow"
   ]
  },
  {
   "cell_type": "markdown",
   "metadata": {
    "id": "Mn5OvXGuydlJ"
   },
   "source": [
    "## Step 6A - Display DAG"
   ]
  },
  {
   "cell_type": "code",
   "execution_count": 13,
   "metadata": {
    "id": "m8vAW424yWXb"
   },
   "outputs": [
    {
     "name": "stdout",
     "output_type": "stream",
     "text": [
      "=========== Jobflow Details ===================\n",
      "Application:  PW4CM_Demo\n",
      "Sub Application:  Demo-01\n",
      "\n",
      "Run as Username: ctmuser on Host: acb-rhctmv20\n",
      "\n",
      "Folder Name HelloWorld with Server None\n",
      "\n",
      "\n",
      "\n"
     ]
    },
    {
     "data": {
      "image/svg+xml": [
       "<?xml version=\"1.0\" encoding=\"UTF-8\" standalone=\"no\"?>\n",
       "<!DOCTYPE svg PUBLIC \"-//W3C//DTD SVG 1.1//EN\"\n",
       " \"http://www.w3.org/Graphics/SVG/1.1/DTD/svg11.dtd\">\n",
       "<!-- Generated by graphviz version 2.40.1 (20161225.0304)\n",
       " -->\n",
       "<!-- Title: G Pages: 1 -->\n",
       "<svg width=\"78pt\" height=\"270pt\"\n",
       " viewBox=\"0.00 0.00 78.00 270.00\" xmlns=\"http://www.w3.org/2000/svg\" xmlns:xlink=\"http://www.w3.org/1999/xlink\">\n",
       "<g id=\"graph0\" class=\"graph\" transform=\"scale(1 1) rotate(0) translate(4 266)\">\n",
       "<title>G</title>\n",
       "<polygon fill=\"#ffffff\" stroke=\"transparent\" points=\"-4,4 -4,-266 74,-266 74,4 -4,4\"/>\n",
       "<!-- 0 -->\n",
       "<g id=\"node1\" class=\"node\">\n",
       "<title>0</title>\n",
       "<polygon fill=\"none\" stroke=\"#000000\" points=\"65.5,-262 4.5,-262 4.5,-201 65.5,-201 65.5,-262\"/>\n",
       "<polyline fill=\"none\" stroke=\"#000000\" points=\"16.5,-262 4.5,-250 \"/>\n",
       "<polyline fill=\"none\" stroke=\"#000000\" points=\"4.5,-213 16.5,-201 \"/>\n",
       "<polyline fill=\"none\" stroke=\"#000000\" points=\"53.5,-201 65.5,-213 \"/>\n",
       "<polyline fill=\"none\" stroke=\"#000000\" points=\"65.5,-250 53.5,-262 \"/>\n",
       "<text text-anchor=\"middle\" x=\"35\" y=\"-227.8\" font-family=\"Times,serif\" font-size=\"14.00\" fill=\"#000000\">Start&#45;Flow</text>\n",
       "</g>\n",
       "<!-- 2 -->\n",
       "<g id=\"node3\" class=\"node\">\n",
       "<title>2</title>\n",
       "<polygon fill=\"none\" stroke=\"#000000\" points=\"70,-165 0,-165 0,-95 70,-95 70,-165\"/>\n",
       "<polyline fill=\"none\" stroke=\"#000000\" points=\"12,-165 0,-153 \"/>\n",
       "<polyline fill=\"none\" stroke=\"#000000\" points=\"0,-107 12,-95 \"/>\n",
       "<polyline fill=\"none\" stroke=\"#000000\" points=\"58,-95 70,-107 \"/>\n",
       "<polyline fill=\"none\" stroke=\"#000000\" points=\"70,-153 58,-165 \"/>\n",
       "<text text-anchor=\"middle\" x=\"35\" y=\"-126.3\" font-family=\"Times,serif\" font-size=\"14.00\" fill=\"#000000\">Hello&#45;World</text>\n",
       "</g>\n",
       "<!-- 0&#45;&gt;2 -->\n",
       "<g id=\"edge1\" class=\"edge\">\n",
       "<title>0&#45;&gt;2</title>\n",
       "<path fill=\"none\" stroke=\"#000000\" d=\"M35,-200.7712C35,-192.8067 35,-184.0588 35,-175.5112\"/>\n",
       "<polygon fill=\"#000000\" stroke=\"#000000\" points=\"38.5001,-175.2505 35,-165.2505 31.5001,-175.2505 38.5001,-175.2505\"/>\n",
       "</g>\n",
       "<!-- 1 -->\n",
       "<g id=\"node2\" class=\"node\">\n",
       "<title>1</title>\n",
       "<polygon fill=\"none\" stroke=\"#000000\" points=\"64.5,-59 5.5,-59 5.5,0 64.5,0 64.5,-59\"/>\n",
       "<polyline fill=\"none\" stroke=\"#000000\" points=\"17.5,-59 5.5,-47 \"/>\n",
       "<polyline fill=\"none\" stroke=\"#000000\" points=\"5.5,-12 17.5,0 \"/>\n",
       "<polyline fill=\"none\" stroke=\"#000000\" points=\"52.5,0 64.5,-12 \"/>\n",
       "<polyline fill=\"none\" stroke=\"#000000\" points=\"64.5,-47 52.5,-59 \"/>\n",
       "<text text-anchor=\"middle\" x=\"35\" y=\"-25.8\" font-family=\"Times,serif\" font-size=\"14.00\" fill=\"#000000\">End&#45;Flow</text>\n",
       "</g>\n",
       "<!-- 2&#45;&gt;1 -->\n",
       "<g id=\"edge2\" class=\"edge\">\n",
       "<title>2&#45;&gt;1</title>\n",
       "<path fill=\"none\" stroke=\"#000000\" d=\"M35,-94.85C35,-86.5601 35,-77.6659 35,-69.1912\"/>\n",
       "<polygon fill=\"#000000\" stroke=\"#000000\" points=\"38.5001,-69.1309 35,-59.1309 31.5001,-69.131 38.5001,-69.1309\"/>\n",
       "</g>\n",
       "</g>\n",
       "</svg>\n"
      ],
      "text/plain": [
       "<graphviz.dot.Digraph at 0x7fa298245c40>"
      ]
     },
     "execution_count": 13,
     "metadata": {},
     "output_type": "execute_result"
    }
   ],
   "source": [
    "# View the t1_flow Details\n",
    "t1_flow.display()"
   ]
  },
  {
   "cell_type": "markdown",
   "metadata": {
    "id": "X3gtVE7sykA2"
   },
   "source": [
    "## Step 6B - Display JSON"
   ]
  },
  {
   "cell_type": "code",
   "execution_count": 14,
   "metadata": {
    "id": "5XojggPS34rE"
   },
   "outputs": [
    {
     "name": "stdout",
     "output_type": "stream",
     "text": [
      "{\n",
      "    \"Defaults\": {\n",
      "        \"Application\": \"PW4CM_Demo\",\n",
      "        \"SubApplication\": \"Demo-01\",\n",
      "        \"RunAs\": \"ctmuser\",\n",
      "        \"Host\": \"acb-rhctmv20\",\n",
      "        \"When\": {\n",
      "            \"Months\": [\n",
      "                \"JAN\",\n",
      "                \"OCT\",\n",
      "                \"DEC\"\n",
      "            ],\n",
      "            \"MonthDays\": [\n",
      "                \"ALL\"\n",
      "            ],\n",
      "            \"WeekDays\": [\n",
      "                \"MON\",\n",
      "                \"TUE\",\n",
      "                \"WED\",\n",
      "                \"THU\",\n",
      "                \"FRI\"\n",
      "            ],\n",
      "            \"FromTime\": \"0300\",\n",
      "            \"ToTime\": \"2100\"\n",
      "        }\n",
      "    },\n",
      "    \"HelloWorld\": {\n",
      "        \"Type\": \"Folder\",\n",
      "        \"Start-Flow\": {\n",
      "            \"Type\": \"Job:Dummy\"\n",
      "        },\n",
      "        \"End-Flow\": {\n",
      "            \"Type\": \"Job:Dummy\"\n",
      "        },\n",
      "        \"Hello-World\": {\n",
      "            \"Type\": \"Job:Dummy\"\n",
      "        },\n",
      "        \"Flow1\": {\n",
      "            \"Type\": \"Flow\",\n",
      "            \"Sequence\": [\n",
      "                \"Start-Flow\",\n",
      "                \"Hello-World\",\n",
      "                \"End-Flow\"\n",
      "            ]\n",
      "        }\n",
      "    }\n",
      "}\n"
     ]
    }
   ],
   "source": [
    "t1_flow.display_json()"
   ]
  },
  {
   "cell_type": "markdown",
   "metadata": {
    "id": "hBqW_iV2yKcW"
   },
   "source": [
    "# Step 7 - Submit Workflow to Control-M"
   ]
  },
  {
   "cell_type": "code",
   "execution_count": 16,
   "metadata": {
    "id": "LNFCqGbpt-J1"
   },
   "outputs": [
    {
     "name": "stderr",
     "output_type": "stream",
     "text": [
      "/Users/vtadinad/opt/anaconda3/envs/bmc_ctm-python-client/lib/python3.8/site-packages/urllib3/connectionpool.py:1013: InsecureRequestWarning: Unverified HTTPS request is being made to host 'acb-rhctmv20.centralus.cloudapp.azure.com'. Adding certificate verification is strongly advised. See: https://urllib3.readthedocs.io/en/1.26.x/advanced-usage.html#ssl-warnings\n",
      "  warnings.warn(\n"
     ]
    },
    {
     "name": "stdout",
     "output_type": "stream",
     "text": [
      "b'[ {\\n  \"deploymentFile\" : \"jobs.json\",\\n  \"successfulFoldersCount\" : 0,\\n  \"successfulSmartFoldersCount\" : 1,\\n  \"successfulSubFoldersCount\" : 0,\\n  \"successfulJobsCount\" : 3,\\n  \"successfulConnectionProfilesCount\" : 0,\\n  \"successfulDriversCount\" : 0,\\n  \"isDeployDescriptorValid\" : false,\\n  \"deployedFolders\" : [ \"HelloWorld\" ]\\n} ]'\n",
      "200\n",
      "Successfully submitted to Control-M\n",
      "Login to https://acb-rhctmv20.centralus.cloudapp.azure.com:8443/ControlM/ and use your workflow\n"
     ]
    },
    {
     "data": {
      "text/plain": [
       "200"
      ]
     },
     "execution_count": 16,
     "metadata": {},
     "output_type": "execute_result"
    }
   ],
   "source": [
    "t1_flow.deploy()"
   ]
  },
  {
   "cell_type": "code",
   "execution_count": 17,
   "metadata": {},
   "outputs": [
    {
     "name": "stderr",
     "output_type": "stream",
     "text": [
      "/Users/vtadinad/opt/anaconda3/envs/bmc_ctm-python-client/lib/python3.8/site-packages/urllib3/connectionpool.py:1013: InsecureRequestWarning: Unverified HTTPS request is being made to host 'acb-rhctmv20.centralus.cloudapp.azure.com'. Adding certificate verification is strongly advised. See: https://urllib3.readthedocs.io/en/1.26.x/advanced-usage.html#ssl-warnings\n",
      "  warnings.warn(\n"
     ]
    },
    {
     "name": "stdout",
     "output_type": "stream",
     "text": [
      "b'{\\n  \"runId\" : \"9130645b-1cfa-4684-bed9-5e0631d1e018\",\\n  \"statusURI\" : \"https://acb-rhctmv20.centralus.cloudapp.azure.com:8443/automation-api/run/status/9130645b-1cfa-4684-bed9-5e0631d1e018\"\\n}'\n",
      "200\n",
      "Successfully Ran job in Control-M\n",
      "Login to https://acb-rhctmv20.centralus.cloudapp.azure.com:8443/ControlM/ and use your workflow\n"
     ]
    },
    {
     "data": {
      "text/plain": [
       "200"
      ]
     },
     "execution_count": 17,
     "metadata": {},
     "output_type": "execute_result"
    }
   ],
   "source": [
    "t1_flow.run()"
   ]
  },
  {
   "cell_type": "code",
   "execution_count": null,
   "metadata": {},
   "outputs": [],
   "source": []
  }
 ],
 "metadata": {
  "colab": {
   "collapsed_sections": [
    "9PBDYvbtwWfL"
   ],
   "name": "Demo ctm-python-client 01 - HelloWorld.ipynb",
   "provenance": []
  },
  "kernelspec": {
   "display_name": "bmc_ctm-python-client",
   "language": "python",
   "name": "bmc_ctm-python-client"
  },
  "language_info": {
   "codemirror_mode": {
    "name": "ipython",
    "version": 3
   },
   "file_extension": ".py",
   "mimetype": "text/x-python",
   "name": "python",
   "nbconvert_exporter": "python",
   "pygments_lexer": "ipython3",
   "version": "3.8.10"
  }
 },
 "nbformat": 4,
 "nbformat_minor": 4
}
