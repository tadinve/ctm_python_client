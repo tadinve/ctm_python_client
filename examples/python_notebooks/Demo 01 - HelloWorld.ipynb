{
 "cells": [
  {
   "cell_type": "markdown",
   "metadata": {
    "id": "iCm2sd89tOdP"
   },
   "source": [
    "# Demo: Defining Control_M Workflows using Python"
   ]
  },
  {
   "cell_type": "markdown",
   "metadata": {
    "id": "dornvvu0tYxj"
   },
   "source": [
    "# Step 1 - Setup"
   ]
  },
  {
   "cell_type": "markdown",
   "metadata": {
    "id": "GKkmksYi1-Kn"
   },
   "source": [
    "## Step 1A - Install the library"
   ]
  },
  {
   "cell_type": "code",
   "execution_count": 1,
   "metadata": {},
   "outputs": [
    {
     "name": "stdout",
     "output_type": "stream",
     "text": [
      "pip 21.2.4 from /opt/conda/lib/python3.8/site-packages/pip (python 3.8)\r\n"
     ]
    }
   ],
   "source": [
    "!pip --version"
   ]
  },
  {
   "cell_type": "code",
   "execution_count": 2,
   "metadata": {
    "scrolled": true
   },
   "outputs": [
    {
     "name": "stdout",
     "output_type": "stream",
     "text": [
      "\u001b[33mWARNING: The directory '/home/jovyan/.cache/pip' or its parent directory is not owned or is not writable by the current user. The cache has been disabled. Check the permissions and owner of that directory. If executing pip with sudo, you should use sudo's -H flag.\u001b[0m\n",
      "Collecting git+https://github.com/tadinve/ctm_python_client.git\n",
      "  Cloning https://github.com/tadinve/ctm_python_client.git to /tmp/pip-req-build-uu1eg0a2\n",
      "  Running command git clone -q https://github.com/tadinve/ctm_python_client.git /tmp/pip-req-build-uu1eg0a2\n",
      "  Resolved https://github.com/tadinve/ctm_python_client.git to commit 444e8074730477ee00da5027e8118f22df083971\n",
      "Collecting graphviz>=0.10\n",
      "\u001b[33m  WARNING: Retrying (Retry(total=4, connect=None, read=None, redirect=None, status=None)) after connection broken by 'ReadTimeoutError(\"HTTPSConnectionPool(host='files.pythonhosted.org', port=443): Read timed out. (read timeout=15)\")': /packages/97/14/b5eeeb6d24dbca0ada857ce4a453985df34d9512464bb20cc1a8aca44c54/graphviz-0.17-py3-none-any.whl\u001b[0m\n",
      "  Downloading graphviz-0.17-py3-none-any.whl (18 kB)\n",
      "Requirement already satisfied: requests>=2.23.0 in /opt/conda/lib/python3.8/site-packages (from ctm-python-client==0.3.0) (2.24.0)\n",
      "Requirement already satisfied: urllib3 in /opt/conda/lib/python3.8/site-packages (from ctm-python-client==0.3.0) (1.25.9)\n",
      "Requirement already satisfied: idna<3,>=2.5 in /opt/conda/lib/python3.8/site-packages (from requests>=2.23.0->ctm-python-client==0.3.0) (2.10)\n",
      "Requirement already satisfied: certifi>=2017.4.17 in /opt/conda/lib/python3.8/site-packages (from requests>=2.23.0->ctm-python-client==0.3.0) (2020.6.20)\n",
      "Requirement already satisfied: chardet<4,>=3.0.2 in /opt/conda/lib/python3.8/site-packages (from requests>=2.23.0->ctm-python-client==0.3.0) (3.0.4)\n",
      "Building wheels for collected packages: ctm-python-client\n",
      "  Building wheel for ctm-python-client (setup.py) ... \u001b[?25ldone\n",
      "\u001b[?25h  Created wheel for ctm-python-client: filename=ctm_python_client-0.3.0-py3-none-any.whl size=598731 sha256=b7cd87eb35b9f80fc864219f6c4d209ec1e2c2f0510a826b2cf80418691f49f1\n",
      "  Stored in directory: /tmp/pip-ephem-wheel-cache-fcs4gkj6/wheels/30/51/3d/ed0afc33329fe5f00ec693887200c9dbff52ff29ff02843134\n",
      "Successfully built ctm-python-client\n",
      "Installing collected packages: graphviz, ctm-python-client\n",
      "Successfully installed ctm-python-client-0.3.0 graphviz-0.17\n",
      "\u001b[33mWARNING: Running pip as the 'root' user can result in broken permissions and conflicting behaviour with the system package manager. It is recommended to use a virtual environment instead: https://pip.pypa.io/warnings/venv\u001b[0m\n"
     ]
    }
   ],
   "source": [
    "!pip install git+https://github.com/tadinve/ctm_python_client.git"
   ]
  },
  {
   "cell_type": "code",
   "execution_count": 3,
   "metadata": {
    "id": "6iwRhegFtcXJ"
   },
   "outputs": [],
   "source": [
    "import os\n",
    "from ctm_python_client.core.bmc_control_m import CmJobFlow\n",
    "from ctm_python_client.jobs.dummy import DummyJob"
   ]
  },
  {
   "cell_type": "markdown",
   "metadata": {
    "id": "TfK9UygIu3Qg"
   },
   "source": [
    "# Step 2 - Instantiate, Authenticate and Schedule\n"
   ]
  },
  {
   "cell_type": "markdown",
   "metadata": {
    "id": "N6CwrQJ5Lxz1"
   },
   "source": [
    "## Step 2A - Define the Connection Variables"
   ]
  },
  {
   "cell_type": "code",
   "execution_count": 4,
   "metadata": {},
   "outputs": [],
   "source": [
    "# Create a file .secrets with the following three lines. One for uri, one for user and one for password.\n",
    "\"\"\"\n",
    "https://acb-rhctmv20.centralus.cloudapp.azure.com:8443/automation-api\n",
    "username\n",
    "password\n",
    "\"\"\"\n",
    "BASE_PATH = os.path.abspath(\"\")\n",
    "with open(BASE_PATH + \"/.secrets\", \"r\") as fp:\n",
    "    ctm_uri = fp.readline().strip()\n",
    "    ctm_user = fp.readline().strip()\n",
    "    ctm_pwd = fp.readline().strip()"
   ]
  },
  {
   "cell_type": "markdown",
   "metadata": {
    "id": "N6CwrQJ5Lxz1"
   },
   "source": [
    "## Step 2B - Create the object"
   ]
  },
  {
   "cell_type": "code",
   "execution_count": 5,
   "metadata": {
    "colab": {
     "base_uri": "https://localhost:8080/",
     "height": 35
    },
    "id": "FDszp8dtRJi_",
    "outputId": "703ac9a8-eb2e-4840-bfc1-10d62fa4315f"
   },
   "outputs": [
    {
     "data": {
      "text/plain": [
       "'6BD4F08437F13554BD33C0A27782396F335D21EBB5B0A3C2CC9A1EAF3F17FA0C79C29FA81FBA097D0C9213C187DCD02E6983AC8EA6E92DD8F59E2D058B2C719B'"
      ]
     },
     "execution_count": 5,
     "metadata": {},
     "output_type": "execute_result"
    }
   ],
   "source": [
    "from ctm_python_client.session.session import Session\n",
    "\n",
    "session = Session(endpoint=ctm_uri, username=ctm_user, password=ctm_pwd)\n",
    "session.get_token()"
   ]
  },
  {
   "cell_type": "code",
   "execution_count": 6,
   "metadata": {
    "id": "vI4PTJddLxz1"
   },
   "outputs": [],
   "source": [
    "t1_flow = CmJobFlow(\n",
    "    application=\"Naga0.2_Demo\", sub_application=\"Demo-02\", session=session, ctm_uri=ctm_uri\n",
    ")"
   ]
  },
  {
   "cell_type": "markdown",
   "metadata": {
    "id": "k7HfewL42f18"
   },
   "source": [
    "## Step 2C - Define the Schedule"
   ]
  },
  {
   "cell_type": "code",
   "execution_count": 7,
   "metadata": {
    "id": "PW4yoM6b-2v2"
   },
   "outputs": [],
   "source": [
    "t1_flow.set_run_as(username=\"ctmuser\", host=\"acb-rhctmv20\")"
   ]
  },
  {
   "cell_type": "code",
   "execution_count": 8,
   "metadata": {
    "id": "qMVzFXekvSTy"
   },
   "outputs": [],
   "source": [
    "# Define the schedule\n",
    "months = [\"JAN\", \"OCT\", \"DEC\"]\n",
    "monthDays = [\"ALL\"]\n",
    "weekDays = [\"MON\", \"TUE\", \"WED\", \"THU\", \"FRI\"]\n",
    "fromTime = \"0300\"\n",
    "toTime = \"2100\"\n",
    "t1_flow.set_schedule(months, monthDays, weekDays, fromTime, toTime)"
   ]
  },
  {
   "cell_type": "markdown",
   "metadata": {
    "id": "9PBDYvbtwWfL"
   },
   "source": [
    "# Step 3  - Create Folder"
   ]
  },
  {
   "cell_type": "code",
   "execution_count": 9,
   "metadata": {
    "id": "7MQ5so2gwWK1"
   },
   "outputs": [],
   "source": [
    "# Create Fodler\n",
    "f1 = t1_flow.create_folder(name=\"HelloWorld\")"
   ]
  },
  {
   "cell_type": "markdown",
   "metadata": {
    "id": "dLGmvMkuwdMW"
   },
   "source": [
    "# Step 4 - Create Tasks"
   ]
  },
  {
   "cell_type": "code",
   "execution_count": 10,
   "metadata": {
    "id": "shpuP7_fwiNP"
   },
   "outputs": [],
   "source": [
    "start = t1_flow.add_job(f1, DummyJob(f1, \"Start-Flow\"))\n",
    "end = t1_flow.add_job(f1, DummyJob(f1, \"End-Flow\"))\n",
    "\n",
    "hello_world_id = t1_flow.add_job(f1, DummyJob(f1, \"Hello-World\"))"
   ]
  },
  {
   "cell_type": "markdown",
   "metadata": {
    "id": "8uRR5vGWx-9Q"
   },
   "source": [
    "# Step 5 - Chain Tasks"
   ]
  },
  {
   "cell_type": "code",
   "execution_count": 11,
   "metadata": {
    "colab": {
     "base_uri": "https://localhost:8080/"
    },
    "id": "oiaQR99LPIVm",
    "outputId": "11c0cf22-ad56-401e-82d5-14fe7121b2bc"
   },
   "outputs": [
    {
     "name": "stdout",
     "output_type": "stream",
     "text": [
      "[('Start-Flow', <ctm_python_client.jobs.dummy.DummyJob object at 0x7f7aac255eb0>), ('End-Flow', <ctm_python_client.jobs.dummy.DummyJob object at 0x7f7aac255a60>), ('Hello-World', <ctm_python_client.jobs.dummy.DummyJob object at 0x7f7aac255c40>)]\n",
      "['0', '2', '1']\n"
     ]
    }
   ],
   "source": [
    "# start >>  hello_world_id >> end\n",
    "t1_flow.chain_jobs(f1, [start, hello_world_id, end])"
   ]
  },
  {
   "cell_type": "markdown",
   "metadata": {
    "id": "QrQo_1Q4yG-7"
   },
   "source": [
    "# Step 6 - Display Workflow"
   ]
  },
  {
   "cell_type": "markdown",
   "metadata": {
    "id": "Mn5OvXGuydlJ"
   },
   "source": [
    "## Step 6A - Display DAG"
   ]
  },
  {
   "cell_type": "code",
   "execution_count": 12,
   "metadata": {
    "colab": {
     "base_uri": "https://localhost:8080/"
    },
    "id": "m8vAW424yWXb",
    "outputId": "b46ecabb-7ae5-4b52-d7bb-8362d80b3dd5"
   },
   "outputs": [
    {
     "data": {
      "text/plain": [
       "([('Start-Flow', <ctm_python_client.jobs.dummy.DummyJob at 0x7f7aac255eb0>),\n",
       "  ('End-Flow', <ctm_python_client.jobs.dummy.DummyJob at 0x7f7aac255a60>),\n",
       "  ('Hello-World', <ctm_python_client.jobs.dummy.DummyJob at 0x7f7aac255c40>)],\n",
       " [('Start-Flow', 'Hello-World', 'solid'),\n",
       "  ('Hello-World', 'End-Flow', 'solid')])"
      ]
     },
     "execution_count": 12,
     "metadata": {},
     "output_type": "execute_result"
    }
   ],
   "source": [
    "# View the t1_flow Details\n",
    "nodes, edges = t1_flow.get_nodes_and_edges()\n",
    "nodes, edges"
   ]
  },
  {
   "cell_type": "code",
   "execution_count": 13,
   "metadata": {
    "id": "PZ32Fm6GHLqd"
   },
   "outputs": [
    {
     "name": "stdout",
     "output_type": "stream",
     "text": [
      "=========== Jobflow Details ===================\n",
      "Application:  Naga0.2_Demo\n",
      "Sub Application:  Demo-02\n",
      "Folder Name: HelloWorld \n",
      "\n",
      "\n",
      "\n",
      "('Start-Flow', 'Hello-World', 'solid')\n",
      "('Hello-World', 'End-Flow', 'solid')\n"
     ]
    },
    {
     "data": {
      "image/svg+xml": [
       "<?xml version=\"1.0\" encoding=\"UTF-8\" standalone=\"no\"?>\n",
       "<!DOCTYPE svg PUBLIC \"-//W3C//DTD SVG 1.1//EN\"\n",
       " \"http://www.w3.org/Graphics/SVG/1.1/DTD/svg11.dtd\">\n",
       "<!-- Generated by graphviz version 2.43.0 (0)\n",
       " -->\n",
       "<!-- Title: G Pages: 1 -->\n",
       "<svg width=\"118pt\" height=\"188pt\"\n",
       " viewBox=\"0.00 0.00 118.49 188.00\" xmlns=\"http://www.w3.org/2000/svg\" xmlns:xlink=\"http://www.w3.org/1999/xlink\">\n",
       "<g id=\"graph0\" class=\"graph\" transform=\"scale(1 1) rotate(0) translate(4 184)\">\n",
       "<title>G</title>\n",
       "<polygon fill=\"white\" stroke=\"transparent\" points=\"-4,4 -4,-184 114.49,-184 114.49,4 -4,4\"/>\n",
       "<!-- Start&#45;Flow -->\n",
       "<g id=\"node1\" class=\"node\">\n",
       "<title>Start&#45;Flow</title>\n",
       "<ellipse fill=\"none\" stroke=\"black\" cx=\"55.25\" cy=\"-162\" rx=\"48.19\" ry=\"18\"/>\n",
       "<text text-anchor=\"middle\" x=\"55.25\" y=\"-158.3\" font-family=\"Times,serif\" font-size=\"14.00\">Start&#45;Flow</text>\n",
       "</g>\n",
       "<!-- Hello&#45;World -->\n",
       "<g id=\"node3\" class=\"node\">\n",
       "<title>Hello&#45;World</title>\n",
       "<ellipse fill=\"none\" stroke=\"black\" cx=\"55.25\" cy=\"-90\" rx=\"55.49\" ry=\"18\"/>\n",
       "<text text-anchor=\"middle\" x=\"55.25\" y=\"-86.3\" font-family=\"Times,serif\" font-size=\"14.00\">Hello&#45;World</text>\n",
       "</g>\n",
       "<!-- Start&#45;Flow&#45;&gt;Hello&#45;World -->\n",
       "<g id=\"edge1\" class=\"edge\">\n",
       "<title>Start&#45;Flow&#45;&gt;Hello&#45;World</title>\n",
       "<path fill=\"none\" stroke=\"black\" d=\"M55.25,-143.7C55.25,-135.98 55.25,-126.71 55.25,-118.11\"/>\n",
       "<polygon fill=\"black\" stroke=\"black\" points=\"58.75,-118.1 55.25,-108.1 51.75,-118.1 58.75,-118.1\"/>\n",
       "</g>\n",
       "<!-- End&#45;Flow -->\n",
       "<g id=\"node2\" class=\"node\">\n",
       "<title>End&#45;Flow</title>\n",
       "<ellipse fill=\"none\" stroke=\"black\" cx=\"55.25\" cy=\"-18\" rx=\"46.29\" ry=\"18\"/>\n",
       "<text text-anchor=\"middle\" x=\"55.25\" y=\"-14.3\" font-family=\"Times,serif\" font-size=\"14.00\">End&#45;Flow</text>\n",
       "</g>\n",
       "<!-- Hello&#45;World&#45;&gt;End&#45;Flow -->\n",
       "<g id=\"edge2\" class=\"edge\">\n",
       "<title>Hello&#45;World&#45;&gt;End&#45;Flow</title>\n",
       "<path fill=\"none\" stroke=\"black\" d=\"M55.25,-71.7C55.25,-63.98 55.25,-54.71 55.25,-46.11\"/>\n",
       "<polygon fill=\"black\" stroke=\"black\" points=\"58.75,-46.1 55.25,-36.1 51.75,-46.1 58.75,-46.1\"/>\n",
       "</g>\n",
       "</g>\n",
       "</svg>\n"
      ],
      "text/plain": [
       "<graphviz.dot.Digraph at 0x7f7aac1fad30>"
      ]
     },
     "execution_count": 13,
     "metadata": {},
     "output_type": "execute_result"
    }
   ],
   "source": [
    "# display using graphviz\n",
    "from ctm_python_client.utils.displayDAG import DisplayDAG\n",
    "\n",
    "# sudo apt-get install graphviz (on unix)\n",
    "#  or\n",
    "# brew install graphviz (for mac)\n",
    "DisplayDAG(t1_flow).display_graphviz()"
   ]
  },
  {
   "cell_type": "markdown",
   "metadata": {
    "id": "X3gtVE7sykA2"
   },
   "source": [
    "## Step 6B - Display JSON"
   ]
  },
  {
   "cell_type": "code",
   "execution_count": 14,
   "metadata": {
    "colab": {
     "base_uri": "https://localhost:8080/"
    },
    "id": "5XojggPS34rE",
    "outputId": "7e044bbf-d412-4d89-f6b9-f923fb32bd8f"
   },
   "outputs": [
    {
     "ename": "TypeError",
     "evalue": "get_json() takes 1 positional argument but 2 were given",
     "output_type": "error",
     "traceback": [
      "\u001b[0;31m---------------------------------------------------------------------------\u001b[0m",
      "\u001b[0;31mTypeError\u001b[0m                                 Traceback (most recent call last)",
      "\u001b[0;32m<ipython-input-14-743428a94cdc>\u001b[0m in \u001b[0;36m<module>\u001b[0;34m\u001b[0m\n\u001b[0;32m----> 1\u001b[0;31m \u001b[0mt1_flow\u001b[0m\u001b[0;34m.\u001b[0m\u001b[0mdisplay_json\u001b[0m\u001b[0;34m(\u001b[0m\u001b[0;34m)\u001b[0m\u001b[0;34m\u001b[0m\u001b[0;34m\u001b[0m\u001b[0m\n\u001b[0m",
      "\u001b[0;32m/opt/conda/lib/python3.8/site-packages/ctm_python_client/core/bmc_control_m.py\u001b[0m in \u001b[0;36mdisplay_json\u001b[0;34m(self)\u001b[0m\n\u001b[1;32m    190\u001b[0m \u001b[0;34m\u001b[0m\u001b[0m\n\u001b[1;32m    191\u001b[0m     \u001b[0;32mdef\u001b[0m \u001b[0mdisplay_json\u001b[0m\u001b[0;34m(\u001b[0m\u001b[0mself\u001b[0m\u001b[0;34m)\u001b[0m\u001b[0;34m:\u001b[0m\u001b[0;34m\u001b[0m\u001b[0;34m\u001b[0m\u001b[0m\n\u001b[0;32m--> 192\u001b[0;31m         \u001b[0mstr\u001b[0m \u001b[0;34m=\u001b[0m \u001b[0mself\u001b[0m\u001b[0;34m.\u001b[0m\u001b[0mget_json\u001b[0m\u001b[0;34m(\u001b[0m\u001b[0mself\u001b[0m\u001b[0;34m)\u001b[0m\u001b[0;34m\u001b[0m\u001b[0;34m\u001b[0m\u001b[0m\n\u001b[0m\u001b[1;32m    193\u001b[0m         \u001b[0mprint\u001b[0m\u001b[0;34m(\u001b[0m\u001b[0mstr\u001b[0m\u001b[0;34m)\u001b[0m\u001b[0;34m\u001b[0m\u001b[0;34m\u001b[0m\u001b[0m\n\u001b[1;32m    194\u001b[0m \u001b[0;34m\u001b[0m\u001b[0m\n",
      "\u001b[0;31mTypeError\u001b[0m: get_json() takes 1 positional argument but 2 were given"
     ]
    }
   ],
   "source": [
    "t1_flow.display_json()"
   ]
  },
  {
   "cell_type": "markdown",
   "metadata": {
    "id": "hBqW_iV2yKcW"
   },
   "source": [
    "# Step 7 - Submit Workflow to Control-M"
   ]
  },
  {
   "cell_type": "code",
   "execution_count": null,
   "metadata": {
    "colab": {
     "base_uri": "https://localhost:8080/"
    },
    "id": "LNFCqGbpt-J1",
    "outputId": "146f4413-71f6-48cf-cad6-9a8cd7a2e723"
   },
   "outputs": [],
   "source": [
    "t1_flow.deploy()"
   ]
  },
  {
   "cell_type": "code",
   "execution_count": null,
   "metadata": {
    "colab": {
     "base_uri": "https://localhost:8080/"
    },
    "id": "fP-WxlpJgtPW",
    "outputId": "dd7e02b3-6e94-43b2-b0a6-ab115eb857c4"
   },
   "outputs": [],
   "source": [
    "t1_flow.run()"
   ]
  },
  {
   "cell_type": "code",
   "execution_count": null,
   "metadata": {
    "id": "3NzmdbQovSVH"
   },
   "outputs": [],
   "source": []
  }
 ],
 "metadata": {
  "colab": {
   "collapsed_sections": [
    "9PBDYvbtwWfL"
   ],
   "name": "Demo Naga0.2 01 - HelloWorld.ipynb",
   "provenance": []
  },
  "interpreter": {
   "hash": "0acf5e98f0d0e19783fbfe4e74c866635b65b3ca578adc3721d8cbd623aa3da4"
  },
  "kernelspec": {
   "display_name": "Python 3",
   "language": "python",
   "name": "python3"
  },
  "language_info": {
   "codemirror_mode": {
    "name": "ipython",
    "version": 3
   },
   "file_extension": ".py",
   "mimetype": "text/x-python",
   "name": "python",
   "nbconvert_exporter": "python",
   "pygments_lexer": "ipython3",
   "version": "3.8.3"
  }
 },
 "nbformat": 4,
 "nbformat_minor": 2
}
