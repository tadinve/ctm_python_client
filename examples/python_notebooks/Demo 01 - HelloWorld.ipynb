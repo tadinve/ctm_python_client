{
 "cells": [
  {
   "cell_type": "markdown",
   "source": [
    "# Demo: Defining Control_M Workflows using Python"
   ],
   "metadata": {
    "id": "iCm2sd89tOdP"
   }
  },
  {
   "cell_type": "markdown",
   "source": [
    "# Step 1 - Setup"
   ],
   "metadata": {
    "id": "dornvvu0tYxj"
   }
  },
  {
   "cell_type": "markdown",
   "source": [
    "## Step 1A - Install the library"
   ],
   "metadata": {
    "id": "GKkmksYi1-Kn"
   }
  },
  {
   "cell_type": "code",
   "execution_count": 1,
   "source": [
    "!pip --version"
   ],
   "outputs": [
    {
     "output_type": "stream",
     "name": "stdout",
     "text": [
      "pip 21.2.4 from /opt/conda/lib/python3.8/site-packages/pip (python 3.8)\r\n"
     ]
    }
   ],
   "metadata": {}
  },
  {
   "cell_type": "code",
   "execution_count": 2,
   "source": [
    "!pip install git+https://github.com/controlm/ctm_python_client.git"
   ],
   "outputs": [
    {
     "output_type": "stream",
     "name": "stdout",
     "text": [
      "\u001b[33mWARNING: The directory '/home/jovyan/.cache/pip' or its parent directory is not owned or is not writable by the current user. The cache has been disabled. Check the permissions and owner of that directory. If executing pip with sudo, you should use sudo's -H flag.\u001b[0m\n",
      "Collecting git+https://github.com/tadinve/ctm_python_client.git\n",
      "  Cloning https://github.com/tadinve/ctm_python_client.git to /tmp/pip-req-build-2z6_hqrg\n",
      "  Running command git clone -q https://github.com/tadinve/ctm_python_client.git /tmp/pip-req-build-2z6_hqrg\n",
      "  Resolved https://github.com/tadinve/ctm_python_client.git to commit 67650cd6b51a9c086e84d124e5cc86dc1acdd9c5\n",
      "Collecting graphviz>=0.10\n",
      "  Downloading graphviz-0.17-py3-none-any.whl (18 kB)\n",
      "Requirement already satisfied: requests>=2.23.0 in /opt/conda/lib/python3.8/site-packages (from ctm-python-client==0.3.0) (2.24.0)\n",
      "Requirement already satisfied: urllib3 in /opt/conda/lib/python3.8/site-packages (from ctm-python-client==0.3.0) (1.25.9)\n",
      "Requirement already satisfied: idna<3,>=2.5 in /opt/conda/lib/python3.8/site-packages (from requests>=2.23.0->ctm-python-client==0.3.0) (2.10)\n",
      "Requirement already satisfied: chardet<4,>=3.0.2 in /opt/conda/lib/python3.8/site-packages (from requests>=2.23.0->ctm-python-client==0.3.0) (3.0.4)\n",
      "Requirement already satisfied: certifi>=2017.4.17 in /opt/conda/lib/python3.8/site-packages (from requests>=2.23.0->ctm-python-client==0.3.0) (2020.6.20)\n",
      "Building wheels for collected packages: ctm-python-client\n",
      "  Building wheel for ctm-python-client (setup.py) ... \u001b[?25ldone\n",
      "\u001b[?25h  Created wheel for ctm-python-client: filename=ctm_python_client-0.3.0-py3-none-any.whl size=598736 sha256=f82848a09dcb73b6eedf04094c54b7d84a13395dd470ebeef665741a4f2da573\n",
      "  Stored in directory: /tmp/pip-ephem-wheel-cache-3i8ovkoa/wheels/30/51/3d/ed0afc33329fe5f00ec693887200c9dbff52ff29ff02843134\n",
      "Successfully built ctm-python-client\n",
      "Installing collected packages: graphviz, ctm-python-client\n",
      "Successfully installed ctm-python-client-0.3.0 graphviz-0.17\n",
      "\u001b[33mWARNING: Running pip as the 'root' user can result in broken permissions and conflicting behaviour with the system package manager. It is recommended to use a virtual environment instead: https://pip.pypa.io/warnings/venv\u001b[0m\n"
     ]
    }
   ],
   "metadata": {
    "scrolled": true
   }
  },
  {
   "cell_type": "code",
   "execution_count": 3,
   "source": [
    "import os\n",
    "from ctm_python_client.core.bmc_control_m import CmJobFlow\n",
    "from ctm_python_client.jobs.dummy import DummyJob"
   ],
   "outputs": [],
   "metadata": {
    "id": "6iwRhegFtcXJ"
   }
  },
  {
   "cell_type": "markdown",
   "source": [
    "# Step 2 - Instantiate, Authenticate and Schedule\n"
   ],
   "metadata": {
    "id": "TfK9UygIu3Qg"
   }
  },
  {
   "cell_type": "markdown",
   "source": [
    "## Step 2A - Define the Connection Variables"
   ],
   "metadata": {
    "id": "N6CwrQJ5Lxz1"
   }
  },
  {
   "cell_type": "code",
   "execution_count": 4,
   "source": [
    "# Create a file .secrets with the following three lines. One for uri, one for user and one for password.\n",
    "\"\"\"\n",
    "https://acb-rhctmv20.centralus.cloudapp.azure.com:8443/automation-api\n",
    "username\n",
    "password\n",
    "\"\"\"\n",
    "BASE_PATH = os.path.abspath(\"\")\n",
    "with open(BASE_PATH + \"/.secrets\", \"r\") as fp:\n",
    "    ctm_uri = fp.readline().strip()\n",
    "    ctm_user = fp.readline().strip()\n",
    "    ctm_pwd = fp.readline().strip()"
   ],
   "outputs": [],
   "metadata": {}
  },
  {
   "cell_type": "markdown",
   "source": [
    "## Step 2B - Create the object"
   ],
   "metadata": {
    "id": "N6CwrQJ5Lxz1"
   }
  },
  {
   "cell_type": "code",
   "execution_count": 5,
   "source": [
    "from ctm_python_client.session.session import Session\n",
    "\n",
    "session = Session(endpoint=ctm_uri, username=ctm_user, password=ctm_pwd)\n",
    "session.get_token()"
   ],
   "outputs": [
    {
     "output_type": "execute_result",
     "data": {
      "text/plain": [
       "'210E999367E8E791A814BC15A47CFFAF22D349CD34931AB7C9531216222F90E41EF5F4EE900CB41E20515A962F7D169D85D04BED2CA71CF62936B99A627A236D'"
      ]
     },
     "metadata": {},
     "execution_count": 5
    }
   ],
   "metadata": {
    "colab": {
     "base_uri": "https://localhost:8080/",
     "height": 35
    },
    "id": "FDszp8dtRJi_",
    "outputId": "703ac9a8-eb2e-4840-bfc1-10d62fa4315f"
   }
  },
  {
   "cell_type": "code",
   "execution_count": 6,
   "source": [
    "t1_flow = CmJobFlow(\n",
    "    application=\"Naga0.2_Demo\", sub_application=\"Demo-02\", session=session, ctm_uri=ctm_uri\n",
    ")"
   ],
   "outputs": [],
   "metadata": {
    "id": "vI4PTJddLxz1"
   }
  },
  {
   "cell_type": "markdown",
   "source": [
    "## Step 2C - Define the Schedule"
   ],
   "metadata": {
    "id": "k7HfewL42f18"
   }
  },
  {
   "cell_type": "code",
   "execution_count": 7,
   "source": [
    "t1_flow.set_run_as(username=\"ctmuser\", host=\"acb-rhctmv20\")"
   ],
   "outputs": [],
   "metadata": {
    "id": "PW4yoM6b-2v2"
   }
  },
  {
   "cell_type": "code",
   "execution_count": 8,
   "source": [
    "# Define the schedule\n",
    "months = [\"JAN\", \"OCT\", \"DEC\"]\n",
    "monthDays = [\"ALL\"]\n",
    "weekDays = [\"MON\", \"TUE\", \"WED\", \"THU\", \"FRI\"]\n",
    "fromTime = \"0300\"\n",
    "toTime = \"2100\"\n",
    "t1_flow.set_schedule(months, monthDays, weekDays, fromTime, toTime)"
   ],
   "outputs": [],
   "metadata": {
    "id": "qMVzFXekvSTy"
   }
  },
  {
   "cell_type": "markdown",
   "source": [
    "# Step 3  - Create Folder"
   ],
   "metadata": {
    "id": "9PBDYvbtwWfL"
   }
  },
  {
   "cell_type": "code",
   "execution_count": 9,
   "source": [
    "# Create Fodler\n",
    "f1 = t1_flow.create_folder(name=\"HelloWorld\")"
   ],
   "outputs": [],
   "metadata": {
    "id": "7MQ5so2gwWK1"
   }
  },
  {
   "cell_type": "markdown",
   "source": [
    "# Step 4 - Create Tasks"
   ],
   "metadata": {
    "id": "dLGmvMkuwdMW"
   }
  },
  {
   "cell_type": "code",
   "execution_count": 10,
   "source": [
    "start = t1_flow.add_job(f1, DummyJob(f1, \"Start-Flow\"))\n",
    "end = t1_flow.add_job(f1, DummyJob(f1, \"End-Flow\"))\n",
    "\n",
    "hello_world_id = t1_flow.add_job(f1, DummyJob(f1, \"Hello-World\"))"
   ],
   "outputs": [],
   "metadata": {
    "id": "shpuP7_fwiNP"
   }
  },
  {
   "cell_type": "markdown",
   "source": [
    "# Step 5 - Chain Tasks"
   ],
   "metadata": {
    "id": "8uRR5vGWx-9Q"
   }
  },
  {
   "cell_type": "code",
   "execution_count": 11,
   "source": [
    "# start >>  hello_world_id >> end\n",
    "t1_flow.chain_jobs(f1, [start, hello_world_id, end])"
   ],
   "outputs": [
    {
     "output_type": "stream",
     "name": "stdout",
     "text": [
      "[('Start-Flow', <ctm_python_client.jobs.dummy.DummyJob object at 0x7f8abcd649d0>), ('End-Flow', <ctm_python_client.jobs.dummy.DummyJob object at 0x7f8abcd64700>), ('Hello-World', <ctm_python_client.jobs.dummy.DummyJob object at 0x7f8abcd64b50>)]\n",
      "['0', '2', '1']\n"
     ]
    }
   ],
   "metadata": {
    "colab": {
     "base_uri": "https://localhost:8080/"
    },
    "id": "oiaQR99LPIVm",
    "outputId": "11c0cf22-ad56-401e-82d5-14fe7121b2bc"
   }
  },
  {
   "cell_type": "markdown",
   "source": [
    "# Step 6 - Display Workflow"
   ],
   "metadata": {
    "id": "QrQo_1Q4yG-7"
   }
  },
  {
   "cell_type": "markdown",
   "source": [
    "## Step 6A - Display DAG"
   ],
   "metadata": {
    "id": "Mn5OvXGuydlJ"
   }
  },
  {
   "cell_type": "code",
   "execution_count": 12,
   "source": [
    "# View the t1_flow Details\n",
    "nodes, edges = t1_flow.get_nodes_and_edges()\n",
    "nodes, edges"
   ],
   "outputs": [
    {
     "output_type": "execute_result",
     "data": {
      "text/plain": [
       "([('Start-Flow', <ctm_python_client.jobs.dummy.DummyJob at 0x7f8abcd649d0>),\n",
       "  ('End-Flow', <ctm_python_client.jobs.dummy.DummyJob at 0x7f8abcd64700>),\n",
       "  ('Hello-World', <ctm_python_client.jobs.dummy.DummyJob at 0x7f8abcd64b50>)],\n",
       " [('Start-Flow', 'Hello-World', 'solid'),\n",
       "  ('Hello-World', 'End-Flow', 'solid')])"
      ]
     },
     "metadata": {},
     "execution_count": 12
    }
   ],
   "metadata": {
    "colab": {
     "base_uri": "https://localhost:8080/"
    },
    "id": "m8vAW424yWXb",
    "outputId": "b46ecabb-7ae5-4b52-d7bb-8362d80b3dd5"
   }
  },
  {
   "cell_type": "code",
   "execution_count": 13,
   "source": [
    "# display using graphviz\n",
    "from ctm_python_client.utils.displayDAG import DisplayDAG\n",
    "\n",
    "# sudo apt-get install graphviz (on unix)\n",
    "#  or\n",
    "# brew install graphviz (for mac)\n",
    "DisplayDAG(t1_flow).display_graphviz()"
   ],
   "outputs": [
    {
     "output_type": "stream",
     "name": "stdout",
     "text": [
      "=========== Jobflow Details ===================\n",
      "Application:  Naga0.2_Demo\n",
      "Sub Application:  Demo-02\n",
      "Folder Name: HelloWorld \n",
      "\n",
      "\n",
      "\n",
      "('Start-Flow', 'Hello-World', 'solid')\n",
      "('Hello-World', 'End-Flow', 'solid')\n"
     ]
    },
    {
     "output_type": "execute_result",
     "data": {
      "image/svg+xml": "<?xml version=\"1.0\" encoding=\"UTF-8\" standalone=\"no\"?>\n<!DOCTYPE svg PUBLIC \"-//W3C//DTD SVG 1.1//EN\"\n \"http://www.w3.org/Graphics/SVG/1.1/DTD/svg11.dtd\">\n<!-- Generated by graphviz version 2.43.0 (0)\n -->\n<!-- Title: G Pages: 1 -->\n<svg width=\"118pt\" height=\"188pt\"\n viewBox=\"0.00 0.00 118.49 188.00\" xmlns=\"http://www.w3.org/2000/svg\" xmlns:xlink=\"http://www.w3.org/1999/xlink\">\n<g id=\"graph0\" class=\"graph\" transform=\"scale(1 1) rotate(0) translate(4 184)\">\n<title>G</title>\n<polygon fill=\"white\" stroke=\"transparent\" points=\"-4,4 -4,-184 114.49,-184 114.49,4 -4,4\"/>\n<!-- Start&#45;Flow -->\n<g id=\"node1\" class=\"node\">\n<title>Start&#45;Flow</title>\n<ellipse fill=\"none\" stroke=\"black\" cx=\"55.25\" cy=\"-162\" rx=\"48.19\" ry=\"18\"/>\n<text text-anchor=\"middle\" x=\"55.25\" y=\"-158.3\" font-family=\"Times,serif\" font-size=\"14.00\">Start&#45;Flow</text>\n</g>\n<!-- Hello&#45;World -->\n<g id=\"node3\" class=\"node\">\n<title>Hello&#45;World</title>\n<ellipse fill=\"none\" stroke=\"black\" cx=\"55.25\" cy=\"-90\" rx=\"55.49\" ry=\"18\"/>\n<text text-anchor=\"middle\" x=\"55.25\" y=\"-86.3\" font-family=\"Times,serif\" font-size=\"14.00\">Hello&#45;World</text>\n</g>\n<!-- Start&#45;Flow&#45;&gt;Hello&#45;World -->\n<g id=\"edge1\" class=\"edge\">\n<title>Start&#45;Flow&#45;&gt;Hello&#45;World</title>\n<path fill=\"none\" stroke=\"black\" d=\"M55.25,-143.7C55.25,-135.98 55.25,-126.71 55.25,-118.11\"/>\n<polygon fill=\"black\" stroke=\"black\" points=\"58.75,-118.1 55.25,-108.1 51.75,-118.1 58.75,-118.1\"/>\n</g>\n<!-- End&#45;Flow -->\n<g id=\"node2\" class=\"node\">\n<title>End&#45;Flow</title>\n<ellipse fill=\"none\" stroke=\"black\" cx=\"55.25\" cy=\"-18\" rx=\"46.29\" ry=\"18\"/>\n<text text-anchor=\"middle\" x=\"55.25\" y=\"-14.3\" font-family=\"Times,serif\" font-size=\"14.00\">End&#45;Flow</text>\n</g>\n<!-- Hello&#45;World&#45;&gt;End&#45;Flow -->\n<g id=\"edge2\" class=\"edge\">\n<title>Hello&#45;World&#45;&gt;End&#45;Flow</title>\n<path fill=\"none\" stroke=\"black\" d=\"M55.25,-71.7C55.25,-63.98 55.25,-54.71 55.25,-46.11\"/>\n<polygon fill=\"black\" stroke=\"black\" points=\"58.75,-46.1 55.25,-36.1 51.75,-46.1 58.75,-46.1\"/>\n</g>\n</g>\n</svg>\n",
      "text/plain": [
       "<graphviz.dot.Digraph at 0x7f8abcd1bc70>"
      ]
     },
     "metadata": {},
     "execution_count": 13
    }
   ],
   "metadata": {
    "id": "PZ32Fm6GHLqd"
   }
  },
  {
   "cell_type": "markdown",
   "source": [
    "## Step 6B - Display JSON"
   ],
   "metadata": {
    "id": "X3gtVE7sykA2"
   }
  },
  {
   "cell_type": "code",
   "execution_count": 14,
   "source": [
    "t1_flow.display_json()"
   ],
   "outputs": [
    {
     "output_type": "stream",
     "name": "stdout",
     "text": [
      "{\n",
      "    \"Defaults\": {\n",
      "        \"Application\": \"Naga0.2_Demo\",\n",
      "        \"SubApplication\": \"Demo-02\",\n",
      "        \"RunAs\": \"ctmuser\",\n",
      "        \"Host\": \"acb-rhctmv20\",\n",
      "        \"When\": {\n",
      "            \"Months\": [\n",
      "                \"JAN\",\n",
      "                \"OCT\",\n",
      "                \"DEC\"\n",
      "            ],\n",
      "            \"MonthDays\": [\n",
      "                \"ALL\"\n",
      "            ],\n",
      "            \"WeekDays\": [\n",
      "                \"MON\",\n",
      "                \"TUE\",\n",
      "                \"WED\",\n",
      "                \"THU\",\n",
      "                \"FRI\"\n",
      "            ],\n",
      "            \"FromTime\": \"0300\",\n",
      "            \"ToTime\": \"2100\"\n",
      "        }\n",
      "    },\n",
      "    \"HelloWorld\": {\n",
      "        \"Type\": \"Folder\",\n",
      "        \"Start-Flow\": {\n",
      "            \"Type\": \"Job:Dummy\",\n",
      "            \"eventsToAdd\": {\n",
      "                \"Type\": \"AddEvents\",\n",
      "                \"Events\": [\n",
      "                    {\n",
      "                        \"Event\": \"Start-Flow-TO-Hello-World\"\n",
      "                    }\n",
      "                ]\n",
      "            }\n",
      "        },\n",
      "        \"End-Flow\": {\n",
      "            \"Type\": \"Job:Dummy\"\n",
      "        },\n",
      "        \"Hello-World\": {\n",
      "            \"Type\": \"Job:Dummy\",\n",
      "            \"eventsToAdd\": {\n",
      "                \"Type\": \"AddEvents\",\n",
      "                \"Events\": [\n",
      "                    {\n",
      "                        \"Event\": \"Hello-World-TO-End-Flow\"\n",
      "                    }\n",
      "                ]\n",
      "            }\n",
      "        },\n",
      "        \"Flow1\": {\n",
      "            \"Type\": \"Flow\",\n",
      "            \"Sequence\": [\n",
      "                \"Start-Flow\",\n",
      "                \"Hello-World\",\n",
      "                \"End-Flow\"\n",
      "            ]\n",
      "        }\n",
      "    }\n",
      "}\n"
     ]
    }
   ],
   "metadata": {
    "colab": {
     "base_uri": "https://localhost:8080/"
    },
    "id": "5XojggPS34rE",
    "outputId": "7e044bbf-d412-4d89-f6b9-f923fb32bd8f"
   }
  },
  {
   "cell_type": "markdown",
   "source": [
    "# Step 7 - Submit Workflow to Control-M"
   ],
   "metadata": {
    "id": "hBqW_iV2yKcW"
   }
  },
  {
   "cell_type": "code",
   "execution_count": 15,
   "source": [
    "t1_flow.deploy()"
   ],
   "outputs": [
    {
     "output_type": "stream",
     "name": "stdout",
     "text": [
      "[{'deployed_calendars': None,\n",
      " 'deployed_connection_profiles': None,\n",
      " 'deployed_drivers': None,\n",
      " 'deployed_folders': ['HelloWorld'],\n",
      " 'deployed_jobs': None,\n",
      " 'deployment_file': 'jobs.json',\n",
      " 'errors': None,\n",
      " 'is_deploy_descriptor_valid': False,\n",
      " 'successful_calendars_count': None,\n",
      " 'successful_connection_profiles_count': 0,\n",
      " 'successful_drivers_count': 0,\n",
      " 'successful_folders_count': 0,\n",
      " 'successful_jobs_count': 3,\n",
      " 'successful_smart_folders_count': 1,\n",
      " 'successful_sub_folders_count': 0,\n",
      " 'warnings': None}]\n",
      "Successfully deployed to Control-M\n",
      "Login to https://acb-rhctmv20.centralus.cloudapp.azure.com:8443/automation-api/ControlM/ and use your workflow\n"
     ]
    },
    {
     "output_type": "execute_result",
     "data": {
      "text/plain": [
       "[{'deployed_calendars': None,\n",
       "  'deployed_connection_profiles': None,\n",
       "  'deployed_drivers': None,\n",
       "  'deployed_folders': ['HelloWorld'],\n",
       "  'deployed_jobs': None,\n",
       "  'deployment_file': 'jobs.json',\n",
       "  'errors': None,\n",
       "  'is_deploy_descriptor_valid': False,\n",
       "  'successful_calendars_count': None,\n",
       "  'successful_connection_profiles_count': 0,\n",
       "  'successful_drivers_count': 0,\n",
       "  'successful_folders_count': 0,\n",
       "  'successful_jobs_count': 3,\n",
       "  'successful_smart_folders_count': 1,\n",
       "  'successful_sub_folders_count': 0,\n",
       "  'warnings': None}]"
      ]
     },
     "metadata": {},
     "execution_count": 15
    }
   ],
   "metadata": {
    "colab": {
     "base_uri": "https://localhost:8080/"
    },
    "id": "LNFCqGbpt-J1",
    "outputId": "146f4413-71f6-48cf-cad6-9a8cd7a2e723"
   }
  },
  {
   "cell_type": "code",
   "execution_count": 16,
   "source": [
    "t1_flow.run()"
   ],
   "outputs": [
    {
     "output_type": "stream",
     "name": "stdout",
     "text": [
      "{'monitor_page_uri': None,\n",
      " 'run_id': '9c535229-fd46-4cbf-a94d-92b25cfcdae0',\n",
      " 'status_uri': 'https://acb-rhctmv20.centralus.cloudapp.azure.com:8443/automation-api/run/status/9c535229-fd46-4cbf-a94d-92b25cfcdae0'}\n",
      "Successfully Ran job on Control-M\n",
      "Login to https://acb-rhctmv20.centralus.cloudapp.azure.com:8443/automation-api/ControlM/ and use your workflow\n"
     ]
    },
    {
     "output_type": "execute_result",
     "data": {
      "text/plain": [
       "True"
      ]
     },
     "metadata": {},
     "execution_count": 16
    }
   ],
   "metadata": {
    "colab": {
     "base_uri": "https://localhost:8080/"
    },
    "id": "fP-WxlpJgtPW",
    "outputId": "dd7e02b3-6e94-43b2-b0a6-ab115eb857c4"
   }
  },
  {
   "cell_type": "code",
   "execution_count": null,
   "source": [],
   "outputs": [],
   "metadata": {
    "id": "3NzmdbQovSVH"
   }
  }
 ],
 "metadata": {
  "colab": {
   "collapsed_sections": [
    "9PBDYvbtwWfL"
   ],
   "name": "Demo Naga0.2 01 - HelloWorld.ipynb",
   "provenance": []
  },
  "interpreter": {
   "hash": "0acf5e98f0d0e19783fbfe4e74c866635b65b3ca578adc3721d8cbd623aa3da4"
  },
  "kernelspec": {
   "display_name": "Python 3",
   "language": "python",
   "name": "python3"
  },
  "language_info": {
   "codemirror_mode": {
    "name": "ipython",
    "version": 3
   },
   "file_extension": ".py",
   "mimetype": "text/x-python",
   "name": "python",
   "nbconvert_exporter": "python",
   "pygments_lexer": "ipython3",
   "version": "3.8.3"
  }
 },
 "nbformat": 4,
 "nbformat_minor": 2
}