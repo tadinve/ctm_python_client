{
 "cells": [
  {
   "cell_type": "markdown",
   "metadata": {},
   "source": [
    "# Demo: Defining Control_M Workflows using Python"
   ]
  },
  {
   "cell_type": "markdown",
   "metadata": {},
   "source": [
    "# Step 1 - Setup"
   ]
  },
  {
   "cell_type": "markdown",
   "metadata": {
    "id": "GKkmksYi1-Kn"
   },
   "source": [
    "## Step 1A - Install the library"
   ]
  },
  {
   "cell_type": "markdown",
   "metadata": {
    "id": "dIc3LSK62Cos"
   },
   "source": [
    "## Step 1B- Import the library"
   ]
  },
  {
   "cell_type": "code",
   "execution_count": 1,
   "metadata": {
    "id": "6iwRhegFtcXJ"
   },
   "outputs": [
    {
     "ename": "ModuleNotFoundError",
     "evalue": "No module named 'ctm-python-client.core'",
     "output_type": "error",
     "traceback": [
      "\u001b[0;31m---------------------------------------------------------------------------\u001b[0m",
      "\u001b[0;31mModuleNotFoundError\u001b[0m                       Traceback (most recent call last)",
      "\u001b[0;32m/var/folders/jf/ly2qhjns6yn6j46t3rdms2qw0000gp/T/ipykernel_53533/3896828307.py\u001b[0m in \u001b[0;36m<module>\u001b[0;34m\u001b[0m\n\u001b[0;32m----> 1\u001b[0;31m \u001b[0;32mfrom\u001b[0m \u001b[0mctm-python-client\u001b[0m\u001b[0;34m.\u001b[0m\u001b[0mcore\u001b[0m\u001b[0;34m.\u001b[0m\u001b[0mbmc_control_m\u001b[0m \u001b[0;32mimport\u001b[0m \u001b[0mCmJobFlow\u001b[0m\u001b[0;34m\u001b[0m\u001b[0;34m\u001b[0m\u001b[0m\n\u001b[0m\u001b[1;32m      2\u001b[0m \u001b[0;32mfrom\u001b[0m \u001b[0mctm-python-client\u001b[0m\u001b[0;34m.\u001b[0m\u001b[0mjobs\u001b[0m\u001b[0;34m.\u001b[0m\u001b[0mdummy\u001b[0m \u001b[0;32mimport\u001b[0m \u001b[0mDummyJob\u001b[0m\u001b[0;34m\u001b[0m\u001b[0;34m\u001b[0m\u001b[0m\n\u001b[1;32m      3\u001b[0m \u001b[0;32mfrom\u001b[0m \u001b[0mctm-python-client\u001b[0m\u001b[0;34m.\u001b[0m\u001b[0mjobs\u001b[0m\u001b[0;34m.\u001b[0m\u001b[0mcommand\u001b[0m \u001b[0;32mimport\u001b[0m \u001b[0mCommandJob\u001b[0m\u001b[0;34m\u001b[0m\u001b[0;34m\u001b[0m\u001b[0m\n",
      "\u001b[0;31mModuleNotFoundError\u001b[0m: No module named 'ctm-python-client.core'"
     ]
    }
   ],
   "source": [
    "from ctm-python-client.core.bmc_control_m import CmJobFlow\n",
    "from ctm-python-client.jobs.dummy import DummyJob\n",
    "from ctm-python-client.jobs.command import CommandJob "
   ]
  },
  {
   "cell_type": "markdown",
   "metadata": {
    "id": "TfK9UygIu3Qg"
   },
   "source": [
    "# Step 2 - Instantiate, Authenticate and Schedule\n"
   ]
  },
  {
   "cell_type": "markdown",
   "metadata": {
    "id": "6HppNeTT2LJs"
   },
   "source": [
    "## Step 2A - Create the object"
   ]
  },
  {
   "cell_type": "code",
   "execution_count": null,
   "metadata": {
    "id": "wmIKxRyT2Ihz"
   },
   "outputs": [],
   "source": [
    "t1_flow = CmJobFlow(\"PW4CM_Demo\",\"Demo-01\")"
   ]
  },
  {
   "cell_type": "markdown",
   "metadata": {
    "id": "Bftxk8I72aCA"
   },
   "source": [
    "## Step 2B - Authenticate to Control-M"
   ]
  },
  {
   "cell_type": "code",
   "execution_count": null,
   "metadata": {
    "id": "TdyzqpfFRPMC"
   },
   "outputs": [],
   "source": [
    "# Please change the URI, and ctm_user and enter ctm_password to match your environment\n",
    "\n",
    "import getpass\n",
    "ctm_uri =  \"https://acb-rhctmv20.centralus.cloudapp.azure.com:8443\"\n",
    "ctm_user =  \"vtadinad\"\n",
    "if \"ctm_pwd\" not in locals(): # has not been enterd once, will skip next time\n",
    "    ctm_pwd = getpass.getpass(\"Enter your Control M Password \")"
   ]
  },
  {
   "cell_type": "code",
   "execution_count": null,
   "metadata": {
    "id": "-C8Onkac26h0"
   },
   "outputs": [],
   "source": [
    "t1_flow.ctm_login(ctm_uri, ctm_user, ctm_pwd, https=False)"
   ]
  },
  {
   "cell_type": "markdown",
   "metadata": {
    "id": "k7HfewL42f18"
   },
   "source": [
    "## Step 2C - Define the Schedule"
   ]
  },
  {
   "cell_type": "code",
   "execution_count": null,
   "metadata": {
    "id": "PW4yoM6b-2v2"
   },
   "outputs": [],
   "source": [
    "t1_flow.set_run_as(username=\"ctmuser\",host=\"acb-rhctmv20\")"
   ]
  },
  {
   "cell_type": "code",
   "execution_count": null,
   "metadata": {
    "id": "qMVzFXekvSTy"
   },
   "outputs": [],
   "source": [
    "# Define the schedule\n",
    "months = [\"JAN\", \"OCT\", \"DEC\"]\n",
    "monthDays = [\"ALL\"]\n",
    "weekDays = [\"MON\",\"TUE\", \"WED\", \"THU\", \"FRI\"]\n",
    "fromTime = \"0300\"\n",
    "toTime = \"2100\"\n",
    "t1_flow.set_schedule(months, monthDays, weekDays,fromTime, toTime)\n"
   ]
  },
  {
   "cell_type": "markdown",
   "metadata": {
    "id": "9PBDYvbtwWfL"
   },
   "source": [
    "# Step 3  - Create Folder"
   ]
  },
  {
   "cell_type": "code",
   "execution_count": null,
   "metadata": {
    "id": "7MQ5so2gwWK1"
   },
   "outputs": [],
   "source": [
    "# Create Fodler\n",
    "f1 = t1_flow.create_folder(name=\"HelloWorld\")"
   ]
  },
  {
   "cell_type": "markdown",
   "metadata": {
    "id": "dLGmvMkuwdMW"
   },
   "source": [
    "# Step 4 - Create Tasks"
   ]
  },
  {
   "cell_type": "code",
   "execution_count": null,
   "metadata": {
    "id": "shpuP7_fwiNP"
   },
   "outputs": [],
   "source": [
    "start = t1_flow.add_job( f1, DummyJob(f1,\"Start-Flow\") )\n",
    "end = t1_flow.add_job(f1, DummyJob(f1,\"End-Flow\") )\n",
    "\n",
    "hello_world_id = t1_flow.add_job(f1,  DummyJob(f1, \"Hello-World\" ) )\n"
   ]
  },
  {
   "cell_type": "markdown",
   "metadata": {
    "id": "8uRR5vGWx-9Q"
   },
   "source": [
    "# Step 5 - Chain Tasks"
   ]
  },
  {
   "cell_type": "code",
   "execution_count": null,
   "metadata": {
    "id": "oiaQR99LPIVm"
   },
   "outputs": [],
   "source": [
    "t1_flow.chain_jobs(f1,[start, hello_world_id, end])"
   ]
  },
  {
   "cell_type": "markdown",
   "metadata": {
    "id": "QrQo_1Q4yG-7"
   },
   "source": [
    "# Step 6 - Display Workflow"
   ]
  },
  {
   "cell_type": "markdown",
   "metadata": {
    "id": "Mn5OvXGuydlJ"
   },
   "source": [
    "## Step 6A - Display DAG"
   ]
  },
  {
   "cell_type": "code",
   "execution_count": null,
   "metadata": {
    "id": "m8vAW424yWXb"
   },
   "outputs": [],
   "source": [
    "# View the t1_flow Details\n",
    "t1_flow.display()"
   ]
  },
  {
   "cell_type": "markdown",
   "metadata": {
    "id": "X3gtVE7sykA2"
   },
   "source": [
    "## Step 6B - Display JSON"
   ]
  },
  {
   "cell_type": "code",
   "execution_count": null,
   "metadata": {
    "id": "5XojggPS34rE"
   },
   "outputs": [],
   "source": [
    "t1_flow.display_json()"
   ]
  },
  {
   "cell_type": "markdown",
   "metadata": {
    "id": "hBqW_iV2yKcW"
   },
   "source": [
    "# Step 7 - Submit Workflow to Control-M"
   ]
  },
  {
   "cell_type": "code",
   "execution_count": null,
   "metadata": {
    "id": "LNFCqGbpt-J1"
   },
   "outputs": [],
   "source": [
    "t1_flow.deploy()"
   ]
  },
  {
   "cell_type": "code",
   "execution_count": null,
   "metadata": {},
   "outputs": [],
   "source": [
    "t1_flow.run()"
   ]
  },
  {
   "cell_type": "code",
   "execution_count": null,
   "metadata": {},
   "outputs": [],
   "source": []
  }
 ],
 "metadata": {
  "colab": {
   "collapsed_sections": [
    "9PBDYvbtwWfL"
   ],
   "name": "Demo ctm-python-client 01 - HelloWorld.ipynb",
   "provenance": []
  },
  "kernelspec": {
   "display_name": "bmc_ctm-python-client",
   "language": "python",
   "name": "bmc_ctm-python-client"
  },
  "language_info": {
   "codemirror_mode": {
    "name": "ipython",
    "version": 3
   },
   "file_extension": ".py",
   "mimetype": "text/x-python",
   "name": "python",
   "nbconvert_exporter": "python",
   "pygments_lexer": "ipython3",
   "version": "3.8.10"
  }
 },
 "nbformat": 4,
 "nbformat_minor": 4
}
