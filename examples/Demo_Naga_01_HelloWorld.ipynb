{
  "nbformat": 4,
  "nbformat_minor": 2,
  "metadata": {
    "colab": {
      "name": "Demo Naga 01 - HelloWorld.ipynb",
      "provenance": [],
      "collapsed_sections": [
        "9PBDYvbtwWfL"
      ]
    },
    "kernelspec": {
      "name": "python3",
      "display_name": "Python 3"
    }
  },
  "cells": [
    {
      "cell_type": "markdown",
      "source": [
        "# Demo: Defining Control_M Workflows using Python"
      ],
      "metadata": {
        "id": "iCm2sd89tOdP"
      }
    },
    {
      "cell_type": "markdown",
      "source": [
        "# Step 1 - Setup"
      ],
      "metadata": {
        "id": "dornvvu0tYxj"
      }
    },
    {
      "cell_type": "markdown",
      "source": [
        "## Step 1A - Install the library"
      ],
      "metadata": {
        "id": "GKkmksYi1-Kn"
      }
    },
    {
      "cell_type": "code",
      "execution_count": null,
      "source": [
        "# This command needs to be done only once. This installs the library\n",
        "!pip  install git+https://github.com/tadinve/naga.git"
      ],
      "outputs": [],
      "metadata": {
        "id": "tGkmx1hcumAU"
      }
    },
    {
      "cell_type": "markdown",
      "source": [
        "## Step 1B- Import the library"
      ],
      "metadata": {
        "id": "dIc3LSK62Cos"
      }
    },
    {
      "cell_type": "code",
      "execution_count": null,
      "source": [
        "from naga.core.bmc_control_m import CmJobFlow\n",
        "from naga.newjobs.dummy import DummyJob\n",
        "from naga.newjobs.command import CommandJob "
      ],
      "outputs": [],
      "metadata": {
        "id": "6iwRhegFtcXJ"
      }
    },
    {
      "cell_type": "markdown",
      "source": [
        "# Step 2 - Instantiate, Authenticate and Schedule\n"
      ],
      "metadata": {
        "id": "TfK9UygIu3Qg"
      }
    },
    {
      "cell_type": "markdown",
      "source": [
        "## Step 2A - Create the object"
      ],
      "metadata": {
        "id": "6HppNeTT2LJs"
      }
    },
    {
      "cell_type": "code",
      "execution_count": null,
      "source": [
        "t1_flow = CmJobFlow(\"PW4CM_Demo\",\"Demo-01\")"
      ],
      "outputs": [],
      "metadata": {
        "id": "wmIKxRyT2Ihz"
      }
    },
    {
      "cell_type": "markdown",
      "source": [
        "## Step 2B - Authenticate to Control-M"
      ],
      "metadata": {
        "id": "Bftxk8I72aCA"
      }
    },
    {
      "cell_type": "code",
      "execution_count": null,
      "source": [
        "# Please change the URI, and ctm_user and enter ctm_password to match your environment\n",
        "\n",
        "import getpass\n",
        "ctm_uri =  \"https://acb-rhctmv20.centralus.cloudapp.azure.com:8443\"\n",
        "ctm_user =  \"vtadinad\"\n",
        "if \"ctm_pwd\" not in locals(): # has not been enterd once, will skip next time\n",
        "    ctm_pwd = getpass.getpass(\"Enter your Control M Password \")"
      ],
      "outputs": [],
      "metadata": {
        "id": "TdyzqpfFRPMC"
      }
    },
    {
      "cell_type": "code",
      "execution_count": null,
      "source": [
        "t1_flow.ctm_login(ctm_uri, ctm_user, ctm_pwd, https=False)"
      ],
      "outputs": [],
      "metadata": {
        "id": "-C8Onkac26h0"
      }
    },
    {
      "cell_type": "markdown",
      "source": [
        "## Step 2C - Define the Schedule"
      ],
      "metadata": {
        "id": "k7HfewL42f18"
      }
    },
    {
      "cell_type": "code",
      "execution_count": null,
      "source": [
        "t1_flow.set_run_as(username=\"ctmuser\",host=\"acb-rhctmv20\")"
      ],
      "outputs": [],
      "metadata": {
        "id": "PW4yoM6b-2v2"
      }
    },
    {
      "cell_type": "code",
      "execution_count": null,
      "source": [
        "# Define the schedule\n",
        "months = [\"JAN\", \"OCT\", \"DEC\"]\n",
        "monthDays = [\"ALL\"]\n",
        "weekDays = [\"MON\",\"TUE\", \"WED\", \"THU\", \"FRI\"]\n",
        "fromTime = \"0300\"\n",
        "toTime = \"2100\"\n",
        "t1_flow.set_schedule(months, monthDays, weekDays,fromTime, toTime)\n"
      ],
      "outputs": [],
      "metadata": {
        "id": "qMVzFXekvSTy"
      }
    },
    {
      "cell_type": "markdown",
      "source": [
        "# Step 3  - Create Folder"
      ],
      "metadata": {
        "id": "9PBDYvbtwWfL"
      }
    },
    {
      "cell_type": "code",
      "execution_count": null,
      "source": [
        "# Create Fodler\n",
        "f1 = t1_flow.create_folder(name=\"HelloWorld\")"
      ],
      "outputs": [],
      "metadata": {
        "id": "7MQ5so2gwWK1"
      }
    },
    {
      "cell_type": "markdown",
      "source": [
        "# Step 4 - Create Tasks"
      ],
      "metadata": {
        "id": "dLGmvMkuwdMW"
      }
    },
    {
      "cell_type": "code",
      "execution_count": null,
      "source": [
        "start = t1_flow.add_job( f1, DummyJob(f1,\"Start-Flow\") )\n",
        "end = t1_flow.add_job(f1, DummyJob(f1,\"End-Flow\") )\n",
        "\n",
        "hello_world_id = t1_flow.add_job(f1,  DummyJob(f1, \"Hello-World\" ) )\n"
      ],
      "outputs": [],
      "metadata": {
        "id": "shpuP7_fwiNP"
      }
    },
    {
      "cell_type": "markdown",
      "source": [
        "# Step 5 - Chain Tasks"
      ],
      "metadata": {
        "id": "8uRR5vGWx-9Q"
      }
    },
    {
      "cell_type": "code",
      "execution_count": null,
      "source": [
        "t1_flow.chain_jobs(f1,[start, hello_world_id, end])"
      ],
      "outputs": [],
      "metadata": {
        "id": "oiaQR99LPIVm"
      }
    },
    {
      "cell_type": "markdown",
      "source": [
        "# Step 6 - Display Workflow"
      ],
      "metadata": {
        "id": "QrQo_1Q4yG-7"
      }
    },
    {
      "cell_type": "markdown",
      "source": [
        "## Step 6A - Display DAG"
      ],
      "metadata": {
        "id": "Mn5OvXGuydlJ"
      }
    },
    {
      "cell_type": "code",
      "execution_count": null,
      "source": [
        "# View the t1_flow Details\n",
        "t1_flow.display()"
      ],
      "outputs": [],
      "metadata": {
        "id": "m8vAW424yWXb"
      }
    },
    {
      "cell_type": "markdown",
      "source": [
        "## Step 6B - Display JSON"
      ],
      "metadata": {
        "id": "X3gtVE7sykA2"
      }
    },
    {
      "cell_type": "code",
      "execution_count": null,
      "source": [
        "t1_flow.display_json()"
      ],
      "outputs": [],
      "metadata": {
        "id": "5XojggPS34rE"
      }
    },
    {
      "cell_type": "markdown",
      "source": [
        "# Step 7 - Submit Workflow to Control-M"
      ],
      "metadata": {
        "id": "hBqW_iV2yKcW"
      }
    },
    {
      "cell_type": "code",
      "execution_count": null,
      "source": [
        "t1_flow.submit()"
      ],
      "outputs": [],
      "metadata": {
        "id": "LNFCqGbpt-J1"
      }
    }
  ]
}