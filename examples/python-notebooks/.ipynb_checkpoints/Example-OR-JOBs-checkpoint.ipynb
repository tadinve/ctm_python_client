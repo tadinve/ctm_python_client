{
 "cells": [
  {
   "cell_type": "markdown",
   "metadata": {
    "id": "iCm2sd89tOdP"
   },
   "source": [
    "# Demo: Defining Control_M Workflows using Python"
   ]
  },
  {
   "cell_type": "markdown",
   "metadata": {
    "id": "dornvvu0tYxj"
   },
   "source": [
    "# Step 1 - Setup"
   ]
  },
  {
   "cell_type": "markdown",
   "metadata": {
    "id": "GKkmksYi1-Kn"
   },
   "source": [
    "## Step 1A - Install the library"
   ]
  },
  {
   "cell_type": "code",
   "execution_count": 1,
   "metadata": {},
   "outputs": [
    {
     "name": "stdout",
     "output_type": "stream",
     "text": [
      "pip 21.2.4 from /opt/conda/lib/python3.8/site-packages/pip (python 3.8)\r\n"
     ]
    }
   ],
   "source": [
    "!pip --version"
   ]
  },
  {
   "cell_type": "code",
   "execution_count": 2,
   "metadata": {},
   "outputs": [
    {
     "name": "stdout",
     "output_type": "stream",
     "text": [
      "Collecting git+https://github.com/tadinve/naga.git\n",
      "  Cloning https://github.com/tadinve/naga.git to /tmp/pip-req-build-jx2dnmxs\n",
      "  Running command git clone -q https://github.com/tadinve/naga.git /tmp/pip-req-build-jx2dnmxs\n",
      "  Resolved https://github.com/tadinve/naga.git to commit a49f55381af4ddbb0b01eda282146e815dc76fda\n",
      "Requirement already satisfied: graphviz>=0.10 in /opt/conda/lib/python3.8/site-packages (from ctm-python-client==0.3.0) (0.17)\n",
      "Requirement already satisfied: requests>=2.23.0 in /opt/conda/lib/python3.8/site-packages (from ctm-python-client==0.3.0) (2.24.0)\n",
      "Requirement already satisfied: urllib3 in /opt/conda/lib/python3.8/site-packages (from ctm-python-client==0.3.0) (1.25.9)\n",
      "Requirement already satisfied: chardet<4,>=3.0.2 in /opt/conda/lib/python3.8/site-packages (from requests>=2.23.0->ctm-python-client==0.3.0) (3.0.4)\n",
      "Requirement already satisfied: idna<3,>=2.5 in /opt/conda/lib/python3.8/site-packages (from requests>=2.23.0->ctm-python-client==0.3.0) (2.10)\n",
      "Requirement already satisfied: certifi>=2017.4.17 in /opt/conda/lib/python3.8/site-packages (from requests>=2.23.0->ctm-python-client==0.3.0) (2020.6.20)\n",
      "\u001b[33mWARNING: Running pip as the 'root' user can result in broken permissions and conflicting behaviour with the system package manager. It is recommended to use a virtual environment instead: https://pip.pypa.io/warnings/venv\u001b[0m\n"
     ]
    }
   ],
   "source": [
    "!pip install git+https://github.com/tadinve/naga.git"
   ]
  },
  {
   "cell_type": "code",
   "execution_count": 3,
   "metadata": {
    "id": "6iwRhegFtcXJ"
   },
   "outputs": [],
   "source": [
    "from ctm_python_client.core.bmc_control_m import CmJobFlow\n",
    "from ctm_python_client.jobs.dummy import DummyJob"
   ]
  },
  {
   "cell_type": "markdown",
   "metadata": {
    "id": "TfK9UygIu3Qg"
   },
   "source": [
    "# Step 2 - Instantiate, Authenticate and Schedule\n"
   ]
  },
  {
   "cell_type": "markdown",
   "metadata": {
    "id": "N6CwrQJ5Lxz1"
   },
   "source": [
    "## Step 2A - Create the object"
   ]
  },
  {
   "cell_type": "code",
   "execution_count": 4,
   "metadata": {
    "colab": {
     "base_uri": "https://localhost:8080/",
     "height": 35
    },
    "id": "FDszp8dtRJi_",
    "outputId": "703ac9a8-eb2e-4840-bfc1-10d62fa4315f"
   },
   "outputs": [
    {
     "data": {
      "text/plain": [
       "'3B849DFAA3BDF5669EB57C5EBFFF312543A228280BEE49044C04828F7520D1FABF115A830CAC86575BC727B7FE8F685D7039E5E12E56F44BE08868E40258AA18'"
      ]
     },
     "execution_count": 4,
     "metadata": {},
     "output_type": "execute_result"
    }
   ],
   "source": [
    "# Please change the URfrI, and ctm_user and enter ctm_password to match your environment\n",
    "from ctm_python_client.session.session import Session\n",
    "\n",
    "import getpass\n",
    "\n",
    "ctm_uri = \"https://acb-rhctmv20.centralus.cloudapp.azure.com:8443/automation-api\"\n",
    "ctm_user = \"vtadinad\"\n",
    "ctm_pwd = \"P4ssw0rd\"\n",
    "if \"ctm_pwd\" not in locals():  # has not been enterd once, will skip next time\n",
    "    ctm_pwd = getpass.getpass(\"Enter your Control M Password \")\n",
    "\n",
    "session = Session(endpoint=ctm_uri, username=ctm_user, password=ctm_pwd)\n",
    "session.get_token()"
   ]
  },
  {
   "cell_type": "code",
   "execution_count": 5,
   "metadata": {
    "id": "vI4PTJddLxz1"
   },
   "outputs": [],
   "source": [
    "t1_flow = CmJobFlow(\n",
    "    application=\"Naga0.3_Examples\", sub_application=\"Demo-OR_JOB\", session=session\n",
    ")"
   ]
  },
  {
   "cell_type": "markdown",
   "metadata": {
    "id": "k7HfewL42f18"
   },
   "source": [
    "## Step 2B - Define the Schedule"
   ]
  },
  {
   "cell_type": "code",
   "execution_count": 6,
   "metadata": {
    "id": "PW4yoM6b-2v2"
   },
   "outputs": [],
   "source": [
    "t1_flow.set_run_as(username=\"ctmuser\", host=\"acb-rhctmv20\")"
   ]
  },
  {
   "cell_type": "code",
   "execution_count": 7,
   "metadata": {
    "id": "qMVzFXekvSTy"
   },
   "outputs": [],
   "source": [
    "# Define the schedule\n",
    "months = [\"JAN\", \"OCT\", \"DEC\"]\n",
    "monthDays = [\"ALL\"]\n",
    "weekDays = [\"MON\", \"TUE\", \"WED\", \"THU\", \"FRI\"]\n",
    "fromTime = \"0300\"\n",
    "toTime = \"2100\"\n",
    "t1_flow.set_schedule(months, monthDays, weekDays, fromTime, toTime)"
   ]
  },
  {
   "cell_type": "markdown",
   "metadata": {
    "id": "9PBDYvbtwWfL"
   },
   "source": [
    "# Step 3  - Create Folder"
   ]
  },
  {
   "cell_type": "code",
   "execution_count": 8,
   "metadata": {
    "id": "7MQ5so2gwWK1"
   },
   "outputs": [],
   "source": [
    "# Create Fodler\n",
    "f1 = t1_flow.create_folder(name=\"OR-JOB\")"
   ]
  },
  {
   "cell_type": "markdown",
   "metadata": {
    "id": "dLGmvMkuwdMW"
   },
   "source": [
    "# Step 4 - Create Tasks"
   ]
  },
  {
   "cell_type": "code",
   "execution_count": 9,
   "metadata": {
    "id": "shpuP7_fwiNP"
   },
   "outputs": [
    {
     "ename": "AttributeError",
     "evalue": "'DummyJob' object has no attribute 'add_if_output'",
     "output_type": "error",
     "traceback": [
      "\u001b[0;31m---------------------------------------------------------------------------\u001b[0m",
      "\u001b[0;31mAttributeError\u001b[0m                            Traceback (most recent call last)",
      "\u001b[0;32m<ipython-input-9-9847876969d8>\u001b[0m in \u001b[0;36m<module>\u001b[0;34m\u001b[0m\n\u001b[1;32m      3\u001b[0m \u001b[0;34m\u001b[0m\u001b[0m\n\u001b[1;32m      4\u001b[0m \u001b[0mjob1\u001b[0m \u001b[0;34m=\u001b[0m \u001b[0mDummyJob\u001b[0m\u001b[0;34m(\u001b[0m\u001b[0mf1\u001b[0m\u001b[0;34m,\u001b[0m\u001b[0;34m\"Job1\"\u001b[0m\u001b[0;34m)\u001b[0m\u001b[0;34m\u001b[0m\u001b[0;34m\u001b[0m\u001b[0m\n\u001b[0;32m----> 5\u001b[0;31m \u001b[0mjob1\u001b[0m\u001b[0;34m.\u001b[0m\u001b[0madd_if_output\u001b[0m\u001b[0;34m(\u001b[0m\u001b[0;34m\"if-true\"\u001b[0m\u001b[0;34m,\u001b[0m \u001b[0;34m\"*true*\"\u001b[0m\u001b[0;34m,\u001b[0m \u001b[0;34m\"Job1-TO-Job2\"\u001b[0m\u001b[0;34m)\u001b[0m\u001b[0;34m\u001b[0m\u001b[0;34m\u001b[0m\u001b[0m\n\u001b[0m\u001b[1;32m      6\u001b[0m \u001b[0mjob1\u001b[0m\u001b[0;34m.\u001b[0m\u001b[0madd_if_output\u001b[0m\u001b[0;34m(\u001b[0m\u001b[0;34m\"if-flase\"\u001b[0m\u001b[0;34m,\u001b[0m \u001b[0;34m\"*false*\"\u001b[0m\u001b[0;34m,\u001b[0m \u001b[0;34m\"Job1-TO-Job3\"\u001b[0m\u001b[0;34m)\u001b[0m\u001b[0;34m\u001b[0m\u001b[0;34m\u001b[0m\u001b[0m\n\u001b[1;32m      7\u001b[0m \u001b[0mjob1_id\u001b[0m \u001b[0;34m=\u001b[0m \u001b[0mt1_flow\u001b[0m\u001b[0;34m.\u001b[0m\u001b[0madd_job\u001b[0m\u001b[0;34m(\u001b[0m \u001b[0mf1\u001b[0m\u001b[0;34m,\u001b[0m \u001b[0mjob1\u001b[0m \u001b[0;34m)\u001b[0m\u001b[0;34m\u001b[0m\u001b[0;34m\u001b[0m\u001b[0m\n",
      "\u001b[0;31mAttributeError\u001b[0m: 'DummyJob' object has no attribute 'add_if_output'"
     ]
    }
   ],
   "source": [
    "start = t1_flow.add_job(f1, DummyJob(f1, \"Start-Flow\"))\n",
    "\n",
    "\n",
    "job1 = DummyJob(f1, \"Job1\")\n",
    "job1.add_if_output(\"if-true\", \"*true*\", \"Job1-TO-Job2\")\n",
    "job1.add_if_output(\"if-flase\", \"*false*\", \"Job1-TO-Job3\")\n",
    "job1_id = t1_flow.add_job(f1, job1)\n",
    "\n",
    "job2 = DummyJob(f1, \"Job2\")\n",
    "job2_id = t1_flow.add_job(f1, job2)\n",
    "\n",
    "job3 = DummyJob(f1, \"Job3\")\n",
    "job3_id = t1_flow.add_job(f1, job3)\n",
    "\n",
    "job4 = DummyJob(f1, \"Job4\")\n",
    "job4_id = t1_flow.add_job(f1, job4)\n",
    "\n",
    "end = t1_flow.add_job(f1, DummyJob(f1, \"End-Flow\"))"
   ]
  },
  {
   "cell_type": "markdown",
   "metadata": {
    "id": "8uRR5vGWx-9Q"
   },
   "source": [
    "# Step 5 - Chain Tasks"
   ]
  },
  {
   "cell_type": "code",
   "execution_count": null,
   "metadata": {
    "colab": {
     "base_uri": "https://localhost:8080/"
    },
    "id": "oiaQR99LPIVm",
    "outputId": "11c0cf22-ad56-401e-82d5-14fe7121b2bc"
   },
   "outputs": [],
   "source": [
    "# start >>  hello_world_id >> end\n",
    "t1_flow.chain_jobs(f1, [start, job1_id])\n",
    "t1_flow.chain_jobs(f1, [job4_id, end])"
   ]
  },
  {
   "cell_type": "markdown",
   "metadata": {
    "id": "QrQo_1Q4yG-7"
   },
   "source": [
    "# Step 6 - Display Workflow"
   ]
  },
  {
   "cell_type": "markdown",
   "metadata": {
    "id": "Mn5OvXGuydlJ"
   },
   "source": [
    "## Step 6A - Display DAG"
   ]
  },
  {
   "cell_type": "code",
   "execution_count": null,
   "metadata": {
    "colab": {
     "base_uri": "https://localhost:8080/"
    },
    "id": "m8vAW424yWXb",
    "outputId": "b46ecabb-7ae5-4b52-d7bb-8362d80b3dd5"
   },
   "outputs": [],
   "source": [
    "# View the t1_flow Details\n",
    "nodes, edges = t1_flow.get_nodes_and_edges()\n",
    "nodes, edges"
   ]
  },
  {
   "cell_type": "code",
   "execution_count": null,
   "metadata": {
    "id": "PZ32Fm6GHLqd"
   },
   "outputs": [],
   "source": [
    "# display using graphviz\n",
    "from ctm_python_client.utils.displayDAG import DisplayDAG\n",
    "\n",
    "# sudo apt-get install graphviz (on unix)\n",
    "#  or\n",
    "# brew install graphviz (for mac)\n",
    "DisplayDAG(t1_flow).display_graphviz()"
   ]
  },
  {
   "cell_type": "markdown",
   "metadata": {
    "id": "X3gtVE7sykA2"
   },
   "source": [
    "## Step 6B - Display JSON"
   ]
  },
  {
   "cell_type": "code",
   "execution_count": null,
   "metadata": {
    "colab": {
     "base_uri": "https://localhost:8080/"
    },
    "id": "5XojggPS34rE",
    "outputId": "7e044bbf-d412-4d89-f6b9-f923fb32bd8f"
   },
   "outputs": [],
   "source": [
    "t1_flow.display_json()"
   ]
  },
  {
   "cell_type": "markdown",
   "metadata": {
    "id": "hBqW_iV2yKcW"
   },
   "source": [
    "# Step 7 - Submit Workflow to Control-M"
   ]
  },
  {
   "cell_type": "code",
   "execution_count": null,
   "metadata": {
    "colab": {
     "base_uri": "https://localhost:8080/"
    },
    "id": "LNFCqGbpt-J1",
    "outputId": "146f4413-71f6-48cf-cad6-9a8cd7a2e723"
   },
   "outputs": [],
   "source": [
    "t1_flow.deploy()"
   ]
  },
  {
   "cell_type": "code",
   "execution_count": null,
   "metadata": {
    "colab": {
     "base_uri": "https://localhost:8080/"
    },
    "id": "fP-WxlpJgtPW",
    "outputId": "dd7e02b3-6e94-43b2-b0a6-ab115eb857c4"
   },
   "outputs": [],
   "source": [
    "t1_flow.run()"
   ]
  },
  {
   "cell_type": "code",
   "execution_count": null,
   "metadata": {
    "id": "3NzmdbQovSVH"
   },
   "outputs": [],
   "source": []
  }
 ],
 "metadata": {
  "colab": {
   "collapsed_sections": [
    "9PBDYvbtwWfL"
   ],
   "name": "Demo Naga0.2 01 - HelloWorld.ipynb",
   "provenance": []
  },
  "interpreter": {
   "hash": "0acf5e98f0d0e19783fbfe4e74c866635b65b3ca578adc3721d8cbd623aa3da4"
  },
  "kernelspec": {
   "display_name": "Python 3",
   "language": "python",
   "name": "python3"
  },
  "language_info": {
   "codemirror_mode": {
    "name": "ipython",
    "version": 3
   },
   "file_extension": ".py",
   "mimetype": "text/x-python",
   "name": "python",
   "nbconvert_exporter": "python",
   "pygments_lexer": "ipython3",
   "version": "3.8.3"
  }
 },
 "nbformat": 4,
 "nbformat_minor": 2
}
