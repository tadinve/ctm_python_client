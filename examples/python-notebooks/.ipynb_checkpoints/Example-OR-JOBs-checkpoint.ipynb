{
 "cells": [
  {
   "cell_type": "markdown",
   "metadata": {
    "id": "iCm2sd89tOdP"
   },
   "source": [
    "# Demo: Defining Control_M Workflows using Python"
   ]
  },
  {
   "cell_type": "markdown",
   "metadata": {
    "id": "dornvvu0tYxj"
   },
   "source": [
    "# Step 1 - Setup"
   ]
  },
  {
   "cell_type": "markdown",
   "metadata": {
    "id": "GKkmksYi1-Kn"
   },
   "source": [
    "## Step 1A - Install the library"
   ]
  },
  {
   "cell_type": "code",
   "execution_count": 2,
   "metadata": {},
   "outputs": [
    {
     "name": "stdout",
     "output_type": "stream",
     "text": [
      "pip 21.2.4 from /opt/conda/lib/python3.8/site-packages/pip (python 3.8)\r\n"
     ]
    }
   ],
   "source": [
    "!pip --version"
   ]
  },
  {
   "cell_type": "code",
   "execution_count": 3,
   "metadata": {},
   "outputs": [
    {
     "name": "stdout",
     "output_type": "stream",
     "text": [
      "\u001b[33mWARNING: The directory '/home/jovyan/.cache/pip' or its parent directory is not owned or is not writable by the current user. The cache has been disabled. Check the permissions and owner of that directory. If executing pip with sudo, you should use sudo's -H flag.\u001b[0m\n",
      "Collecting git+https://github.com/tadinve/naga.git\n",
      "  Cloning https://github.com/tadinve/naga.git to /tmp/pip-req-build-rhpr1q1x\n",
      "  Running command git clone -q https://github.com/tadinve/naga.git /tmp/pip-req-build-rhpr1q1x\n",
      "  Resolved https://github.com/tadinve/naga.git to commit d7ab1edfd38849a643953e447930aa3523ece180\n",
      "Requirement already satisfied: graphviz>=0.10 in /opt/conda/lib/python3.8/site-packages (from ctm-python-client==0.3.0) (0.17)\n",
      "Requirement already satisfied: requests>=2.23.0 in /opt/conda/lib/python3.8/site-packages (from ctm-python-client==0.3.0) (2.24.0)\n",
      "Requirement already satisfied: urllib3 in /opt/conda/lib/python3.8/site-packages (from ctm-python-client==0.3.0) (1.25.9)\n",
      "Requirement already satisfied: chardet<4,>=3.0.2 in /opt/conda/lib/python3.8/site-packages (from requests>=2.23.0->ctm-python-client==0.3.0) (3.0.4)\n",
      "Requirement already satisfied: certifi>=2017.4.17 in /opt/conda/lib/python3.8/site-packages (from requests>=2.23.0->ctm-python-client==0.3.0) (2020.6.20)\n",
      "Requirement already satisfied: idna<3,>=2.5 in /opt/conda/lib/python3.8/site-packages (from requests>=2.23.0->ctm-python-client==0.3.0) (2.10)\n",
      "\u001b[33mWARNING: Running pip as the 'root' user can result in broken permissions and conflicting behaviour with the system package manager. It is recommended to use a virtual environment instead: https://pip.pypa.io/warnings/venv\u001b[0m\n"
     ]
    }
   ],
   "source": [
    "!pip install git+https://github.com/tadinve/naga.git"
   ]
  },
  {
   "cell_type": "code",
   "execution_count": 1,
   "metadata": {
    "id": "6iwRhegFtcXJ"
   },
   "outputs": [],
   "source": [
    "from ctm_python_client.core.bmc_control_m import CmJobFlow\n",
    "from ctm_python_client.jobs.dummy import DummyJob"
   ]
  },
  {
   "cell_type": "markdown",
   "metadata": {
    "id": "TfK9UygIu3Qg"
   },
   "source": [
    "# Step 2 - Instantiate, Authenticate and Schedule\n"
   ]
  },
  {
   "cell_type": "markdown",
   "metadata": {
    "id": "N6CwrQJ5Lxz1"
   },
   "source": [
    "## Step 2A - Create the object"
   ]
  },
  {
   "cell_type": "code",
   "execution_count": 2,
   "metadata": {
    "colab": {
     "base_uri": "https://localhost:8080/",
     "height": 35
    },
    "id": "FDszp8dtRJi_",
    "outputId": "703ac9a8-eb2e-4840-bfc1-10d62fa4315f"
   },
   "outputs": [
    {
     "data": {
      "text/plain": [
       "'CFE3D0DECDAE929ED29A0EAE62E5B66B5D10162E06BFC5F141978850CB06080B33F9659338E6A9D998837911518C8C3F121DDBB53F629593E3367767F67C4149'"
      ]
     },
     "execution_count": 2,
     "metadata": {},
     "output_type": "execute_result"
    }
   ],
   "source": [
    "# Please change the URfrI, and ctm_user and enter ctm_password to match your environment\n",
    "from ctm_python_client.session.session import Session\n",
    "\n",
    "import getpass\n",
    "ctm_uri =  \"https://acb-rhctmv20.centralus.cloudapp.azure.com:8443/automation-api\"\n",
    "ctm_user =  \"vtadinad\"\n",
    "ctm_pwd =                                                                                                                                               \"P4ssw0rd\"\n",
    "if \"ctm_pwd\" not in locals(): # has not been enterd once, will skip next time\n",
    "    ctm_pwd = getpass.getpass(\"Enter your Control M Password \")\n",
    "\n",
    "session = Session( endpoint=ctm_uri,username=ctm_user,password=ctm_pwd)\n",
    "session.get_token()"
   ]
  },
  {
   "cell_type": "code",
   "execution_count": 3,
   "metadata": {
    "id": "vI4PTJddLxz1"
   },
   "outputs": [],
   "source": [
    "t1_flow = CmJobFlow(application=\"Naga0.2_Demo\",sub_application=\"Demo-02\",session=session)"
   ]
  },
  {
   "cell_type": "markdown",
   "metadata": {
    "id": "k7HfewL42f18"
   },
   "source": [
    "## Step 2B - Define the Schedule"
   ]
  },
  {
   "cell_type": "code",
   "execution_count": 4,
   "metadata": {
    "id": "PW4yoM6b-2v2"
   },
   "outputs": [],
   "source": [
    "t1_flow.set_run_as(username=\"ctmuser\",host=\"acb-rhctmv20\")"
   ]
  },
  {
   "cell_type": "code",
   "execution_count": 5,
   "metadata": {
    "id": "qMVzFXekvSTy"
   },
   "outputs": [],
   "source": [
    "# Define the schedule\n",
    "months = [\"JAN\", \"OCT\", \"DEC\"]\n",
    "monthDays = [\"ALL\"]\n",
    "weekDays = [\"MON\",\"TUE\", \"WED\", \"THU\", \"FRI\"]\n",
    "fromTime = \"0300\"\n",
    "toTime = \"2100\"\n",
    "t1_flow.set_schedule(months, monthDays, weekDays,fromTime, toTime)\n"
   ]
  },
  {
   "cell_type": "markdown",
   "metadata": {
    "id": "9PBDYvbtwWfL"
   },
   "source": [
    "# Step 3  - Create Folder"
   ]
  },
  {
   "cell_type": "code",
   "execution_count": 6,
   "metadata": {
    "id": "7MQ5so2gwWK1"
   },
   "outputs": [],
   "source": [
    "# Create Fodler\n",
    "f1 = t1_flow.create_folder(name=\"HelloWorld\")"
   ]
  },
  {
   "cell_type": "markdown",
   "metadata": {
    "id": "dLGmvMkuwdMW"
   },
   "source": [
    "# Step 4 - Create Tasks"
   ]
  },
  {
   "cell_type": "code",
   "execution_count": 7,
   "metadata": {
    "id": "shpuP7_fwiNP"
   },
   "outputs": [],
   "source": [
    "start = t1_flow.add_job( f1, DummyJob(f1,\"Start-Flow\") )\n",
    "end = t1_flow.add_job(f1, DummyJob(f1,\"End-Flow\") )\n",
    "\n",
    "hello_world_id = t1_flow.add_job(f1,  DummyJob(f1, \"Hello-World\" ) )\n"
   ]
  },
  {
   "cell_type": "markdown",
   "metadata": {
    "id": "8uRR5vGWx-9Q"
   },
   "source": [
    "# Step 5 - Chain Tasks"
   ]
  },
  {
   "cell_type": "code",
   "execution_count": 8,
   "metadata": {
    "colab": {
     "base_uri": "https://localhost:8080/"
    },
    "id": "oiaQR99LPIVm",
    "outputId": "11c0cf22-ad56-401e-82d5-14fe7121b2bc"
   },
   "outputs": [
    {
     "name": "stdout",
     "output_type": "stream",
     "text": [
      "['Start-Flow', 'End-Flow', 'Hello-World']\n",
      "['0', '2', '1']\n"
     ]
    }
   ],
   "source": [
    "# start >>  hello_world_id >> end\n",
    "t1_flow.chain_jobs(f1,[start, hello_world_id, end])"
   ]
  },
  {
   "cell_type": "markdown",
   "metadata": {
    "id": "QrQo_1Q4yG-7"
   },
   "source": [
    "# Step 6 - Display Workflow"
   ]
  },
  {
   "cell_type": "markdown",
   "metadata": {
    "id": "Mn5OvXGuydlJ"
   },
   "source": [
    "## Step 6A - Display DAG"
   ]
  },
  {
   "cell_type": "code",
   "execution_count": 9,
   "metadata": {
    "colab": {
     "base_uri": "https://localhost:8080/"
    },
    "id": "m8vAW424yWXb",
    "outputId": "b46ecabb-7ae5-4b52-d7bb-8362d80b3dd5"
   },
   "outputs": [
    {
     "data": {
      "text/plain": [
       "(['Start-Flow', 'End-Flow', 'Hello-World'],\n",
       " [('Start-Flow', 'Hello-World'), ('Hello-World', 'End-Flow')])"
      ]
     },
     "execution_count": 9,
     "metadata": {},
     "output_type": "execute_result"
    }
   ],
   "source": [
    "# View the t1_flow Details\n",
    "nodes, edges = t1_flow.get_nodes_and_edges()\n",
    "nodes, edges"
   ]
  },
  {
   "cell_type": "code",
   "execution_count": 10,
   "metadata": {
    "id": "PZ32Fm6GHLqd"
   },
   "outputs": [
    {
     "name": "stdout",
     "output_type": "stream",
     "text": [
      "=========== Jobflow Details ===================\n",
      "Application:  Naga0.2_Demo\n",
      "Sub Application:  Demo-02\n",
      "Folder Name: HelloWorld \n",
      "\n",
      "\n",
      "\n"
     ]
    },
    {
     "data": {
      "image/svg+xml": [
       "<?xml version=\"1.0\" encoding=\"UTF-8\" standalone=\"no\"?>\n",
       "<!DOCTYPE svg PUBLIC \"-//W3C//DTD SVG 1.1//EN\"\n",
       " \"http://www.w3.org/Graphics/SVG/1.1/DTD/svg11.dtd\">\n",
       "<!-- Generated by graphviz version 2.43.0 (0)\n",
       " -->\n",
       "<!-- Title: G Pages: 1 -->\n",
       "<svg width=\"118pt\" height=\"188pt\"\n",
       " viewBox=\"0.00 0.00 118.49 188.00\" xmlns=\"http://www.w3.org/2000/svg\" xmlns:xlink=\"http://www.w3.org/1999/xlink\">\n",
       "<g id=\"graph0\" class=\"graph\" transform=\"scale(1 1) rotate(0) translate(4 184)\">\n",
       "<title>G</title>\n",
       "<polygon fill=\"white\" stroke=\"transparent\" points=\"-4,4 -4,-184 114.49,-184 114.49,4 -4,4\"/>\n",
       "<!-- Start&#45;Flow -->\n",
       "<g id=\"node1\" class=\"node\">\n",
       "<title>Start&#45;Flow</title>\n",
       "<ellipse fill=\"none\" stroke=\"black\" cx=\"55.25\" cy=\"-162\" rx=\"48.19\" ry=\"18\"/>\n",
       "<text text-anchor=\"middle\" x=\"55.25\" y=\"-158.3\" font-family=\"Times,serif\" font-size=\"14.00\">Start&#45;Flow</text>\n",
       "</g>\n",
       "<!-- Hello&#45;World -->\n",
       "<g id=\"node3\" class=\"node\">\n",
       "<title>Hello&#45;World</title>\n",
       "<ellipse fill=\"none\" stroke=\"black\" cx=\"55.25\" cy=\"-90\" rx=\"55.49\" ry=\"18\"/>\n",
       "<text text-anchor=\"middle\" x=\"55.25\" y=\"-86.3\" font-family=\"Times,serif\" font-size=\"14.00\">Hello&#45;World</text>\n",
       "</g>\n",
       "<!-- Start&#45;Flow&#45;&gt;Hello&#45;World -->\n",
       "<g id=\"edge1\" class=\"edge\">\n",
       "<title>Start&#45;Flow&#45;&gt;Hello&#45;World</title>\n",
       "<path fill=\"none\" stroke=\"black\" d=\"M55.25,-143.7C55.25,-135.98 55.25,-126.71 55.25,-118.11\"/>\n",
       "<polygon fill=\"black\" stroke=\"black\" points=\"58.75,-118.1 55.25,-108.1 51.75,-118.1 58.75,-118.1\"/>\n",
       "</g>\n",
       "<!-- End&#45;Flow -->\n",
       "<g id=\"node2\" class=\"node\">\n",
       "<title>End&#45;Flow</title>\n",
       "<ellipse fill=\"none\" stroke=\"black\" cx=\"55.25\" cy=\"-18\" rx=\"46.29\" ry=\"18\"/>\n",
       "<text text-anchor=\"middle\" x=\"55.25\" y=\"-14.3\" font-family=\"Times,serif\" font-size=\"14.00\">End&#45;Flow</text>\n",
       "</g>\n",
       "<!-- Hello&#45;World&#45;&gt;End&#45;Flow -->\n",
       "<g id=\"edge2\" class=\"edge\">\n",
       "<title>Hello&#45;World&#45;&gt;End&#45;Flow</title>\n",
       "<path fill=\"none\" stroke=\"black\" d=\"M55.25,-71.7C55.25,-63.98 55.25,-54.71 55.25,-46.11\"/>\n",
       "<polygon fill=\"black\" stroke=\"black\" points=\"58.75,-46.1 55.25,-36.1 51.75,-46.1 58.75,-46.1\"/>\n",
       "</g>\n",
       "</g>\n",
       "</svg>\n"
      ],
      "text/plain": [
       "<graphviz.dot.Digraph at 0x7fb7c5f93d00>"
      ]
     },
     "execution_count": 10,
     "metadata": {},
     "output_type": "execute_result"
    }
   ],
   "source": [
    "#display using graphviz\n",
    "from ctm_python_client.utils.displayDAG import DisplayDAG\n",
    "\n",
    "#sudo apt-get install graphviz (on unix)\n",
    "#  or \n",
    "# brew install graphviz (for mac)\n",
    "DisplayDAG(t1_flow).display_graphviz()"
   ]
  },
  {
   "cell_type": "markdown",
   "metadata": {
    "id": "X3gtVE7sykA2"
   },
   "source": [
    "## Step 6B - Display JSON"
   ]
  },
  {
   "cell_type": "code",
   "execution_count": 11,
   "metadata": {
    "colab": {
     "base_uri": "https://localhost:8080/"
    },
    "id": "5XojggPS34rE",
    "outputId": "7e044bbf-d412-4d89-f6b9-f923fb32bd8f"
   },
   "outputs": [
    {
     "name": "stdout",
     "output_type": "stream",
     "text": [
      "{\n",
      "    \"Defaults\": {\n",
      "        \"Application\": \"Naga0.2_Demo\",\n",
      "        \"SubApplication\": \"Demo-02\",\n",
      "        \"RunAs\": \"ctmuser\",\n",
      "        \"Host\": \"acb-rhctmv20\",\n",
      "        \"When\": {\n",
      "            \"Months\": [\n",
      "                \"JAN\",\n",
      "                \"OCT\",\n",
      "                \"DEC\"\n",
      "            ],\n",
      "            \"MonthDays\": [\n",
      "                \"ALL\"\n",
      "            ],\n",
      "            \"WeekDays\": [\n",
      "                \"MON\",\n",
      "                \"TUE\",\n",
      "                \"WED\",\n",
      "                \"THU\",\n",
      "                \"FRI\"\n",
      "            ],\n",
      "            \"FromTime\": \"0300\",\n",
      "            \"ToTime\": \"2100\"\n",
      "        }\n",
      "    },\n",
      "    \"HelloWorld\": {\n",
      "        \"Type\": \"Folder\",\n",
      "        \"Start-Flow\": {\n",
      "            \"Type\": \"Job:Dummy\"\n",
      "        },\n",
      "        \"End-Flow\": {\n",
      "            \"Type\": \"Job:Dummy\"\n",
      "        },\n",
      "        \"Hello-World\": {\n",
      "            \"Type\": \"Job:Dummy\"\n",
      "        },\n",
      "        \"Flow1\": {\n",
      "            \"Type\": \"Flow\",\n",
      "            \"Sequence\": [\n",
      "                \"Start-Flow\",\n",
      "                \"Hello-World\",\n",
      "                \"End-Flow\"\n",
      "            ]\n",
      "        }\n",
      "    }\n",
      "}\n"
     ]
    }
   ],
   "source": [
    "t1_flow.display_json()"
   ]
  },
  {
   "cell_type": "markdown",
   "metadata": {
    "id": "hBqW_iV2yKcW"
   },
   "source": [
    "# Step 7 - Submit Workflow to Control-M"
   ]
  },
  {
   "cell_type": "code",
   "execution_count": 12,
   "metadata": {
    "colab": {
     "base_uri": "https://localhost:8080/"
    },
    "id": "LNFCqGbpt-J1",
    "outputId": "146f4413-71f6-48cf-cad6-9a8cd7a2e723"
   },
   "outputs": [
    {
     "name": "stdout",
     "output_type": "stream",
     "text": [
      "[{'deployed_calendars': None,\n",
      " 'deployed_connection_profiles': None,\n",
      " 'deployed_drivers': None,\n",
      " 'deployed_folders': ['HelloWorld'],\n",
      " 'deployed_jobs': None,\n",
      " 'deployment_file': 'jobs.json',\n",
      " 'errors': None,\n",
      " 'is_deploy_descriptor_valid': False,\n",
      " 'successful_calendars_count': None,\n",
      " 'successful_connection_profiles_count': 0,\n",
      " 'successful_drivers_count': 0,\n",
      " 'successful_folders_count': 0,\n",
      " 'successful_jobs_count': 3,\n",
      " 'successful_smart_folders_count': 1,\n",
      " 'successful_sub_folders_count': 0,\n",
      " 'warnings': None}]\n",
      "Successfully submitted to Control-M\n",
      "Login to None/ControlM/ and use your workflow\n"
     ]
    },
    {
     "data": {
      "text/plain": [
       "[{'deployed_calendars': None,\n",
       "  'deployed_connection_profiles': None,\n",
       "  'deployed_drivers': None,\n",
       "  'deployed_folders': ['HelloWorld'],\n",
       "  'deployed_jobs': None,\n",
       "  'deployment_file': 'jobs.json',\n",
       "  'errors': None,\n",
       "  'is_deploy_descriptor_valid': False,\n",
       "  'successful_calendars_count': None,\n",
       "  'successful_connection_profiles_count': 0,\n",
       "  'successful_drivers_count': 0,\n",
       "  'successful_folders_count': 0,\n",
       "  'successful_jobs_count': 3,\n",
       "  'successful_smart_folders_count': 1,\n",
       "  'successful_sub_folders_count': 0,\n",
       "  'warnings': None}]"
      ]
     },
     "execution_count": 12,
     "metadata": {},
     "output_type": "execute_result"
    }
   ],
   "source": [
    "t1_flow.deploy()"
   ]
  },
  {
   "cell_type": "code",
   "execution_count": 13,
   "metadata": {
    "colab": {
     "base_uri": "https://localhost:8080/"
    },
    "id": "fP-WxlpJgtPW",
    "outputId": "dd7e02b3-6e94-43b2-b0a6-ab115eb857c4"
   },
   "outputs": [
    {
     "name": "stdout",
     "output_type": "stream",
     "text": [
      "{'monitor_page_uri': None,\n",
      " 'run_id': '98aabf49-f069-48a7-92bd-7805fdbdecfa',\n",
      " 'status_uri': 'https://acb-rhctmv20.centralus.cloudapp.azure.com:8443/automation-api/run/status/98aabf49-f069-48a7-92bd-7805fdbdecfa'}\n",
      "Successfully Run job on Control-M\n",
      "Login to None/ControlM/ and use your workflow\n"
     ]
    },
    {
     "data": {
      "text/plain": [
       "True"
      ]
     },
     "execution_count": 13,
     "metadata": {},
     "output_type": "execute_result"
    }
   ],
   "source": [
    "t1_flow.run()"
   ]
  },
  {
   "cell_type": "code",
   "execution_count": null,
   "metadata": {
    "id": "3NzmdbQovSVH"
   },
   "outputs": [],
   "source": []
  }
 ],
 "metadata": {
  "colab": {
   "collapsed_sections": [
    "9PBDYvbtwWfL"
   ],
   "name": "Demo Naga0.2 01 - HelloWorld.ipynb",
   "provenance": []
  },
  "interpreter": {
   "hash": "0acf5e98f0d0e19783fbfe4e74c866635b65b3ca578adc3721d8cbd623aa3da4"
  },
  "kernelspec": {
   "display_name": "Python 3",
   "language": "python",
   "name": "python3"
  },
  "language_info": {
   "codemirror_mode": {
    "name": "ipython",
    "version": 3
   },
   "file_extension": ".py",
   "mimetype": "text/x-python",
   "name": "python",
   "nbconvert_exporter": "python",
   "pygments_lexer": "ipython3",
   "version": "3.8.3"
  }
 },
 "nbformat": 4,
 "nbformat_minor": 2
}
