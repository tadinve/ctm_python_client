{
 "cells": [
  {
   "cell_type": "markdown",
   "metadata": {
    "id": "iCm2sd89tOdP"
   },
   "source": [
    "# Demo: Defining Control_M Workflows using Python"
   ]
  },
  {
   "cell_type": "markdown",
   "metadata": {
    "id": "dornvvu0tYxj"
   },
   "source": [
    "# Step 1 - Setup"
   ]
  },
  {
   "cell_type": "markdown",
   "metadata": {
    "id": "GKkmksYi1-Kn"
   },
   "source": [
    "## Step 1A - Install the library"
   ]
  },
  {
   "cell_type": "code",
   "execution_count": 1,
   "metadata": {},
   "outputs": [
    {
     "name": "stdout",
     "output_type": "stream",
     "text": [
      "pip 21.2.4 from /opt/conda/lib/python3.8/site-packages/pip (python 3.8)\r\n"
     ]
    }
   ],
   "source": [
    "!pip --version"
   ]
  },
  {
   "cell_type": "code",
   "execution_count": 2,
   "metadata": {},
   "outputs": [
    {
     "name": "stdout",
     "output_type": "stream",
     "text": [
      "\u001b[33mWARNING: The directory '/home/jovyan/.cache/pip' or its parent directory is not owned or is not writable by the current user. The cache has been disabled. Check the permissions and owner of that directory. If executing pip with sudo, you should use sudo's -H flag.\u001b[0m\n",
      "Collecting git+https://github.com/tadinve/naga.git\n",
      "  Cloning https://github.com/tadinve/naga.git to /tmp/pip-req-build-ig3twqti\n",
      "  Running command git clone -q https://github.com/tadinve/naga.git /tmp/pip-req-build-ig3twqti\n",
      "  Resolved https://github.com/tadinve/naga.git to commit 2c2729372cb122df0db36c2da19df68bf6384a7b\n",
      "Building wheels for collected packages: ctm-python-client\n",
      "  Building wheel for ctm-python-client (setup.py) ... \u001b[?25ldone\n",
      "\u001b[?25h  Created wheel for ctm-python-client: filename=ctm_python_client-0.3.0-py3-none-any.whl size=615428 sha256=baf1f606033fe36887f45be273d627daa39dda02588b040d5c874c9d99c8b477\n",
      "  Stored in directory: /tmp/pip-ephem-wheel-cache-icym8rqe/wheels/de/35/cb/b70c2ffd6e40942c62635105854bc5fabd5125a0f0f9b17cb9\n",
      "Successfully built ctm-python-client\n",
      "Installing collected packages: ctm-python-client\n",
      "  Attempting uninstall: ctm-python-client\n",
      "    Found existing installation: ctm-python-client 0.3.0\n",
      "    Uninstalling ctm-python-client-0.3.0:\n",
      "      Successfully uninstalled ctm-python-client-0.3.0\n",
      "Successfully installed ctm-python-client-0.3.0\n",
      "\u001b[33mWARNING: Running pip as the 'root' user can result in broken permissions and conflicting behaviour with the system package manager. It is recommended to use a virtual environment instead: https://pip.pypa.io/warnings/venv\u001b[0m\n"
     ]
    }
   ],
   "source": [
    "!pip install --upgrade --no-deps --force-reinstall git+https://github.com/tadinve/naga.git"
   ]
  },
  {
   "cell_type": "code",
   "execution_count": 3,
   "metadata": {
    "id": "6iwRhegFtcXJ"
   },
   "outputs": [],
   "source": [
    "from ctm_python_client.core.bmc_control_m import CmJobFlow\n",
    "from ctm_python_client.jobs.dummy import DummyJob"
   ]
  },
  {
   "cell_type": "markdown",
   "metadata": {
    "id": "TfK9UygIu3Qg"
   },
   "source": [
    "# Step 2 - Instantiate, Authenticate and Schedule\n"
   ]
  },
  {
   "cell_type": "markdown",
   "metadata": {
    "id": "N6CwrQJ5Lxz1"
   },
   "source": [
    "## Step 2A - Create the object"
   ]
  },
  {
   "cell_type": "code",
   "execution_count": 4,
   "metadata": {
    "colab": {
     "base_uri": "https://localhost:8080/",
     "height": 35
    },
    "id": "FDszp8dtRJi_",
    "outputId": "703ac9a8-eb2e-4840-bfc1-10d62fa4315f"
   },
   "outputs": [
    {
     "data": {
      "text/plain": [
       "'C58DAD3C140CF0A58041B4FF655316A06AB6646EC4C5813EA84926A8BCC04F18740DF2A5046147104A3C9395A58E2CC9E23DE3C9402974C734526345B9F2EB38'"
      ]
     },
     "execution_count": 4,
     "metadata": {},
     "output_type": "execute_result"
    }
   ],
   "source": [
    "# Please change the URfrI, and ctm_user and enter ctm_password to match your environment\n",
    "from ctm_python_client.session.session import Session\n",
    "\n",
    "import getpass\n",
    "\n",
    "ctm_uri = \"https://acb-rhctmv20.centralus.cloudapp.azure.com:8443/automation-api\"\n",
    "ctm_user = \"vtadinad\"\n",
    "ctm_pwd = \"P4ssw0rd\"\n",
    "if \"ctm_pwd\" not in locals():  # has not been enterd once, will skip next time\n",
    "    ctm_pwd = getpass.getpass(\"Enter your Control M Password \")\n",
    "\n",
    "session = Session(endpoint=ctm_uri, username=ctm_user, password=ctm_pwd)\n",
    "session.get_token()"
   ]
  },
  {
   "cell_type": "code",
   "execution_count": 5,
   "metadata": {
    "id": "vI4PTJddLxz1"
   },
   "outputs": [],
   "source": [
    "t1_flow = CmJobFlow(\n",
    "    application=\"Naga0.3_Examples\", sub_application=\"Demo-OR_JOB\", session=session\n",
    ")"
   ]
  },
  {
   "cell_type": "markdown",
   "metadata": {
    "id": "k7HfewL42f18"
   },
   "source": [
    "## Step 2B - Define the Schedule"
   ]
  },
  {
   "cell_type": "code",
   "execution_count": 6,
   "metadata": {
    "id": "PW4yoM6b-2v2"
   },
   "outputs": [],
   "source": [
    "t1_flow.set_run_as(username=\"ctmuser\", host=\"acb-rhctmv20\")"
   ]
  },
  {
   "cell_type": "code",
   "execution_count": 7,
   "metadata": {
    "id": "qMVzFXekvSTy"
   },
   "outputs": [],
   "source": [
    "# Define the schedule\n",
    "months = [\"JAN\", \"OCT\", \"DEC\"]\n",
    "monthDays = [\"ALL\"]\n",
    "weekDays = [\"MON\", \"TUE\", \"WED\", \"THU\", \"FRI\"]\n",
    "fromTime = \"0300\"\n",
    "toTime = \"2100\"\n",
    "t1_flow.set_schedule(months, monthDays, weekDays, fromTime, toTime)"
   ]
  },
  {
   "cell_type": "markdown",
   "metadata": {
    "id": "9PBDYvbtwWfL"
   },
   "source": [
    "# Step 3  - Create Folder"
   ]
  },
  {
   "cell_type": "code",
   "execution_count": 10,
   "metadata": {
    "id": "7MQ5so2gwWK1"
   },
   "outputs": [],
   "source": [
    "# Create Fodler\n",
    "f1 = t1_flow.create_folder(name=\"OR-JOB\")"
   ]
  },
  {
   "cell_type": "markdown",
   "metadata": {
    "id": "dLGmvMkuwdMW"
   },
   "source": [
    "# Step 4 - Create Tasks"
   ]
  },
  {
   "cell_type": "code",
   "execution_count": 11,
   "metadata": {
    "id": "shpuP7_fwiNP"
   },
   "outputs": [],
   "source": [
    "start = t1_flow.add_job(f1, DummyJob(f1, \"Start-Flow\"))\n",
    "\n",
    "\n",
    "job1 = DummyJob(f1, \"Job1\")\n",
    "job1.add_if_output(\"if-true\", \"*true*\", \"Job1-TO-Job2\")\n",
    "job1.add_if_output(\"if-flase\", \"*false*\", \"Job1-TO-Job3\")\n",
    "job1_id = t1_flow.add_job(f1, job1)\n",
    "\n",
    "job2 = DummyJob(f1, \"Job2\")\n",
    "job2_id = t1_flow.add_job(f1, job2)\n",
    "\n",
    "job3 = DummyJob(f1, \"Job3\")\n",
    "job3_id = t1_flow.add_job(f1, job3)\n",
    "\n",
    "job4 = DummyJob(f1, \"Job4\")\n",
    "job4.wait_for_jobs(job1.get_job_name(), job3.get_job_name(), condition=\"OR\")\n",
    "job4_id = t1_flow.add_job(f1, job4)\n",
    "\n",
    "end = t1_flow.add_job(f1, DummyJob(f1, \"End-Flow\"))"
   ]
  },
  {
   "cell_type": "markdown",
   "metadata": {
    "id": "8uRR5vGWx-9Q"
   },
   "source": [
    "# Step 5 - Chain Tasks"
   ]
  },
  {
   "cell_type": "code",
   "execution_count": 12,
   "metadata": {
    "colab": {
     "base_uri": "https://localhost:8080/"
    },
    "id": "oiaQR99LPIVm",
    "outputId": "11c0cf22-ad56-401e-82d5-14fe7121b2bc"
   },
   "outputs": [
    {
     "name": "stdout",
     "output_type": "stream",
     "text": [
      "[('Start-Flow', <ctm_python_client.jobs.dummy.DummyJob object at 0x7f55dfcec910>), ('Job1', <ctm_python_client.jobs.dummy.DummyJob object at 0x7f55dfcec490>), ('Job2', <ctm_python_client.jobs.dummy.DummyJob object at 0x7f55dfcec5b0>), ('Job3', <ctm_python_client.jobs.dummy.DummyJob object at 0x7f55dfcec5e0>), ('Start-Flow', <ctm_python_client.jobs.dummy.DummyJob object at 0x7f55dfc84eb0>), ('Job1', <ctm_python_client.jobs.dummy.DummyJob object at 0x7f55dfc84160>), ('Job2', <ctm_python_client.jobs.dummy.DummyJob object at 0x7f55dfc84f10>), ('Job3', <ctm_python_client.jobs.dummy.DummyJob object at 0x7f55dfc842b0>), ('Job4', <ctm_python_client.jobs.dummy.DummyJob object at 0x7f55dfc84910>), ('End-Flow', <ctm_python_client.jobs.dummy.DummyJob object at 0x7f55dfc848b0>)]\n",
      "['4', '5']\n",
      "[('Start-Flow', <ctm_python_client.jobs.dummy.DummyJob object at 0x7f55dfcec910>), ('Job1', <ctm_python_client.jobs.dummy.DummyJob object at 0x7f55dfcec490>), ('Job2', <ctm_python_client.jobs.dummy.DummyJob object at 0x7f55dfcec5b0>), ('Job3', <ctm_python_client.jobs.dummy.DummyJob object at 0x7f55dfcec5e0>), ('Start-Flow', <ctm_python_client.jobs.dummy.DummyJob object at 0x7f55dfc84eb0>), ('Job1', <ctm_python_client.jobs.dummy.DummyJob object at 0x7f55dfc84160>), ('Job2', <ctm_python_client.jobs.dummy.DummyJob object at 0x7f55dfc84f10>), ('Job3', <ctm_python_client.jobs.dummy.DummyJob object at 0x7f55dfc842b0>), ('Job4', <ctm_python_client.jobs.dummy.DummyJob object at 0x7f55dfc84910>), ('End-Flow', <ctm_python_client.jobs.dummy.DummyJob object at 0x7f55dfc848b0>)]\n",
      "['6', '7']\n",
      "[('Start-Flow', <ctm_python_client.jobs.dummy.DummyJob object at 0x7f55dfcec910>), ('Job1', <ctm_python_client.jobs.dummy.DummyJob object at 0x7f55dfcec490>), ('Job2', <ctm_python_client.jobs.dummy.DummyJob object at 0x7f55dfcec5b0>), ('Job3', <ctm_python_client.jobs.dummy.DummyJob object at 0x7f55dfcec5e0>), ('Start-Flow', <ctm_python_client.jobs.dummy.DummyJob object at 0x7f55dfc84eb0>), ('Job1', <ctm_python_client.jobs.dummy.DummyJob object at 0x7f55dfc84160>), ('Job2', <ctm_python_client.jobs.dummy.DummyJob object at 0x7f55dfc84f10>), ('Job3', <ctm_python_client.jobs.dummy.DummyJob object at 0x7f55dfc842b0>), ('Job4', <ctm_python_client.jobs.dummy.DummyJob object at 0x7f55dfc84910>), ('End-Flow', <ctm_python_client.jobs.dummy.DummyJob object at 0x7f55dfc848b0>)]\n",
      "['8', '9']\n"
     ]
    }
   ],
   "source": [
    "# start >>  hello_world_id >> end\n",
    "t1_flow.chain_jobs(f1, [start, job1_id])\n",
    "t1_flow.chain_jobs(f1, [job2_id, job3_id])\n",
    "t1_flow.chain_jobs(f1, [job4_id, end])"
   ]
  },
  {
   "cell_type": "markdown",
   "metadata": {
    "id": "QrQo_1Q4yG-7"
   },
   "source": [
    "# Step 6 - Display Workflow"
   ]
  },
  {
   "cell_type": "markdown",
   "metadata": {
    "id": "Mn5OvXGuydlJ"
   },
   "source": [
    "## Step 6A - Display DAG"
   ]
  },
  {
   "cell_type": "code",
   "execution_count": 13,
   "metadata": {
    "colab": {
     "base_uri": "https://localhost:8080/"
    },
    "id": "m8vAW424yWXb",
    "outputId": "b46ecabb-7ae5-4b52-d7bb-8362d80b3dd5"
   },
   "outputs": [
    {
     "data": {
      "text/plain": [
       "([('Start-Flow', <ctm_python_client.jobs.dummy.DummyJob at 0x7f55dfcec910>),\n",
       "  ('Job1', <ctm_python_client.jobs.dummy.DummyJob at 0x7f55dfcec490>),\n",
       "  ('Job2', <ctm_python_client.jobs.dummy.DummyJob at 0x7f55dfcec5b0>),\n",
       "  ('Job3', <ctm_python_client.jobs.dummy.DummyJob at 0x7f55dfcec5e0>),\n",
       "  ('Start-Flow', <ctm_python_client.jobs.dummy.DummyJob at 0x7f55dfc84eb0>),\n",
       "  ('Job1', <ctm_python_client.jobs.dummy.DummyJob at 0x7f55dfc84160>),\n",
       "  ('Job2', <ctm_python_client.jobs.dummy.DummyJob at 0x7f55dfc84f10>),\n",
       "  ('Job3', <ctm_python_client.jobs.dummy.DummyJob at 0x7f55dfc842b0>),\n",
       "  ('Job4', <ctm_python_client.jobs.dummy.DummyJob at 0x7f55dfc84910>),\n",
       "  ('End-Flow', <ctm_python_client.jobs.dummy.DummyJob at 0x7f55dfc848b0>)],\n",
       " [('Start-Flow', 'Job1'), ('Job2', 'Job3'), ('Job4', 'End-Flow')])"
      ]
     },
     "execution_count": 13,
     "metadata": {},
     "output_type": "execute_result"
    }
   ],
   "source": [
    "# View the t1_flow Details\n",
    "nodes, edges = t1_flow.get_nodes_and_edges()\n",
    "nodes, edges"
   ]
  },
  {
   "cell_type": "code",
   "execution_count": 14,
   "metadata": {
    "id": "PZ32Fm6GHLqd"
   },
   "outputs": [],
   "source": [
    "# display using graphviz\n",
    "from ctm_python_client.utils.displayDAG import DisplayDAG\n",
    "\n",
    "# sudo apt-get install graphviz (on unix)\n",
    "#  or\n",
    "# brew install graphviz (for mac)\n",
    "# DisplayDAG(t1_flow).display_graphviz()"
   ]
  },
  {
   "cell_type": "markdown",
   "metadata": {
    "id": "X3gtVE7sykA2"
   },
   "source": [
    "## Step 6B - Display JSON"
   ]
  },
  {
   "cell_type": "code",
   "execution_count": 15,
   "metadata": {
    "colab": {
     "base_uri": "https://localhost:8080/"
    },
    "id": "5XojggPS34rE",
    "outputId": "7e044bbf-d412-4d89-f6b9-f923fb32bd8f"
   },
   "outputs": [
    {
     "name": "stdout",
     "output_type": "stream",
     "text": [
      "{\n",
      "    \"Defaults\": {\n",
      "        \"Application\": \"Naga0.3_Examples\",\n",
      "        \"SubApplication\": \"Demo-OR_JOB\",\n",
      "        \"RunAs\": \"ctmuser\",\n",
      "        \"Host\": \"acb-rhctmv20\",\n",
      "        \"When\": {\n",
      "            \"Months\": [\n",
      "                \"JAN\",\n",
      "                \"OCT\",\n",
      "                \"DEC\"\n",
      "            ],\n",
      "            \"MonthDays\": [\n",
      "                \"ALL\"\n",
      "            ],\n",
      "            \"WeekDays\": [\n",
      "                \"MON\",\n",
      "                \"TUE\",\n",
      "                \"WED\",\n",
      "                \"THU\",\n",
      "                \"FRI\"\n",
      "            ],\n",
      "            \"FromTime\": \"0300\",\n",
      "            \"ToTime\": \"2100\"\n",
      "        }\n",
      "    },\n",
      "    \"OR-JOB\": {\n",
      "        \"Type\": \"Folder\",\n",
      "        \"Start-Flow\": {\n",
      "            \"Type\": \"Job:Dummy\",\n",
      "            \"eventsToAdd\": {\n",
      "                \"Type\": \"AddEvents\",\n",
      "                \"Events\": [\n",
      "                    {\n",
      "                        \"Event\": \"Start-Flow-To-Job1\"\n",
      "                    }\n",
      "                ]\n",
      "            }\n",
      "        },\n",
      "        \"Job1\": {\n",
      "            \"Type\": \"Job:Dummy\",\n",
      "            \"if-true\": {\n",
      "                \"Type\": \"If:Output\",\n",
      "                \"Code\": \"*true*\",\n",
      "                \"Event:Add_0\": {\n",
      "                    \"Type\": \"Event:Add\",\n",
      "                    \"Event\": \"Job1-TO-Job2\"\n",
      "                }\n",
      "            },\n",
      "            \"if-flase\": {\n",
      "                \"Type\": \"If:Output\",\n",
      "                \"Code\": \"*false*\",\n",
      "                \"Event:Add_0\": {\n",
      "                    \"Type\": \"Event:Add\",\n",
      "                    \"Event\": \"Job1-TO-Job3\"\n",
      "                }\n",
      "            }\n",
      "        },\n",
      "        \"Job2\": {\n",
      "            \"Type\": \"Job:Dummy\",\n",
      "            \"eventsToAdd\": {\n",
      "                \"Type\": \"AddEvents\",\n",
      "                \"Events\": [\n",
      "                    {\n",
      "                        \"Event\": \"Job2-To-Job3\"\n",
      "                    }\n",
      "                ]\n",
      "            }\n",
      "        },\n",
      "        \"Job3\": {\n",
      "            \"Type\": \"Job:Dummy\"\n",
      "        },\n",
      "        \"Job4\": {\n",
      "            \"Type\": \"Job:Dummy\",\n",
      "            \"eventsToWaitFor\": {\n",
      "                \"Type\": \"WaitForEvents\",\n",
      "                \"Events\": [\n",
      "                    {\n",
      "                        \"Event\": \"Job1-To-Job4\"\n",
      "                    },\n",
      "                    \"OR\",\n",
      "                    {\n",
      "                        \"Event\": \"Job3-To-Job4\"\n",
      "                    }\n",
      "                ]\n",
      "            },\n",
      "            \"eventsToAdd\": {\n",
      "                \"Type\": \"AddEvents\",\n",
      "                \"Events\": [\n",
      "                    {\n",
      "                        \"Event\": \"Job4-To-End-Flow\"\n",
      "                    }\n",
      "                ]\n",
      "            }\n",
      "        },\n",
      "        \"End-Flow\": {\n",
      "            \"Type\": \"Job:Dummy\"\n",
      "        },\n",
      "        \"Flow1\": {\n",
      "            \"Type\": \"Flow\",\n",
      "            \"Sequence\": [\n",
      "                \"Start-Flow\",\n",
      "                \"Job1\"\n",
      "            ]\n",
      "        },\n",
      "        \"Flow2\": {\n",
      "            \"Type\": \"Flow\",\n",
      "            \"Sequence\": [\n",
      "                \"Job2\",\n",
      "                \"Job3\"\n",
      "            ]\n",
      "        },\n",
      "        \"Flow3\": {\n",
      "            \"Type\": \"Flow\",\n",
      "            \"Sequence\": [\n",
      "                \"Job4\",\n",
      "                \"End-Flow\"\n",
      "            ]\n",
      "        }\n",
      "    }\n",
      "}\n"
     ]
    }
   ],
   "source": [
    "t1_flow.display_json()"
   ]
  },
  {
   "cell_type": "markdown",
   "metadata": {
    "id": "hBqW_iV2yKcW"
   },
   "source": [
    "# Step 7 - Submit Workflow to Control-M"
   ]
  },
  {
   "cell_type": "code",
   "execution_count": 16,
   "metadata": {
    "colab": {
     "base_uri": "https://localhost:8080/"
    },
    "id": "LNFCqGbpt-J1",
    "outputId": "146f4413-71f6-48cf-cad6-9a8cd7a2e723"
   },
   "outputs": [
    {
     "name": "stdout",
     "output_type": "stream",
     "text": [
      "[{'deployed_calendars': None,\n",
      " 'deployed_connection_profiles': None,\n",
      " 'deployed_drivers': None,\n",
      " 'deployed_folders': ['OR-JOB'],\n",
      " 'deployed_jobs': None,\n",
      " 'deployment_file': 'jobs.json',\n",
      " 'errors': None,\n",
      " 'is_deploy_descriptor_valid': False,\n",
      " 'successful_calendars_count': None,\n",
      " 'successful_connection_profiles_count': 0,\n",
      " 'successful_drivers_count': 0,\n",
      " 'successful_folders_count': 0,\n",
      " 'successful_jobs_count': 6,\n",
      " 'successful_smart_folders_count': 1,\n",
      " 'successful_sub_folders_count': 0,\n",
      " 'warnings': None}]\n",
      "Successfully submitted to Control-M\n",
      "Login to None/ControlM/ and use your workflow\n"
     ]
    },
    {
     "data": {
      "text/plain": [
       "[{'deployed_calendars': None,\n",
       "  'deployed_connection_profiles': None,\n",
       "  'deployed_drivers': None,\n",
       "  'deployed_folders': ['OR-JOB'],\n",
       "  'deployed_jobs': None,\n",
       "  'deployment_file': 'jobs.json',\n",
       "  'errors': None,\n",
       "  'is_deploy_descriptor_valid': False,\n",
       "  'successful_calendars_count': None,\n",
       "  'successful_connection_profiles_count': 0,\n",
       "  'successful_drivers_count': 0,\n",
       "  'successful_folders_count': 0,\n",
       "  'successful_jobs_count': 6,\n",
       "  'successful_smart_folders_count': 1,\n",
       "  'successful_sub_folders_count': 0,\n",
       "  'warnings': None}]"
      ]
     },
     "execution_count": 16,
     "metadata": {},
     "output_type": "execute_result"
    }
   ],
   "source": [
    "t1_flow.deploy()"
   ]
  },
  {
   "cell_type": "code",
   "execution_count": 17,
   "metadata": {
    "colab": {
     "base_uri": "https://localhost:8080/"
    },
    "id": "fP-WxlpJgtPW",
    "outputId": "dd7e02b3-6e94-43b2-b0a6-ab115eb857c4"
   },
   "outputs": [
    {
     "name": "stdout",
     "output_type": "stream",
     "text": [
      "{'monitor_page_uri': None,\n",
      " 'run_id': '92d66bff-ebd8-48e9-8f38-c3db998b7b62',\n",
      " 'status_uri': 'https://acb-rhctmv20.centralus.cloudapp.azure.com:8443/automation-api/run/status/92d66bff-ebd8-48e9-8f38-c3db998b7b62'}\n",
      "Successfully Run job on Control-M\n",
      "Login to None/ControlM/ and use your workflow\n"
     ]
    },
    {
     "data": {
      "text/plain": [
       "True"
      ]
     },
     "execution_count": 17,
     "metadata": {},
     "output_type": "execute_result"
    }
   ],
   "source": [
    "t1_flow.run()"
   ]
  },
  {
   "cell_type": "code",
   "execution_count": null,
   "metadata": {
    "id": "3NzmdbQovSVH"
   },
   "outputs": [],
   "source": []
  }
 ],
 "metadata": {
  "colab": {
   "collapsed_sections": [
    "9PBDYvbtwWfL"
   ],
   "name": "Demo Naga0.2 01 - HelloWorld.ipynb",
   "provenance": []
  },
  "interpreter": {
   "hash": "0acf5e98f0d0e19783fbfe4e74c866635b65b3ca578adc3721d8cbd623aa3da4"
  },
  "kernelspec": {
   "display_name": "Python 3",
   "language": "python",
   "name": "python3"
  },
  "language_info": {
   "codemirror_mode": {
    "name": "ipython",
    "version": 3
   },
   "file_extension": ".py",
   "mimetype": "text/x-python",
   "name": "python",
   "nbconvert_exporter": "python",
   "pygments_lexer": "ipython3",
   "version": "3.8.3"
  }
 },
 "nbformat": 4,
 "nbformat_minor": 2
}
