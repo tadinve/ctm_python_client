{
 "cells": [
  {
   "cell_type": "markdown",
   "metadata": {
    "id": "iCm2sd89tOdP"
   },
   "source": [
    "# Demo: Defining Control_M Workflows using Python"
   ]
  },
  {
   "cell_type": "markdown",
   "metadata": {
    "id": "dornvvu0tYxj"
   },
   "source": [
    "# Step 1 - Setup"
   ]
  },
  {
   "cell_type": "markdown",
   "metadata": {
    "id": "GKkmksYi1-Kn"
   },
   "source": [
    "## Step 1A - Install the library"
   ]
  },
  {
   "cell_type": "code",
   "execution_count": 1,
   "metadata": {},
   "outputs": [
    {
     "name": "stdout",
     "output_type": "stream",
     "text": [
      "pip 21.2.4 from /opt/conda/lib/python3.8/site-packages/pip (python 3.8)\r\n"
     ]
    }
   ],
   "source": [
    "!pip --version"
   ]
  },
  {
   "cell_type": "code",
   "execution_count": 2,
   "metadata": {},
   "outputs": [
    {
     "name": "stdout",
     "output_type": "stream",
     "text": [
      "\u001b[33mWARNING: The directory '/home/jovyan/.cache/pip' or its parent directory is not owned or is not writable by the current user. The cache has been disabled. Check the permissions and owner of that directory. If executing pip with sudo, you should use sudo's -H flag.\u001b[0m\n",
      "Collecting git+https://github.com/tadinve/naga.git\n",
      "  Cloning https://github.com/tadinve/naga.git to /tmp/pip-req-build-7xnxlv_p\n",
      "  Running command git clone -q https://github.com/tadinve/naga.git /tmp/pip-req-build-7xnxlv_p\n",
      "  Resolved https://github.com/tadinve/naga.git to commit 2aca099b9186d2c1e6689cdf6321cad93031eff0\n",
      "Building wheels for collected packages: ctm-python-client\n",
      "  Building wheel for ctm-python-client (setup.py) ... \u001b[?25ldone\n",
      "\u001b[?25h  Created wheel for ctm-python-client: filename=ctm_python_client-0.3.0-py3-none-any.whl size=615435 sha256=9e6aa32f9e26878bfd7456567ce22cf6b31c812c79c98b85250a894014282a3d\n",
      "  Stored in directory: /tmp/pip-ephem-wheel-cache-wqynq2d9/wheels/de/35/cb/b70c2ffd6e40942c62635105854bc5fabd5125a0f0f9b17cb9\n",
      "Successfully built ctm-python-client\n",
      "Installing collected packages: ctm-python-client\n",
      "  Attempting uninstall: ctm-python-client\n",
      "    Found existing installation: ctm-python-client 0.3.0\n",
      "    Uninstalling ctm-python-client-0.3.0:\n",
      "      Successfully uninstalled ctm-python-client-0.3.0\n",
      "Successfully installed ctm-python-client-0.3.0\n",
      "\u001b[33mWARNING: Running pip as the 'root' user can result in broken permissions and conflicting behaviour with the system package manager. It is recommended to use a virtual environment instead: https://pip.pypa.io/warnings/venv\u001b[0m\n"
     ]
    }
   ],
   "source": [
    "!pip install --upgrade --no-deps --force-reinstall git+https://github.com/tadinve/naga.git"
   ]
  },
  {
   "cell_type": "code",
   "execution_count": 3,
   "metadata": {
    "id": "6iwRhegFtcXJ"
   },
   "outputs": [],
   "source": [
    "from ctm_python_client.core.bmc_control_m import CmJobFlow\n",
    "from ctm_python_client.jobs.dummy import DummyJob"
   ]
  },
  {
   "cell_type": "markdown",
   "metadata": {
    "id": "TfK9UygIu3Qg"
   },
   "source": [
    "# Step 2 - Instantiate, Authenticate and Schedule\n"
   ]
  },
  {
   "cell_type": "markdown",
   "metadata": {
    "id": "N6CwrQJ5Lxz1"
   },
   "source": [
    "## Step 2A - Create the object"
   ]
  },
  {
   "cell_type": "code",
   "execution_count": 4,
   "metadata": {
    "colab": {
     "base_uri": "https://localhost:8080/",
     "height": 35
    },
    "id": "FDszp8dtRJi_",
    "outputId": "703ac9a8-eb2e-4840-bfc1-10d62fa4315f"
   },
   "outputs": [
    {
     "data": {
      "text/plain": [
       "'892DB665F33EB30F948515B452A3496D661734A00CCE8DDEA1862F93574A0064FF53F02C3147F569908A201FA29E288934CC7502E509D35B6C510C4ACC447F8F'"
      ]
     },
     "execution_count": 4,
     "metadata": {},
     "output_type": "execute_result"
    }
   ],
   "source": [
    "# Please change the URfrI, and ctm_user and enter ctm_password to match your environment\n",
    "from ctm_python_client.session.session import Session\n",
    "\n",
    "import getpass\n",
    "ctm_uri =  \"https://acb-rhctmv20.centralus.cloudapp.azure.com:8443/automation-api\"\n",
    "ctm_user =  \"vtadinad\"\n",
    "ctm_pwd =                                                                                                                                               \"P4ssw0rd\"\n",
    "if \"ctm_pwd\" not in locals(): # has not been enterd once, will skip next time\n",
    "    ctm_pwd = getpass.getpass(\"Enter your Control M Password \")\n",
    "\n",
    "session = Session( endpoint=ctm_uri,username=ctm_user,password=ctm_pwd)\n",
    "session.get_token()"
   ]
  },
  {
   "cell_type": "code",
   "execution_count": 5,
   "metadata": {
    "id": "vI4PTJddLxz1"
   },
   "outputs": [],
   "source": [
    "t1_flow = CmJobFlow(application=\"Naga0.3_Examples\",sub_application=\"Demo-OR_JOB\",session=session)"
   ]
  },
  {
   "cell_type": "markdown",
   "metadata": {
    "id": "k7HfewL42f18"
   },
   "source": [
    "## Step 2B - Define the Schedule"
   ]
  },
  {
   "cell_type": "code",
   "execution_count": 6,
   "metadata": {
    "id": "PW4yoM6b-2v2"
   },
   "outputs": [],
   "source": [
    "t1_flow.set_run_as(username=\"ctmuser\",host=\"acb-rhctmv20\")"
   ]
  },
  {
   "cell_type": "code",
   "execution_count": 7,
   "metadata": {
    "id": "qMVzFXekvSTy"
   },
   "outputs": [],
   "source": [
    "# Define the schedule\n",
    "months = [\"JAN\", \"OCT\", \"DEC\"]\n",
    "monthDays = [\"ALL\"]\n",
    "weekDays = [\"MON\",\"TUE\", \"WED\", \"THU\", \"FRI\"]\n",
    "fromTime = \"0300\"\n",
    "toTime = \"2100\"\n",
    "t1_flow.set_schedule(months, monthDays, weekDays,fromTime, toTime)\n"
   ]
  },
  {
   "cell_type": "markdown",
   "metadata": {
    "id": "9PBDYvbtwWfL"
   },
   "source": [
    "# Step 3  - Create Folder"
   ]
  },
  {
   "cell_type": "code",
   "execution_count": 8,
   "metadata": {
    "id": "7MQ5so2gwWK1"
   },
   "outputs": [],
   "source": [
    "# Create Fodler\n",
    "f1 = t1_flow.create_folder(name=\"OR-JOB\")"
   ]
  },
  {
   "cell_type": "markdown",
   "metadata": {
    "id": "dLGmvMkuwdMW"
   },
   "source": [
    "# Step 4 - Create Tasks"
   ]
  },
  {
   "cell_type": "code",
   "execution_count": 9,
   "metadata": {
    "id": "shpuP7_fwiNP"
   },
   "outputs": [],
   "source": [
    "start = t1_flow.add_job( f1, DummyJob(f1,\"Start-Flow\") )\n",
    "\n",
    "\n",
    "job1 = DummyJob(f1,\"Job1\")\n",
    "job1.add_if_output(\"if-true\", \"*true*\", \"Job1-TO-Job2\")\n",
    "job1.add_if_output(\"if-flase\", \"*false*\", \"Job1-TO-Job3\")\n",
    "job1_id = t1_flow.add_job( f1, job1 )\n",
    "\n",
    "job2 = DummyJob(f1,\"Job2\")\n",
    "job2_id = t1_flow.add_job( f1, job2 )\n",
    "\n",
    "job3 = DummyJob(f1,\"Job3\")\n",
    "job3_id = t1_flow.add_job( f1, job3 )\n",
    "\n",
    "job4 = DummyJob(f1,\"Job4\")\n",
    "job4.wait_for_jobs(job1_id, job3_id, condition=\"OR\")\n",
    "job4_id = t1_flow.add_job( f1, job4 )\n",
    "\n",
    "end = t1_flow.add_job(f1, DummyJob(f1,\"End-Flow\") )\n",
    "\n"
   ]
  },
  {
   "cell_type": "markdown",
   "metadata": {
    "id": "8uRR5vGWx-9Q"
   },
   "source": [
    "# Step 5 - Chain Tasks"
   ]
  },
  {
   "cell_type": "code",
   "execution_count": 10,
   "metadata": {
    "colab": {
     "base_uri": "https://localhost:8080/"
    },
    "id": "oiaQR99LPIVm",
    "outputId": "11c0cf22-ad56-401e-82d5-14fe7121b2bc"
   },
   "outputs": [
    {
     "name": "stdout",
     "output_type": "stream",
     "text": [
      "[('Start-Flow', <ctm_python_client.jobs.dummy.DummyJob object at 0x7f0939bb6af0>), ('Job1', <ctm_python_client.jobs.dummy.DummyJob object at 0x7f0939bb6a30>), ('Job2', <ctm_python_client.jobs.dummy.DummyJob object at 0x7f0939bb6790>), ('Job3', <ctm_python_client.jobs.dummy.DummyJob object at 0x7f0939bb6ac0>), ('Job4', <ctm_python_client.jobs.dummy.DummyJob object at 0x7f0939bb6b50>), ('End-Flow', <ctm_python_client.jobs.dummy.DummyJob object at 0x7f0939bb6760>)]\n",
      "['0', '1']\n",
      "[('Start-Flow', <ctm_python_client.jobs.dummy.DummyJob object at 0x7f0939bb6af0>), ('Job1', <ctm_python_client.jobs.dummy.DummyJob object at 0x7f0939bb6a30>), ('Job2', <ctm_python_client.jobs.dummy.DummyJob object at 0x7f0939bb6790>), ('Job3', <ctm_python_client.jobs.dummy.DummyJob object at 0x7f0939bb6ac0>), ('Job4', <ctm_python_client.jobs.dummy.DummyJob object at 0x7f0939bb6b50>), ('End-Flow', <ctm_python_client.jobs.dummy.DummyJob object at 0x7f0939bb6760>)]\n",
      "['2', '3']\n",
      "[('Start-Flow', <ctm_python_client.jobs.dummy.DummyJob object at 0x7f0939bb6af0>), ('Job1', <ctm_python_client.jobs.dummy.DummyJob object at 0x7f0939bb6a30>), ('Job2', <ctm_python_client.jobs.dummy.DummyJob object at 0x7f0939bb6790>), ('Job3', <ctm_python_client.jobs.dummy.DummyJob object at 0x7f0939bb6ac0>), ('Job4', <ctm_python_client.jobs.dummy.DummyJob object at 0x7f0939bb6b50>), ('End-Flow', <ctm_python_client.jobs.dummy.DummyJob object at 0x7f0939bb6760>)]\n",
      "['4', '5']\n"
     ]
    }
   ],
   "source": [
    "# start >>  hello_world_id >> end\n",
    "t1_flow.chain_jobs(f1,[start, job1_id])\n",
    "t1_flow.chain_jobs(f1,[job2_id, job3_id])\n",
    "t1_flow.chain_jobs(f1,[job4_id, end])"
   ]
  },
  {
   "cell_type": "markdown",
   "metadata": {
    "id": "QrQo_1Q4yG-7"
   },
   "source": [
    "# Step 6 - Display Workflow"
   ]
  },
  {
   "cell_type": "markdown",
   "metadata": {
    "id": "Mn5OvXGuydlJ"
   },
   "source": [
    "## Step 6A - Display DAG"
   ]
  },
  {
   "cell_type": "code",
   "execution_count": 11,
   "metadata": {
    "colab": {
     "base_uri": "https://localhost:8080/"
    },
    "id": "m8vAW424yWXb",
    "outputId": "b46ecabb-7ae5-4b52-d7bb-8362d80b3dd5"
   },
   "outputs": [
    {
     "data": {
      "text/plain": [
       "([('Start-Flow', <ctm_python_client.jobs.dummy.DummyJob at 0x7f0939bb6af0>),\n",
       "  ('Job1', <ctm_python_client.jobs.dummy.DummyJob at 0x7f0939bb6a30>),\n",
       "  ('Job2', <ctm_python_client.jobs.dummy.DummyJob at 0x7f0939bb6790>),\n",
       "  ('Job3', <ctm_python_client.jobs.dummy.DummyJob at 0x7f0939bb6ac0>),\n",
       "  ('Job4', <ctm_python_client.jobs.dummy.DummyJob at 0x7f0939bb6b50>),\n",
       "  ('End-Flow', <ctm_python_client.jobs.dummy.DummyJob at 0x7f0939bb6760>)],\n",
       " [('Start-Flow', 'Job1'), ('Job2', 'Job3'), ('Job4', 'End-Flow')])"
      ]
     },
     "execution_count": 11,
     "metadata": {},
     "output_type": "execute_result"
    }
   ],
   "source": [
    "# View the t1_flow Details\n",
    "nodes, edges = t1_flow.get_nodes_and_edges()\n",
    "nodes, edges"
   ]
  },
  {
   "cell_type": "code",
   "execution_count": 12,
   "metadata": {
    "id": "PZ32Fm6GHLqd"
   },
   "outputs": [],
   "source": [
    "#display using graphviz\n",
    "from ctm_python_client.utils.displayDAG import DisplayDAG\n",
    "\n",
    "#sudo apt-get install graphviz (on unix)\n",
    "#  or \n",
    "# brew install graphviz (for mac)\n",
    "#DisplayDAG(t1_flow).display_graphviz()"
   ]
  },
  {
   "cell_type": "markdown",
   "metadata": {
    "id": "X3gtVE7sykA2"
   },
   "source": [
    "## Step 6B - Display JSON"
   ]
  },
  {
   "cell_type": "code",
   "execution_count": 13,
   "metadata": {
    "colab": {
     "base_uri": "https://localhost:8080/"
    },
    "id": "5XojggPS34rE",
    "outputId": "7e044bbf-d412-4d89-f6b9-f923fb32bd8f"
   },
   "outputs": [
    {
     "name": "stdout",
     "output_type": "stream",
     "text": [
      "{\n",
      "    \"Defaults\": {\n",
      "        \"Application\": \"Naga0.3_Examples\",\n",
      "        \"SubApplication\": \"Demo-OR_JOB\",\n",
      "        \"RunAs\": \"ctmuser\",\n",
      "        \"Host\": \"acb-rhctmv20\",\n",
      "        \"When\": {\n",
      "            \"Months\": [\n",
      "                \"JAN\",\n",
      "                \"OCT\",\n",
      "                \"DEC\"\n",
      "            ],\n",
      "            \"MonthDays\": [\n",
      "                \"ALL\"\n",
      "            ],\n",
      "            \"WeekDays\": [\n",
      "                \"MON\",\n",
      "                \"TUE\",\n",
      "                \"WED\",\n",
      "                \"THU\",\n",
      "                \"FRI\"\n",
      "            ],\n",
      "            \"FromTime\": \"0300\",\n",
      "            \"ToTime\": \"2100\"\n",
      "        }\n",
      "    },\n",
      "    \"OR-JOB\": {\n",
      "        \"Type\": \"Folder\",\n",
      "        \"Start-Flow\": {\n",
      "            \"Type\": \"Job:Dummy\",\n",
      "            \"eventsToAdd\": {\n",
      "                \"Type\": \"AddEvents\",\n",
      "                \"Events\": [\n",
      "                    {\n",
      "                        \"Event\": \"Start-Flow-To-Job1\"\n",
      "                    }\n",
      "                ]\n",
      "            }\n",
      "        },\n",
      "        \"Job1\": {\n",
      "            \"Type\": \"Job:Dummy\",\n",
      "            \"if-true\": {\n",
      "                \"Type\": \"If:Output\",\n",
      "                \"Code\": \"*true*\",\n",
      "                \"Event:Add_0\": {\n",
      "                    \"Type\": \"Event:Add\",\n",
      "                    \"Event\": \"Job1-TO-Job2\"\n",
      "                }\n",
      "            },\n",
      "            \"if-flase\": {\n",
      "                \"Type\": \"If:Output\",\n",
      "                \"Code\": \"*false*\",\n",
      "                \"Event:Add_0\": {\n",
      "                    \"Type\": \"Event:Add\",\n",
      "                    \"Event\": \"Job1-TO-Job3\"\n",
      "                }\n",
      "            }\n",
      "        },\n",
      "        \"Job2\": {\n",
      "            \"Type\": \"Job:Dummy\",\n",
      "            \"eventsToAdd\": {\n",
      "                \"Type\": \"AddEvents\",\n",
      "                \"Events\": [\n",
      "                    {\n",
      "                        \"Event\": \"Job2-To-Job3\"\n",
      "                    }\n",
      "                ]\n",
      "            }\n",
      "        },\n",
      "        \"Job3\": {\n",
      "            \"Type\": \"Job:Dummy\"\n",
      "        },\n",
      "        \"Job4\": {\n",
      "            \"Type\": \"Job:Dummy\",\n",
      "            \"eventsToWaitFor\": {\n",
      "                \"Type\": \"WaitForEvents\",\n",
      "                \"Events\": [\n",
      "                    \"{ \\\"Event\\\":1-To-Job4},OR{ \\\"Event\\\":3-To-Job4}\"\n",
      "                ]\n",
      "            },\n",
      "            \"eventsToAdd\": {\n",
      "                \"Type\": \"AddEvents\",\n",
      "                \"Events\": [\n",
      "                    {\n",
      "                        \"Event\": \"Job4-To-End-Flow\"\n",
      "                    }\n",
      "                ]\n",
      "            }\n",
      "        },\n",
      "        \"End-Flow\": {\n",
      "            \"Type\": \"Job:Dummy\"\n",
      "        },\n",
      "        \"Flow1\": {\n",
      "            \"Type\": \"Flow\",\n",
      "            \"Sequence\": [\n",
      "                \"Start-Flow\",\n",
      "                \"Job1\"\n",
      "            ]\n",
      "        },\n",
      "        \"Flow2\": {\n",
      "            \"Type\": \"Flow\",\n",
      "            \"Sequence\": [\n",
      "                \"Job2\",\n",
      "                \"Job3\"\n",
      "            ]\n",
      "        },\n",
      "        \"Flow3\": {\n",
      "            \"Type\": \"Flow\",\n",
      "            \"Sequence\": [\n",
      "                \"Job4\",\n",
      "                \"End-Flow\"\n",
      "            ]\n",
      "        }\n",
      "    }\n",
      "}\n"
     ]
    }
   ],
   "source": [
    "t1_flow.display_json()"
   ]
  },
  {
   "cell_type": "markdown",
   "metadata": {
    "id": "hBqW_iV2yKcW"
   },
   "source": [
    "# Step 7 - Submit Workflow to Control-M"
   ]
  },
  {
   "cell_type": "code",
   "execution_count": 14,
   "metadata": {
    "colab": {
     "base_uri": "https://localhost:8080/"
    },
    "id": "LNFCqGbpt-J1",
    "outputId": "146f4413-71f6-48cf-cad6-9a8cd7a2e723"
   },
   "outputs": [
    {
     "name": "stdout",
     "output_type": "stream",
     "text": [
      "Error deploying job, look for more details below\n",
      "(400)\n",
      "Reason: \n",
      "HTTP response headers: HTTPHeaderDict({'X-Content-Type-Options': 'nosniff', 'Pragma': 'no-cache', 'X-Frame-Options': 'SAMEORIGIN', 'Referrer-Policy': 'no-referrer', 'Strict-Transport-Security': 'max-age=31536000; includeSubDomains; preload', 'Cache-Control': 'no-cache, no-store, private, must-revalidate, max-age=0, no-transform', 'Content-Security-Policy': \"object-src 'none'; base-uri 'self';plugin-types application/x-java-applet; sandbox allow-scripts allow-popups allow-forms allow-top-navigation allow-presentation allow-same-origin allow-downloads; report-uri /csp-violation-report-endpoint/; form-action 'self'; frame-ancestors 'none';\", 'hstsMaxAgeSeconds': '31536000', 'Set-Cookie': 'SameSite=strict; Secure; HttpOnly, JSESSIONID=AC93B908E00787EC44E0F1682FDEE55F; Path=/automation-api; Secure; HttpOnly', 'X-XSS-Protection': '1; mode=block', 'Expect-CT': 'max-age=120, enforce', 'vary': 'Origin', 'Server': 'Web Server', 'Content-Type': 'application/json;charset=utf-8', 'Content-Length': '224', 'Date': 'Thu, 09 Sep 2021 15:58:15 GMT', 'Connection': 'close'})\n",
      "HTTP response body: {\n",
      "  \"errors\" : [ {\n",
      "    \"message\" : \"Value { \\\"Event\\\":1-To-Job4},OR{ \\\"Event\\\":3-To-Job4} is not part a JSON object or part of a valid object for the array.\",\n",
      "    \"file\" : \"jobs.json\",\n",
      "    \"line\" : 78,\n",
      "    \"col\" : 70\n",
      "  } ]\n",
      "}\n",
      "\n"
     ]
    }
   ],
   "source": [
    "t1_flow.deploy()"
   ]
  },
  {
   "cell_type": "code",
   "execution_count": 15,
   "metadata": {
    "colab": {
     "base_uri": "https://localhost:8080/"
    },
    "id": "fP-WxlpJgtPW",
    "outputId": "dd7e02b3-6e94-43b2-b0a6-ab115eb857c4"
   },
   "outputs": [
    {
     "name": "stdout",
     "output_type": "stream",
     "text": [
      "Error deploying job, look for more details below\n",
      "(400)\n",
      "Reason: \n",
      "HTTP response headers: HTTPHeaderDict({'X-Content-Type-Options': 'nosniff', 'Pragma': 'no-cache', 'X-Frame-Options': 'SAMEORIGIN', 'Referrer-Policy': 'no-referrer', 'Strict-Transport-Security': 'max-age=31536000; includeSubDomains; preload', 'Cache-Control': 'no-cache, no-store, private, must-revalidate, max-age=0, no-transform', 'Content-Security-Policy': \"object-src 'none'; base-uri 'self';plugin-types application/x-java-applet; sandbox allow-scripts allow-popups allow-forms allow-top-navigation allow-presentation allow-same-origin allow-downloads; report-uri /csp-violation-report-endpoint/; form-action 'self'; frame-ancestors 'none';\", 'hstsMaxAgeSeconds': '31536000', 'Set-Cookie': 'SameSite=strict; Secure; HttpOnly, JSESSIONID=ADD035C72CBD2022C5EF92E9E4140AA1; Path=/automation-api; Secure; HttpOnly', 'X-XSS-Protection': '1; mode=block', 'Expect-CT': 'max-age=120, enforce', 'vary': 'Origin', 'Server': 'Web Server', 'Content-Type': 'application/json;charset=utf-8', 'Content-Length': '224', 'Date': 'Thu, 09 Sep 2021 15:58:15 GMT', 'Connection': 'close'})\n",
      "HTTP response body: {\n",
      "  \"errors\" : [ {\n",
      "    \"message\" : \"Value { \\\"Event\\\":1-To-Job4},OR{ \\\"Event\\\":3-To-Job4} is not part a JSON object or part of a valid object for the array.\",\n",
      "    \"file\" : \"jobs.json\",\n",
      "    \"line\" : 78,\n",
      "    \"col\" : 70\n",
      "  } ]\n",
      "}\n",
      "\n"
     ]
    }
   ],
   "source": [
    "t1_flow.run()"
   ]
  },
  {
   "cell_type": "code",
   "execution_count": null,
   "metadata": {
    "id": "3NzmdbQovSVH"
   },
   "outputs": [],
   "source": []
  }
 ],
 "metadata": {
  "colab": {
   "collapsed_sections": [
    "9PBDYvbtwWfL"
   ],
   "name": "Demo Naga0.2 01 - HelloWorld.ipynb",
   "provenance": []
  },
  "interpreter": {
   "hash": "0acf5e98f0d0e19783fbfe4e74c866635b65b3ca578adc3721d8cbd623aa3da4"
  },
  "kernelspec": {
   "display_name": "Python 3",
   "language": "python",
   "name": "python3"
  },
  "language_info": {
   "codemirror_mode": {
    "name": "ipython",
    "version": 3
   },
   "file_extension": ".py",
   "mimetype": "text/x-python",
   "name": "python",
   "nbconvert_exporter": "python",
   "pygments_lexer": "ipython3",
   "version": "3.8.3"
  }
 },
 "nbformat": 4,
 "nbformat_minor": 2
}
