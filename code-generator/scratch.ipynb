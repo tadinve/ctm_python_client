{
 "cells": [
  {
   "cell_type": "code",
   "execution_count": 11,
   "source": [
    "import os\n",
    "\n",
    "fn = \"/__init__.py\"\n",
    "root_dir = \"../ctm_python_client/newjobs\"\n",
    "open(root_dir + fn, \"a\").close()\n",
    "\n",
    "for dirname, dirnames, filenames in os.walk(root_dir):\n",
    "    # print path to all subdirectories first.\n",
    "\n",
    "    for subdirname in dirnames:\n",
    "        dn = os.path.join(dirname, subdirname)\n",
    "        open(dn + fn, \"a\").close()"
   ],
   "outputs": [],
   "metadata": {}
  },
  {
   "cell_type": "code",
   "execution_count": null,
   "source": [
    "import os\n",
    "\n",
    "for dirname, dirnames, filenames in os.walk(\".\"):\n",
    "    # print path to all subdirectories first.\n",
    "    for subdirname in dirnames:\n",
    "        print(os.path.join(dirname, subdirname))"
   ],
   "outputs": [],
   "metadata": {}
  }
 ],
 "metadata": {
  "orig_nbformat": 4,
  "language_info": {
   "name": "python",
   "version": "3.8.2",
   "mimetype": "text/x-python",
   "codemirror_mode": {
    "name": "ipython",
    "version": 3
   },
   "pygments_lexer": "ipython3",
   "nbconvert_exporter": "python",
   "file_extension": ".py"
  },
  "kernelspec": {
   "name": "python3",
   "display_name": "Python 3.8.2 64-bit"
  },
  "interpreter": {
   "hash": "31f2aee4e71d21fbe5cf8b01ff0e069b9275f58929596ceb00d14d90e3e16cd6"
  }
 },
 "nbformat": 4,
 "nbformat_minor": 2
}