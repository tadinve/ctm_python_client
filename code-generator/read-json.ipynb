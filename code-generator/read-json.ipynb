{
 "metadata": {
  "language_info": {
   "codemirror_mode": {
    "name": "ipython",
    "version": 3
   },
   "file_extension": ".py",
   "mimetype": "text/x-python",
   "name": "python",
   "nbconvert_exporter": "python",
   "pygments_lexer": "ipython3",
   "version": "3.8.10"
  },
  "orig_nbformat": 4,
  "kernelspec": {
   "name": "python3",
   "display_name": "Python 3.8.10 64-bit ('bmc_naga': conda)"
  },
  "interpreter": {
   "hash": "50405dc82dc6b0b089e015886693c61474b4dd5d73047e9fdccc769e796ad652"
  }
 },
 "nbformat": 4,
 "nbformat_minor": 2,
 "cells": [
  {
   "cell_type": "code",
   "execution_count": 12,
   "source": [
    "!pwd"
   ],
   "outputs": [
    {
     "output_type": "stream",
     "name": "stdout",
     "text": [
      "/Users/vtadinad/Documents/PythonProjects/naga/scratch\n"
     ]
    }
   ],
   "metadata": {}
  },
  {
   "cell_type": "code",
   "execution_count": 13,
   "source": [
    "import json \n",
    "import pprint \n",
    "pp = pprint.PrettyPrinter(indent=4)  \n",
    "import glob "
   ],
   "outputs": [],
   "metadata": {}
  },
  {
   "cell_type": "code",
   "execution_count": null,
   "source": [
    "files = glob.glob(\"jsonsfiles/*.json\")  \n",
    "i = 0\n",
    "for file in files[:]: \n",
    "    i += 1\n",
    "    print(i, file) \n",
    "    f = open(file) \n",
    "    try:\n",
    "        mj = json.load(f) \n",
    "        parse_json(mj,file)\n",
    "    except:\n",
    "        print(\"===========>error in \", file)"
   ],
   "outputs": [],
   "metadata": {}
  },
  {
   "cell_type": "code",
   "execution_count": null,
   "source": [
    "def parse_json(j,f):\n",
    "    if type(j) is not dict:\n",
    "        print (\"===============>\",f, \" does not have a job\")\n",
    "        return\n",
    "    for k,v in j.items():\n",
    "        if type(v) is dict:\n",
    "            parse_json(v,f)\n",
    "    if 'Type' in j:\n",
    "        if j[\"Type\"][:3] == \"Job\":            \n",
    "            fname = \"jobs/\"+j[\"Type\"].replace(\":\",\"-\")+\".json\"\n",
    "            print (\"      found job in \",f,fname) \n",
    "            with open(fname, 'w') as out_file:\n",
    "                out_file.write(json.dumps(j,indent=4))\n",
    "files = glob.glob(\"jsonsfiles/*.json\")  \n",
    "i = 0\n",
    "for file in files[:]: \n",
    "    i += 1\n",
    "    print(i, file) \n",
    "    f = open(file) \n",
    "    mj = json.load(f) \n",
    "    parse_json(mj,file)"
   ],
   "outputs": [],
   "metadata": {}
  },
  {
   "cell_type": "code",
   "execution_count": 16,
   "source": [
    "def gen_name(n):\n",
    "    import re\n",
    "    n = re.sub('([A-Z]{1})', r'_\\1',n).lower()\n",
    "    if n[0] == \"_\":\n",
    "        n = n[1:]\n",
    "    return n\n",
    "\n",
    "def get_job_name(s):\n",
    "    s =  s.split(\":\")[-1]\n",
    "    return s\n",
    "def json_to_job(j):\n",
    "    job_type = j[\"Type\"]\n",
    "    job_name = get_job_name(job_type) + \"Job\"\n",
    "    job_name = job_name.replace(\" \",\"_\")\n",
    "    folder_name = job_type.replace(\":\",\"/\").split(\"/\")[:-1]\n",
    "    folder_name = \"../new\" + \"/\".join(folder_name) \n",
    "    folder_name = folder_name.replace(\"Job\",\"Jobs\")\n",
    "    file_name = folder_name + \"/\" + job_name + \".py\"\n",
    "    print(job_type, file_name, job_name)\n",
    "    try:\n",
    "        os.makedirs(folder_name)\n",
    "        with open(folder_name+\"/__init__.py\",\"w\") as f:\n",
    "            f.write(\"\")\n",
    "\n",
    "    except FileExistsError:\n",
    "        # directory already exists\n",
    "        pass\n",
    "    with open(file_name,\"w\") as f:\n",
    "        params = {}\n",
    "        f.write(\"from naga.jobs.base import BaseJob\\n\")\n",
    "        f.write(\"\\n\")\n",
    "        f.write(\"class {}(BaseJob):\\n\".format(job_name))\n",
    "        f.write(\"\\tdef __init__(self, folder, job_name, \\n\")\n",
    "        for k in j.keys():\n",
    "            if k not in [\"Type\",\"RunAs\",\"Host\"]:\n",
    "                params[k] = gen_name(k)\n",
    "                 f.write(\"\\t\\t\\tif {} not None:},\\n\".format(params[k]))             \n",
    "                f.write(\"\\t\\t\\t\\t{},\\n\".format(params[k]))\n",
    "        f.write(\"\\t\\t\\thost=None, run_as=None, description=None):\\n\")\n",
    "        f.write(\"\\t\\tBaseJob.__init__(self, folder, job_name, description=description, host=host, run_as=run_as)\\n\")\n",
    "        for k in params:\n",
    "            f.write(\"\\t\\tself.{} = {}\\n\".format(params[k],params[k]))      \n",
    "        \n",
    "        f.write(\"\\n\")\n",
    "        f.write(\"\\tdef get_json(self):\\n\")\n",
    "        f.write(\"\\t\\tjob_json = BaseJob.get_json(self)\\n\")\n",
    "        f.write(\"\\t\\tjob_json['Type'] = '{}'\\n\".format(job_type))\n",
    "        for k in params:\n",
    "            f.write(\"\\t\\tjob_json['{}'] = self.{}\\n\".format(k,params[k]) )\n",
    "        f.write(\"\\t\\treturn job_json\\n\")\n",
    "\n",
    " \n",
    "\n",
    "\n",
    "\n",
    "\n",
    "\n",
    "\n",
    "files = glob.glob(\"jobs/*.json\")  \n",
    "for file in files[:]: \n",
    "    f = open(file) \n",
    "    mj = json.load(f) \n",
    "    json_to_job(mj)"
   ],
   "outputs": [
    {
     "output_type": "error",
     "ename": "IndentationError",
     "evalue": "unexpected indent (2207063639.py, line 37)",
     "traceback": [
      "\u001b[0;36m  File \u001b[0;32m\"/var/folders/jf/ly2qhjns6yn6j46t3rdms2qw0000gp/T/ipykernel_99643/2207063639.py\"\u001b[0;36m, line \u001b[0;32m37\u001b[0m\n\u001b[0;31m    f.write(\"\\t\\t\\tif {} not None:},\\n\".format(params[k]))\u001b[0m\n\u001b[0m    ^\u001b[0m\n\u001b[0;31mIndentationError\u001b[0m\u001b[0;31m:\u001b[0m unexpected indent\n"
     ]
    }
   ],
   "metadata": {}
  },
  {
   "cell_type": "code",
   "execution_count": 17,
   "source": [
    "!pwd"
   ],
   "outputs": [
    {
     "output_type": "stream",
     "name": "stdout",
     "text": [
      "/Users/vtadinad/Documents/PythonProjects/naga/scratch\n"
     ]
    }
   ],
   "metadata": {}
  },
  {
   "cell_type": "code",
   "execution_count": 25,
   "source": [
    "import pandas as pd\n",
    "def none_params():\n",
    "    df = pd.read_csv(\"jobs/none_params.csv\",sep=\",\",index_col=0)\n",
    "    print(df.info())\n",
    "    return df.to_dict()\n",
    "none_params()"
   ],
   "outputs": [
    {
     "output_type": "stream",
     "name": "stdout",
     "text": [
      "<class 'pandas.core.frame.DataFrame'>\n",
      "Index: 1 entries, 'EmbeddedQuery' to 'EmbeddedQuery'\n",
      "Data columns (total 4 columns):\n",
      " #   Column  Non-Null Count  Dtype \n",
      "---  ------  --------------  ----- \n",
      " 0   col1    1 non-null      object\n",
      " 1   col2    1 non-null      object\n",
      " 2   col3    1 non-null      object\n",
      " 3   col4    1 non-null      object\n",
      "dtypes: object(4)\n",
      "memory usage: 40.0+ bytes\n",
      "None\n"
     ]
    },
    {
     "output_type": "execute_result",
     "data": {
      "text/plain": [
       "{'col1': {\"'EmbeddedQuery'\": \"'Autocommit'\"},\n",
       " 'col2': {\"'EmbeddedQuery'\": \"'OutputExecutionLog'\"},\n",
       " 'col3': {\"'EmbeddedQuery'\": \"'OutputSQLOutput'\"},\n",
       " 'col4': {\"'EmbeddedQuery'\": \"'SQLOutputFormat'\"}}"
      ]
     },
     "metadata": {},
     "execution_count": 25
    }
   ],
   "metadata": {}
  },
  {
   "cell_type": "code",
   "execution_count": 40,
   "source": [
    "df = pd.read_csv(\"jobs/none_params.csv\",sep=\",\",index_col=0)\n",
    "df.info()\n",
    "jt = list(df.index.values)\n",
    "df.loc[\"EmbeddedQuery\"].values.tolist()"
   ],
   "outputs": [
    {
     "output_type": "stream",
     "name": "stdout",
     "text": [
      "<class 'pandas.core.frame.DataFrame'>\n",
      "Index: 2 entries, EmbeddedQuery to FileWatcher\n",
      "Data columns (total 4 columns):\n",
      " #   Column  Non-Null Count  Dtype \n",
      "---  ------  --------------  ----- \n",
      " 0   col1    2 non-null      object\n",
      " 1   col2    2 non-null      object\n",
      " 2   col3    2 non-null      object\n",
      " 3   col4    2 non-null      object\n",
      "dtypes: object(4)\n",
      "memory usage: 80.0+ bytes\n"
     ]
    },
    {
     "output_type": "execute_result",
     "data": {
      "text/plain": [
       "['Autocommit', 'OutputExecutionLog', 'OutputSQLOutput', 'SQLOutputFormat']"
      ]
     },
     "metadata": {},
     "execution_count": 40
    }
   ],
   "metadata": {}
  },
  {
   "cell_type": "code",
   "execution_count": 29,
   "source": [],
   "outputs": [
    {
     "output_type": "execute_result",
     "data": {
      "text/plain": [
       "Index(['EmbeddedQuery'], dtype='object', name='job')"
      ]
     },
     "metadata": {},
     "execution_count": 29
    }
   ],
   "metadata": {}
  },
  {
   "cell_type": "code",
   "execution_count": null,
   "source": [],
   "outputs": [],
   "metadata": {}
  }
 ]
}