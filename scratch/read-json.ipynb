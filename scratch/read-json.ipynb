{
 "metadata": {
  "language_info": {
   "codemirror_mode": {
    "name": "ipython",
    "version": 3
   },
   "file_extension": ".py",
   "mimetype": "text/x-python",
   "name": "python",
   "nbconvert_exporter": "python",
   "pygments_lexer": "ipython3",
   "version": "3.8.2"
  },
  "orig_nbformat": 4,
  "kernelspec": {
   "name": "python3",
   "display_name": "Python 3.8.2 64-bit"
  },
  "interpreter": {
   "hash": "31f2aee4e71d21fbe5cf8b01ff0e069b9275f58929596ceb00d14d90e3e16cd6"
  }
 },
 "nbformat": 4,
 "nbformat_minor": 2,
 "cells": [
  {
   "cell_type": "code",
   "execution_count": 4,
   "metadata": {},
   "outputs": [
    {
     "output_type": "stream",
     "name": "stdout",
     "text": [
      "/Users/venkateshtadinada/Documents/VS-Code-Projects/naga/scratch\n"
     ]
    }
   ],
   "source": [
    "!pwd"
   ]
  },
  {
   "cell_type": "code",
   "execution_count": null,
   "metadata": {},
   "outputs": [],
   "source": [
    "import json \n",
    "import pprint \n",
    "pp = pprint.PrettyPrinter(indent=4)  \n",
    "import glob "
   ]
  },
  {
   "cell_type": "code",
   "execution_count": 49,
   "metadata": {},
   "outputs": [
    {
     "output_type": "stream",
     "name": "stdout",
     "text": [
      "found job in  jsonsfiles/Job-SAP-R3-COPY.json jobs/Job-SAP-R3-COPY.json\nfound job in  jsonsfiles/Job-Database-SQLScript-1.json jobs/Job-Database-SQLScript.json\nfound job in  jsonsfiles/Job-Hadoop-HDFSCommands.json jobs/Job-Hadoop-HDFSCommands.json\nfound job in  jsonsfiles/Job-Hadoop-Spark-Python-1.json jobs/Job-Hadoop-Spark-Python.json\nfound job in  jsonsfiles/Job-Command.json jobs/Job-Command.json\nfound job in  jsonsfiles/Job-FileTransfer-4.json jobs/Job-FileTransfer.json\nfound job in  jsonsfiles/Job-Azure-LogicApps.json jobs/Job-Azure-LogicApps.json\nfound job in  jsonsfiles/Job-SLAManagement.json jobs/Job-Command.json\nfound job in  jsonsfiles/Job-SLAManagement.json jobs/Job-SLAManagement.json\nfound job in  jsonsfiles/Job-Hadoop-MapReduce.json jobs/Job-Hadoop-MapReduce.json\nfound job in  jsonsfiles/Job-Hadoop-Tajo-Query.json jobs/Job-Hadoop-Tajo-Query.json\nfound job in  jsonsfiles/Job-Hadoop-Sqoop.json jobs/Job-Hadoop-Sqoop.json\nfound job in  jsonsfiles/Job-Azure-BatchAccount.json jobs/Job-Azure-BatchAccount.json\nfound job in  jsonsfiles/Job-FileWatcher.json jobs/Job-FileWatcher-Create.json\nfound job in  jsonsfiles/Job-FileWatcher.json jobs/Job-FileWatcher-Delete.json\nfound job in  jsonsfiles/Job-PeopleSoft.json jobs/Job-PeopleSoft.json\nfound job in  jsonsfiles/Job-Hadoop-Spark-ScalaJava.json jobs/Job-Hadoop-Spark-ScalaJava.json\nfound job in  jsonsfiles/Job-ADF.json jobs/Job-ADF.json\nfound job in  jsonsfiles/Job-Database-MSSQL-AgentJob.json jobs/Job-Database-MSSQL-AgentJob.json\nfound job in  jsonsfiles/Job-EmbeddedScript.json jobs/Job-EmbeddedScript.json\nfound job in  jsonsfiles/Job-Hadoop-Spark-ScalaJava-1.json jobs/Job-Hadoop-Spark-ScalaJava.json\nfound job in  jsonsfiles/Job-Database-EmbeddedQuery.json jobs/Job-Database-EmbeddedQuery.json\nfound job in  jsonsfiles/Job-AWS-StepFunction.json jobs/Job-AWS-StepFunction.json\nfound job in  jsonsfiles/Job-ApplicationIntegrator.json jobs/Job-ApplicationIntegrator-AI Monitor Remote Job.json\nfound job in  jsonsfiles/Job-FileTransfer-2.json jobs/Job-FileTransfer.json\nfound job in  jsonsfiles/Job-FileTransfer-3.json jobs/Job-FileTransfer.json\nfound job in  jsonsfiles/Job-Hadoop-Oozie.json jobs/Job-Hadoop-Oozie.json\nfound job in  jsonsfiles/Job-Database-SQLScript.json jobs/Job-Database-SQLScript.json\nfound job in  jsonsfiles/Job-SAP-R3-CREATE.json jobs/Job-SAP-R3-CREATE.json\nfound job in  jsonsfiles/Job-GLUE.json jobs/Job-GLUE.json\nfound job in  jsonsfiles/Job-Hadoop-Tajo-InputFile.json jobs/Job-Hadoop-Tajo-InputFile.json\nfound job in  jsonsfiles/Job-Hadoop-Sqoop-1.json jobs/Job-Hadoop-Sqoop.json\nfound job in  jsonsfiles/Job-Hadoop-MapReduce-1.json jobs/Job-Hadoop-MapReduce.json\nfound job in  jsonsfiles/Job-Script.json jobs/Job-Script.json\nfound job in  jsonsfiles/Job-Hadoop-Pig.json jobs/Job-Hadoop-Pig.json\nfound job in  jsonsfiles/Job-Hadoop-Hive-1.json jobs/Job-Hadoop-Hive.json\nfound job in  jsonsfiles/Job-SAP-R3-CREATE-1.json jobs/Job-SAP-R3-CREATE.json\nfound job in  jsonsfiles/Job-AWS-Batch.json jobs/Job-AWS-Batch.json\nfound job in  jsonsfiles/Job-FileTransfer.json jobs/Job-FileTransfer.json\nfound job in  jsonsfiles/Job-FileTransfer-1.json jobs/Job-FileTransfer.json\nfound job in  jsonsfiles/Job-Database-MSSQL-SSIS.json jobs/Job-Database-MSSQL-SSIS.json\nfound job in  jsonsfiles/Job-Database-MSSQL-SSIS.json jobs/Job-Database-MSSQL-SSIS.json\nfound job in  jsonsfiles/Job-Hadoop-Hive.json jobs/Job-Hadoop-Hive.json\nfound job in  jsonsfiles/Job-Dummy.json jobs/Job-Dummy.json\nfound job in  jsonsfiles/Job-Hadoop-MapredStreaming.json jobs/Job-Hadoop-MapredStreaming.json\nfound job in  jsonsfiles/Job-SAP-BW-ProcessChain.json jobs/Job-SAP-BW-ProcessChain.json\nfound job in  jsonsfiles/Job-Hadoop-HDFSFileWatcher.json jobs/Job-Hadoop-HDFSFileWatcher.json\nfound job in  jsonsfiles/Job-Informatica.json jobs/Job-Informatica.json\nfound job in  jsonsfiles/Job-Azure-Function.json jobs/Job-Azure-Function.json\nfound job in  jsonsfiles/Job-AWS-Lambda.json jobs/Job-AWS-Lambda.json\nfound job in  jsonsfiles/Job-Hadoop-DistCp-1.json jobs/Job-Hadoop-DistCp.json\nfound job in  jsonsfiles/Job-Hadoop-DistCp.json jobs/Job-Hadoop-DistCp.json\nfound job in  jsonsfiles/Job-Hadoop-Pig-1.json jobs/Job-Hadoop-Pig.json\nfound job in  jsonsfiles/Job-Database-StoredProcedure.json jobs/Job-Database-StoredProcedure.json\nfound job in  jsonsfiles/Job-Hadoop-Spark-Python.json jobs/Job-Hadoop-Spark-Python.json\n"
     ]
    }
   ],
   "source": [
    "files = glob.glob(\"jsonsfiles/*.json\")  \n",
    "i = 0\n",
    "for file in files[:]: \n",
    "    i += 1\n",
    "    print(i, file) \n",
    "    f = open(file) \n",
    "    try:\n",
    "        mj = json.load(f) \n",
    "        parse_json(mj,file)\n",
    "    except:\n",
    "        print(\"===========>error in \", file)"
   ]
  },
  {
   "cell_type": "code",
   "execution_count": 50,
   "metadata": {},
   "outputs": [
    {
     "output_type": "stream",
     "name": "stdout",
     "text": [
      "1 jsonsfiles/Job-SAP-R3-COPY.json\n      found job in  jsonsfiles/Job-SAP-R3-COPY.json jobs/Job-SAP-R3-COPY.json\n2 jsonsfiles/Job-Database-SQLScript-1.json\n      found job in  jsonsfiles/Job-Database-SQLScript-1.json jobs/Job-Database-SQLScript.json\n3 jsonsfiles/Job-Hadoop-HDFSCommands.json\n      found job in  jsonsfiles/Job-Hadoop-HDFSCommands.json jobs/Job-Hadoop-HDFSCommands.json\n4 jsonsfiles/Job-Hadoop-Spark-Python-1.json\n      found job in  jsonsfiles/Job-Hadoop-Spark-Python-1.json jobs/Job-Hadoop-Spark-Python.json\n5 jsonsfiles/Job-Command.json\n      found job in  jsonsfiles/Job-Command.json jobs/Job-Command.json\n6 jsonsfiles/Job-FileTransfer-4.json\n      found job in  jsonsfiles/Job-FileTransfer-4.json jobs/Job-FileTransfer.json\n7 jsonsfiles/Job-Azure-LogicApps.json\n      found job in  jsonsfiles/Job-Azure-LogicApps.json jobs/Job-Azure-LogicApps.json\n8 jsonsfiles/Job-SLAManagement.json\n      found job in  jsonsfiles/Job-SLAManagement.json jobs/Job-Command.json\n      found job in  jsonsfiles/Job-SLAManagement.json jobs/Job-SLAManagement.json\n9 jsonsfiles/Job-Hadoop-MapReduce.json\n      found job in  jsonsfiles/Job-Hadoop-MapReduce.json jobs/Job-Hadoop-MapReduce.json\n10 jsonsfiles/Job-Hadoop-Tajo-Query.json\n      found job in  jsonsfiles/Job-Hadoop-Tajo-Query.json jobs/Job-Hadoop-Tajo-Query.json\n11 jsonsfiles/Job-Hadoop-Sqoop.json\n      found job in  jsonsfiles/Job-Hadoop-Sqoop.json jobs/Job-Hadoop-Sqoop.json\n12 jsonsfiles/Job-Azure-BatchAccount.json\n      found job in  jsonsfiles/Job-Azure-BatchAccount.json jobs/Job-Azure-BatchAccount.json\n13 jsonsfiles/Job-FileWatcher.json\n      found job in  jsonsfiles/Job-FileWatcher.json jobs/Job-FileWatcher-Create.json\n      found job in  jsonsfiles/Job-FileWatcher.json jobs/Job-FileWatcher-Delete.json\n14 jsonsfiles/Job-PeopleSoft.json\n      found job in  jsonsfiles/Job-PeopleSoft.json jobs/Job-PeopleSoft.json\n15 jsonsfiles/Job-Hadoop-Spark-ScalaJava.json\n      found job in  jsonsfiles/Job-Hadoop-Spark-ScalaJava.json jobs/Job-Hadoop-Spark-ScalaJava.json\n16 jsonsfiles/Job-ADF.json\n      found job in  jsonsfiles/Job-ADF.json jobs/Job-ADF.json\n17 jsonsfiles/Job-Database-MSSQL-AgentJob.json\n      found job in  jsonsfiles/Job-Database-MSSQL-AgentJob.json jobs/Job-Database-MSSQL-AgentJob.json\n18 jsonsfiles/Job-EmbeddedScript.json\n      found job in  jsonsfiles/Job-EmbeddedScript.json jobs/Job-EmbeddedScript.json\n19 jsonsfiles/Job-Hadoop-Spark-ScalaJava-1.json\n      found job in  jsonsfiles/Job-Hadoop-Spark-ScalaJava-1.json jobs/Job-Hadoop-Spark-ScalaJava.json\n20 jsonsfiles/Job-Database-EmbeddedQuery.json\n      found job in  jsonsfiles/Job-Database-EmbeddedQuery.json jobs/Job-Database-EmbeddedQuery.json\n21 jsonsfiles/Job-AWS-StepFunction.json\n      found job in  jsonsfiles/Job-AWS-StepFunction.json jobs/Job-AWS-StepFunction.json\n22 jsonsfiles/Job-ApplicationIntegrator.json\n      found job in  jsonsfiles/Job-ApplicationIntegrator.json jobs/Job-ApplicationIntegrator-AI Monitor Remote Job.json\n23 jsonsfiles/Job-FileTransfer-2.json\n      found job in  jsonsfiles/Job-FileTransfer-2.json jobs/Job-FileTransfer.json\n24 jsonsfiles/Job-FileTransfer-3.json\n      found job in  jsonsfiles/Job-FileTransfer-3.json jobs/Job-FileTransfer.json\n25 jsonsfiles/Job-Hadoop-Oozie.json\n      found job in  jsonsfiles/Job-Hadoop-Oozie.json jobs/Job-Hadoop-Oozie.json\n26 jsonsfiles/Job-Database-SQLScript.json\n      found job in  jsonsfiles/Job-Database-SQLScript.json jobs/Job-Database-SQLScript.json\n27 jsonsfiles/Job-SAP-R3-CREATE.json\n      found job in  jsonsfiles/Job-SAP-R3-CREATE.json jobs/Job-SAP-R3-CREATE.json\n28 jsonsfiles/Job-GLUE.json\n      found job in  jsonsfiles/Job-GLUE.json jobs/Job-GLUE.json\n29 jsonsfiles/Job-Hadoop-Tajo-InputFile.json\n      found job in  jsonsfiles/Job-Hadoop-Tajo-InputFile.json jobs/Job-Hadoop-Tajo-InputFile.json\n30 jsonsfiles/Job-Hadoop-Sqoop-1.json\n      found job in  jsonsfiles/Job-Hadoop-Sqoop-1.json jobs/Job-Hadoop-Sqoop.json\n31 jsonsfiles/Job-Hadoop-MapReduce-1.json\n      found job in  jsonsfiles/Job-Hadoop-MapReduce-1.json jobs/Job-Hadoop-MapReduce.json\n32 jsonsfiles/Job-Script.json\n      found job in  jsonsfiles/Job-Script.json jobs/Job-Script.json\n33 jsonsfiles/Service Actions.json\n34 jsonsfiles/Job-Hadoop-Pig.json\n      found job in  jsonsfiles/Job-Hadoop-Pig.json jobs/Job-Hadoop-Pig.json\n35 jsonsfiles/Job-Hadoop-Hive-1.json\n      found job in  jsonsfiles/Job-Hadoop-Hive-1.json jobs/Job-Hadoop-Hive.json\n36 jsonsfiles/Job-SAP-R3-CREATE-1.json\n      found job in  jsonsfiles/Job-SAP-R3-CREATE-1.json jobs/Job-SAP-R3-CREATE.json\n37 jsonsfiles/Job-AWS-Batch.json\n      found job in  jsonsfiles/Job-AWS-Batch.json jobs/Job-AWS-Batch.json\n38 jsonsfiles/Job-FileTransfer.json\n      found job in  jsonsfiles/Job-FileTransfer.json jobs/Job-FileTransfer.json\n39 jsonsfiles/Job-FileTransfer-1.json\n      found job in  jsonsfiles/Job-FileTransfer-1.json jobs/Job-FileTransfer.json\n40 jsonsfiles/Job-Database-MSSQL-SSIS.json\n      found job in  jsonsfiles/Job-Database-MSSQL-SSIS.json jobs/Job-Database-MSSQL-SSIS.json\n      found job in  jsonsfiles/Job-Database-MSSQL-SSIS.json jobs/Job-Database-MSSQL-SSIS.json\n41 jsonsfiles/Job-Hadoop-Hive.json\n      found job in  jsonsfiles/Job-Hadoop-Hive.json jobs/Job-Hadoop-Hive.json\n42 jsonsfiles/Job-Dummy.json\n      found job in  jsonsfiles/Job-Dummy.json jobs/Job-Dummy.json\n43 jsonsfiles/Job-Hadoop-MapredStreaming.json\n      found job in  jsonsfiles/Job-Hadoop-MapredStreaming.json jobs/Job-Hadoop-MapredStreaming.json\n44 jsonsfiles/Job-SAP-BW-ProcessChain.json\n      found job in  jsonsfiles/Job-SAP-BW-ProcessChain.json jobs/Job-SAP-BW-ProcessChain.json\n45 jsonsfiles/Job-Hadoop-HDFSFileWatcher.json\n      found job in  jsonsfiles/Job-Hadoop-HDFSFileWatcher.json jobs/Job-Hadoop-HDFSFileWatcher.json\n46 jsonsfiles/Job-Informatica.json\n      found job in  jsonsfiles/Job-Informatica.json jobs/Job-Informatica.json\n47 jsonsfiles/Job-Azure-Function.json\n      found job in  jsonsfiles/Job-Azure-Function.json jobs/Job-Azure-Function.json\n48 jsonsfiles/Job-AWS-Lambda.json\n      found job in  jsonsfiles/Job-AWS-Lambda.json jobs/Job-AWS-Lambda.json\n49 jsonsfiles/Job-Hadoop-DistCp-1.json\n      found job in  jsonsfiles/Job-Hadoop-DistCp-1.json jobs/Job-Hadoop-DistCp.json\n50 jsonsfiles/Job-Hadoop-DistCp.json\n      found job in  jsonsfiles/Job-Hadoop-DistCp.json jobs/Job-Hadoop-DistCp.json\n51 jsonsfiles/Job-Hadoop-Pig-1.json\n      found job in  jsonsfiles/Job-Hadoop-Pig-1.json jobs/Job-Hadoop-Pig.json\n52 jsonsfiles/Job-Database-StoredProcedure.json\n      found job in  jsonsfiles/Job-Database-StoredProcedure.json jobs/Job-Database-StoredProcedure.json\n53 jsonsfiles/Job-Hadoop-Spark-Python.json\n      found job in  jsonsfiles/Job-Hadoop-Spark-Python.json jobs/Job-Hadoop-Spark-Python.json\n"
     ]
    }
   ],
   "source": [
    "def parse_json(j,f):\n",
    "    if type(j) is not dict:\n",
    "        print (\"===============>\",f, \" does not have a job\")\n",
    "        return\n",
    "    for k,v in j.items():\n",
    "        if type(v) is dict:\n",
    "            parse_json(v,f)\n",
    "    if 'Type' in j:\n",
    "        if j[\"Type\"][:3] == \"Job\":            \n",
    "            fname = \"jobs/\"+j[\"Type\"].replace(\":\",\"-\")+\".json\"\n",
    "            print (\"      found job in \",f,fname) \n",
    "            with open(fname, 'w') as out_file:\n",
    "                out_file.write(json.dumps(j,indent=4))\n",
    "files = glob.glob(\"jsonsfiles/*.json\")  \n",
    "i = 0\n",
    "for file in files[:]: \n",
    "    i += 1\n",
    "    print(i, file) \n",
    "    f = open(file) \n",
    "    mj = json.load(f) \n",
    "    parse_json(mj,file)"
   ]
  },
  {
   "cell_type": "code",
   "execution_count": 114,
   "metadata": {},
   "outputs": [
    {
     "output_type": "stream",
     "name": "stdout",
     "text": [
      "Job:SAP:R3:COPY ../newJobs/SAP/R3/COPYJob.py COPYJob\nJob:Hadoop:HDFSCommands ../newJobs/Hadoop/HDFSCommandsJob.py HDFSCommandsJob\nJob:Command ../newJobs/CommandJob.py CommandJob\nJob:Azure:LogicApps ../newJobs/Azure/LogicAppsJob.py LogicAppsJob\nJob:SLAManagement ../newJobs/SLAManagementJob.py SLAManagementJob\nJob:Hadoop:MapReduce ../newJobs/Hadoop/MapReduceJob.py MapReduceJob\nJob:Hadoop:Tajo:Query ../newJobs/Hadoop/Tajo/QueryJob.py QueryJob\nJob:Hadoop:Sqoop ../newJobs/Hadoop/SqoopJob.py SqoopJob\nJob:Azure:BatchAccount ../newJobs/Azure/BatchAccountJob.py BatchAccountJob\nJob:PeopleSoft ../newJobs/PeopleSoftJob.py PeopleSoftJob\nJob:Hadoop:Spark:ScalaJava ../newJobs/Hadoop/Spark/ScalaJavaJob.py ScalaJavaJob\nJob:ADF ../newJobs/ADFJob.py ADFJob\nJob:Database:MSSQL:AgentJob ../newJobs/Database/MSSQL/AgentJobJob.py AgentJobJob\nJob:EmbeddedScript ../newJobs/EmbeddedScriptJob.py EmbeddedScriptJob\nJob:FileWatcher:Delete ../newJobs/FileWatcher/DeleteJob.py DeleteJob\nJob:Database:EmbeddedQuery ../newJobs/Database/EmbeddedQueryJob.py EmbeddedQueryJob\nJob:AWS:StepFunction ../newJobs/AWS/StepFunctionJob.py StepFunctionJob\nJob:Hadoop:Oozie ../newJobs/Hadoop/OozieJob.py OozieJob\nJob:Database:SQLScript ../newJobs/Database/SQLScriptJob.py SQLScriptJob\nJob:SAP:R3:CREATE ../newJobs/SAP/R3/CREATEJob.py CREATEJob\nJob:GLUE ../newJobs/GLUEJob.py GLUEJob\nJob:Hadoop:Tajo:InputFile ../newJobs/Hadoop/Tajo/InputFileJob.py InputFileJob\nJob:Script ../newJobs/ScriptJob.py ScriptJob\nJob:Hadoop:Pig ../newJobs/Hadoop/PigJob.py PigJob\nJob:AWS:Batch ../newJobs/AWS/BatchJob.py BatchJob\nJob:FileTransfer ../newJobs/FileTransferJob.py FileTransferJob\nJob:Database:MSSQL:SSIS ../newJobs/Database/MSSQL/SSISJob.py SSISJob\nJob:Hadoop:Hive ../newJobs/Hadoop/HiveJob.py HiveJob\nJob:Dummy ../newJobs/DummyJob.py DummyJob\nJob:Hadoop:MapredStreaming ../newJobs/Hadoop/MapredStreamingJob.py MapredStreamingJob\nJob:SAP:BW:ProcessChain ../newJobs/SAP/BW/ProcessChainJob.py ProcessChainJob\nJob:Hadoop:HDFSFileWatcher ../newJobs/Hadoop/HDFSFileWatcherJob.py HDFSFileWatcherJob\nJob:FileWatcher:Create ../newJobs/FileWatcher/CreateJob.py CreateJob\nJob:ApplicationIntegrator:AI Monitor Remote Job ../newJobs/ApplicationIntegrator/AI_Monitor_Remote_JobJob.py AI_Monitor_Remote_JobJob\nJob:Informatica ../newJobs/InformaticaJob.py InformaticaJob\nJob:Azure:Function ../newJobs/Azure/FunctionJob.py FunctionJob\nJob:AWS:Lambda ../newJobs/AWS/LambdaJob.py LambdaJob\nJob:Hadoop:DistCp ../newJobs/Hadoop/DistCpJob.py DistCpJob\nJob:Database:StoredProcedure ../newJobs/Database/StoredProcedureJob.py StoredProcedureJob\nJob:Hadoop:Spark:Python ../newJobs/Hadoop/Spark/PythonJob.py PythonJob\n"
     ]
    }
   ],
   "source": [
    "def gen_name(n):\n",
    "    import re\n",
    "    n = re.sub('([A-Z]{1})', r'_\\1',n).lower()\n",
    "    if n[0] == \"_\":\n",
    "        n = n[1:]\n",
    "    return n\n",
    "\n",
    "def get_job_name(s):\n",
    "    s =  s.split(\":\")[-1]\n",
    "    return s\n",
    "def json_to_job(j):\n",
    "    job_type = j[\"Type\"]\n",
    "    job_name = get_job_name(job_type) + \"Job\"\n",
    "    job_name = job_name.replace(\" \",\"_\")\n",
    "    folder_name = job_type.replace(\":\",\"/\").split(\"/\")[:-1]\n",
    "    folder_name = \"../new\" + \"/\".join(folder_name) \n",
    "    folder_name = folder_name.replace(\"Job\",\"Jobs\")\n",
    "    file_name = folder_name + \"/\" + job_name + \".py\"\n",
    "    print(job_type, file_name, job_name)\n",
    "    try:\n",
    "        os.makedirs(folder_name)\n",
    "        with open(folder_name+\"/__init__.py\",\"w\") as f:\n",
    "            f.write(\"\")\n",
    "\n",
    "    except FileExistsError:\n",
    "        # directory already exists\n",
    "        pass\n",
    "    with open(file_name,\"w\") as f:\n",
    "        params = {}\n",
    "        f.write(\"from naga.jobs.base import BaseJob\\n\")\n",
    "        f.write(\"\\n\")\n",
    "        f.write(\"class {}(BaseJob):\\n\".format(job_name))\n",
    "        f.write(\"\\tdef __init__(self, folder, job_name, \\n\")\n",
    "        for k in j.keys():\n",
    "            if k not in [\"Type\",\"RunAs\",\"Host\"]:\n",
    "                params[k] = gen_name(k)\n",
    "                 f.write(\"\\t\\t\\tif {} not None:},\\n\".format(params[k]))             \n",
    "                f.write(\"\\t\\t\\t\\t{},\\n\".format(params[k]))\n",
    "        f.write(\"\\t\\t\\thost=None, run_as=None, description=None):\\n\")\n",
    "        f.write(\"\\t\\tBaseJob.__init__(self, folder, job_name, description=description, host=host, run_as=run_as)\\n\")\n",
    "        for k in params:\n",
    "            f.write(\"\\t\\tself.{} = {}\\n\".format(params[k],params[k]))      \n",
    "        \n",
    "        f.write(\"\\n\")\n",
    "        f.write(\"\\tdef get_json(self):\\n\")\n",
    "        f.write(\"\\t\\tjob_json = BaseJob.get_json(self)\\n\")\n",
    "        f.write(\"\\t\\tjob_json['Type'] = '{}'\\n\".format(job_type))\n",
    "        for k in params:\n",
    "            f.write(\"\\t\\tjob_json['{}'] = self.{}\\n\".format(k,params[k]) )\n",
    "        f.write(\"\\t\\treturn job_json\\n\")\n",
    "\n",
    " \n",
    "\n",
    "\n",
    "\n",
    "\n",
    "\n",
    "\n",
    "files = glob.glob(\"jobs/*.json\")  \n",
    "for file in files[:]: \n",
    "    f = open(file) \n",
    "    mj = json.load(f) \n",
    "    json_to_job(mj)"
   ]
  },
  {
   "cell_type": "code",
   "execution_count": null,
   "metadata": {},
   "outputs": [],
   "source": []
  },
  {
   "cell_type": "code",
   "execution_count": null,
   "metadata": {},
   "outputs": [],
   "source": []
  }
 ]
}